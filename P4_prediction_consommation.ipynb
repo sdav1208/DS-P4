{
 "cells": [
  {
   "cell_type": "markdown",
   "id": "44cee081",
   "metadata": {
    "toc": true
   },
   "source": [
    "<h1>Modélisation pour la consommation d'énergie des bâtiments non résidentiels de Seattle<span class=\"tocSkip\"></span></h1>\n",
    "<div class=\"toc\"><ul class=\"toc-item\"><li><span><a href=\"#1.-Preliminary\" data-toc-modified-id=\"1.-Preliminary-1\">1. Preliminary</a></span><ul class=\"toc-item\"><li><span><a href=\"#1.1-Context\" data-toc-modified-id=\"1.1-Context-1.1\">1.1 Context</a></span></li><li><span><a href=\"#1.2-Requirements\" data-toc-modified-id=\"1.2-Requirements-1.2\">1.2 Requirements</a></span></li><li><span><a href=\"#1.3-Imports\" data-toc-modified-id=\"1.3-Imports-1.3\">1.3 Imports</a></span></li><li><span><a href=\"#1.4-Graphics-and-options\" data-toc-modified-id=\"1.4-Graphics-and-options-1.4\">1.4 Graphics and options</a></span></li><li><span><a href=\"#1.5-Data-loading\" data-toc-modified-id=\"1.5-Data-loading-1.5\">1.5 Data loading</a></span></li></ul></li><li><span><a href=\"#2.-Data-preparation\" data-toc-modified-id=\"2.-Data-preparation-2\">2. Data preparation</a></span><ul class=\"toc-item\"><li><ul class=\"toc-item\"><li><span><a href=\"#2.1.1-X-&amp;-y\" data-toc-modified-id=\"2.1.1-X-&amp;-y-2.0.1\">2.1.1 X &amp; y</a></span></li><li><span><a href=\"#2.1.2-Preprocessing--des-variables-du-jeu-de-données-avec-transformers-ScandardScaler-et-OneHotEncoder\" data-toc-modified-id=\"2.1.2-Preprocessing--des-variables-du-jeu-de-données-avec-transformers-ScandardScaler-et-OneHotEncoder-2.0.2\">2.1.2 Preprocessing  des variables du jeu de données avec transformers ScandardScaler et OneHotEncoder</a></span></li><li><span><a href=\"#2.1.3-Création-d'un-Pipeline-et-entrainement-du-modèle-avec-une-régression-RF\" data-toc-modified-id=\"2.1.3-Création-d'un-Pipeline-et-entrainement-du-modèle-avec-une-régression-RF-2.0.3\">2.1.3 Création d'un Pipeline et entrainement du modèle avec une régression RF</a></span></li><li><span><a href=\"#2.1.4-Recherche-des-meilleurs-paramètres-avec-GridSearchCV\" data-toc-modified-id=\"2.1.4-Recherche-des-meilleurs-paramètres-avec-GridSearchCV-2.0.4\">2.1.4 Recherche des meilleurs paramètres avec GridSearchCV</a></span></li><li><span><a href=\"#2.1.5-Importance-des-variables-du-dataset-dans-la-regression-RF\" data-toc-modified-id=\"2.1.5-Importance-des-variables-du-dataset-dans-la-regression-RF-2.0.5\">2.1.5 Importance des variables du dataset dans la regression RF</a></span></li><li><span><a href=\"#2.1.6-Sélection-des-variables-avec-le-transformer-VarianceThresold-(seuil-de-variance-minimale-en-dessous-duquel-les-variables-ne-sont-pas-conservées)\" data-toc-modified-id=\"2.1.6-Sélection-des-variables-avec-le-transformer-VarianceThresold-(seuil-de-variance-minimale-en-dessous-duquel-les-variables-ne-sont-pas-conservées)-2.0.6\">2.1.6 Sélection des variables avec le transformer VarianceThresold (seuil de variance minimale en dessous duquel les variables ne sont pas conservées)</a></span></li></ul></li><li><span><a href=\"#2.2-découpage-de-dataset-avec-le-transformer-Test_train_split\" data-toc-modified-id=\"2.2-découpage-de-dataset-avec-le-transformer-Test_train_split-2.1\">2.2 découpage de dataset avec le transformer Test_train_split</a></span></li></ul></li><li><span><a href=\"#3.-Modélisation\" data-toc-modified-id=\"3.-Modélisation-3\">3. Modélisation</a></span><ul class=\"toc-item\"><li><ul class=\"toc-item\"><li><span><a href=\"#3.0-Dummy-Regressor\" data-toc-modified-id=\"3.0-Dummy-Regressor-3.0.1\">3.0 Dummy Regressor</a></span></li><li><span><a href=\"#3.1--Régression-linéaire\" data-toc-modified-id=\"3.1--Régression-linéaire-3.0.2\">3.1  Régression linéaire</a></span></li><li><span><a href=\"#3.2-Elastic-Net\" data-toc-modified-id=\"3.2-Elastic-Net-3.0.3\">3.2 Elastic Net</a></span></li><li><span><a href=\"#3.3-Random-forest\" data-toc-modified-id=\"3.3-Random-forest-3.0.4\">3.3 Random forest</a></span></li><li><span><a href=\"#3.4-Bagging-Regressor\" data-toc-modified-id=\"3.4-Bagging-Regressor-3.0.5\">3.4 Bagging Regressor</a></span></li><li><span><a href=\"#3.5-Support-Vector-Machines-:-on-va-utiliser--linearSVR\" data-toc-modified-id=\"3.5-Support-Vector-Machines-:-on-va-utiliser--linearSVR-3.0.6\">3.5 Support Vector Machines : on va utiliser  linearSVR</a></span></li><li><span><a href=\"#3.6-SVR-à-noyau\" data-toc-modified-id=\"3.6-SVR-à-noyau-3.0.7\">3.6 SVR à noyau</a></span></li><li><span><a href=\"#3.7-Gradient-Boosting\" data-toc-modified-id=\"3.7-Gradient-Boosting-3.0.8\">3.7 Gradient Boosting</a></span></li><li><span><a href=\"#3.8-KNN\" data-toc-modified-id=\"3.8-KNN-3.0.9\">3.8 KNN</a></span></li></ul></li></ul></li><li><span><a href=\"#4.-Comparaison-des-modèles\" data-toc-modified-id=\"4.-Comparaison-des-modèles-4\">4. Comparaison des modèles</a></span><ul class=\"toc-item\"><li><ul class=\"toc-item\"><li><span><a href=\"#4.1-Graphiques-comparatifs-des-RMSE-et-des-temps-d'exécution.\" data-toc-modified-id=\"4.1-Graphiques-comparatifs-des-RMSE-et-des-temps-d'exécution.-4.0.1\">4.1 Graphiques comparatifs des RMSE et des temps d'exécution.</a></span></li><li><span><a href=\"#4.2-Importance-des-variables\" data-toc-modified-id=\"4.2-Importance-des-variables-4.0.2\">4.2 Importance des variables</a></span></li></ul></li></ul></li><li><span><a href=\"#5.-Modèle-retenu\" data-toc-modified-id=\"5.-Modèle-retenu-5\">5. Modèle retenu</a></span></li></ul></div>"
   ]
  },
  {
   "cell_type": "markdown",
   "id": "f1d08796",
   "metadata": {},
   "source": [
    "\n",
    "        \n",
    "\n",
    "       "
   ]
  },
  {
   "cell_type": "markdown",
   "id": "3e55c95a",
   "metadata": {},
   "source": [
    "\n",
    "\n",
    "# 1. Preliminary\n"
   ]
  },
  {
   "cell_type": "markdown",
   "id": "47cd214f",
   "metadata": {},
   "source": [
    "##  1.1 Context"
   ]
  },
  {
   "cell_type": "markdown",
   "id": "47190818",
   "metadata": {},
   "source": [
    "Pour atteindre l'objectif de ville neutre en émissions de carbone en 2050, la ville de Seattle s’intéresse de près aux émissions des bâtiments non résidentiels. Des relevés ont été faits en 2016 mais le coût est important. \n",
    "Dès lors nous allons,à partir de ces relevés, mettre en place un modèle de prédiction des émissions de gaz à effet de serre et de consommation d’énergie des bâtiments pour lesquels les mesures n'ont pas encore été faites."
   ]
  },
  {
   "cell_type": "markdown",
   "id": "4650811d",
   "metadata": {},
   "source": [
    "## 1.2 Requirements\n",
    "\n",
    "Pandas\n",
    "numpy\n",
    "\n",
    "scikit-learn\n",
    "\n",
    "matplotlib\\\n",
    "seaborn"
   ]
  },
  {
   "cell_type": "code",
   "execution_count": 1,
   "id": "2d2b5e25",
   "metadata": {},
   "outputs": [],
   "source": [
    "package_list=(\"pandas\",\"numpy\",\"matplotlib\",\"scikit-learn\",\"seaborn\")"
   ]
  },
  {
   "cell_type": "code",
   "execution_count": 2,
   "id": "11a5e5f8",
   "metadata": {},
   "outputs": [
    {
     "name": "stdout",
     "output_type": "stream",
     "text": [
      "No global/local python version has been set yet. Please set the global/local version by typing:\n",
      "pyenv global 3.7.4\n",
      "pyenv local 3.7.4\n"
     ]
    }
   ],
   "source": [
    "!python3 -V"
   ]
  },
  {
   "cell_type": "code",
   "execution_count": 3,
   "id": "a1de840e",
   "metadata": {},
   "outputs": [
    {
     "data": {
      "text/plain": [
       "['matplotlib @ file:///C:/b/abs_085jhivdha/croot/matplotlib-suite_1693812524572/work',\n",
       " 'matplotlib-inline @ file:///C:/ci_311/matplotlib-inline_1676425798036/work',\n",
       " 'numpy @ file:///C:/Users/dev-admin/mkl/numpy_and_numpy_base_1682982345978/work',\n",
       " 'numpydoc @ file:///C:/ci_311/numpydoc_1676453412027/work',\n",
       " 'pandas @ file:///C:/miniconda3/conda-bld/pandas_1692298018988/work',\n",
       " 'scikit-learn==1.2.1',\n",
       " 'scikit-learn-intelex==20230426.121932',\n",
       " 'seaborn @ file:///C:/ci_311/seaborn_1676446547861/work']"
      ]
     },
     "execution_count": 3,
     "metadata": {},
     "output_type": "execute_result"
    }
   ],
   "source": [
    "txt=!python -m pip freeze\n",
    "check = lambda i :any([(pack in i) for pack in package_list])\n",
    "txt=[i for i in txt if check(i)]\n",
    "txt"
   ]
  },
  {
   "cell_type": "markdown",
   "id": "6eebda86",
   "metadata": {},
   "source": [
    "## 1.3 Imports"
   ]
  },
  {
   "cell_type": "code",
   "execution_count": 4,
   "id": "0302970e",
   "metadata": {},
   "outputs": [],
   "source": [
    "# builtin\n",
    "import os,warnings,sys\n",
    "\n",
    "# data\n",
    "import pandas as pd\n",
    "import numpy as np\n",
    "\n",
    "\n",
    "\n",
    "# visualisation\n",
    "import matplotlib as mtpl\n",
    "import matplotlib.pyplot as plt\n",
    "import seaborn as sns\n",
    "\n",
    "# preprocessing\n",
    "from sklearn.preprocessing import OneHotEncoder, StandardScaler,RobustScaler\n",
    "\n",
    "\n",
    "#estimators\n",
    "import sklearn\n",
    "from sklearn import linear_model\n",
    "from sklearn.dummy import DummyRegressor\n",
    "from sklearn.linear_model import LinearRegression\n",
    "\n",
    "from sklearn.linear_model import SGDRegressor\n",
    "from sklearn.linear_model import ElasticNet\n",
    "\n",
    "from sklearn.svm import SVR, LinearSVR\n",
    "\n",
    "from sklearn.compose import ColumnTransformer\n",
    "\n",
    "from sklearn.ensemble import RandomForestRegressor, BaggingRegressor, GradientBoostingRegressor  \n",
    "\n",
    "\n",
    "from sklearn.neighbors import KNeighborsRegressor\n",
    "\n",
    "# model selection\n",
    "from sklearn.model_selection import train_test_split,cross_validate\n",
    "from sklearn.model_selection import GridSearchCV\n",
    "from sklearn.model_selection import RandomizedSearchCV\n",
    "from sklearn.model_selection import cross_val_score\n",
    "from sklearn.model_selection import RepeatedKFold\n",
    "\n",
    "from sklearn.pipeline import Pipeline\n",
    "\n",
    "from sklearn import set_config\n",
    "set_config(display='diagram') \n",
    "\n",
    "import time\n",
    "\n",
    "\n",
    "\n",
    "#feature selection\n",
    "from sklearn.feature_selection import SelectFromModel\n",
    "from sklearn.feature_selection import r_regression,f_regression\n",
    "from sklearn.feature_selection import SelectKBest\n",
    "from sklearn.feature_selection import VarianceThreshold\n",
    "\n",
    "# metrics\n",
    "from sklearn.metrics import r2_score,mean_absolute_percentage_error,  mean_absolute_error, mean_squared_error\n",
    "\n",
    "\n",
    "\n",
    "from pprint import pprint"
   ]
  },
  {
   "cell_type": "code",
   "execution_count": null,
   "id": "8970bf89",
   "metadata": {},
   "outputs": [],
   "source": [
    "# Define the custom scoring function\n",
    "def custom_score(y_true, y_pred):\n",
    "    return fbeta_score(y_true, y_pred, beta=2)"
   ]
  },
  {
   "cell_type": "code",
   "execution_count": 5,
   "id": "1f472732",
   "metadata": {},
   "outputs": [],
   "source": [
    "def score(estimator):\n",
    "    \"\"\"compute and print train score and test score\"\"\"\n",
    "    tr_score=estimator.score(X_train,y_train).round(4)\n",
    "    te_score=estimator.score(X_test,y_test).round(4)\n",
    "    print(f\"score train : {tr_score} score_test : {te_score} \")\n",
    "    "
   ]
  },
  {
   "cell_type": "code",
   "execution_count": 6,
   "id": "740eeb64",
   "metadata": {},
   "outputs": [],
   "source": [
    "def timeit(f):\n",
    "\n",
    "    def timed(*args, **kw):\n",
    "\n",
    "        ts = time.time()\n",
    "        result = f(*args, **kw)\n",
    "        te = time.time()\n",
    "\n",
    "        print (f\"Durée d'exécution de {f.__name__}: {te-ts}s\")\n",
    "        return result\n",
    "\n",
    "    return timed"
   ]
  },
  {
   "cell_type": "code",
   "execution_count": 7,
   "id": "b5e84dc8",
   "metadata": {},
   "outputs": [],
   "source": [
    "@timeit\n",
    "def regression(model,name,X_train,y_train):\n",
    "    metrics = ['r2','neg_mean_absolute_error', 'neg_mean_squared_error']\n",
    "    score = cross_validate(model,X,y,cv=10, scoring = metrics, return_train_score = True)\n",
    "    \n",
    "    dico = {\n",
    "        'modèle ': [name],\n",
    "        'Fit time': [score['fit_time'].mean()],\n",
    "        'Durée': [score['score_time'].mean()],\n",
    "        'Train R2': [score['train_r2'].mean()],\n",
    "        'Test R2': [score['test_r2'].mean()],\n",
    "        'Train RMSE': [np.sqrt(- (score['train_neg_mean_squared_error'].mean()))],\n",
    "        'Test RMSE': [np.sqrt(- (score['test_neg_mean_squared_error'].mean()))],\n",
    "        'Train MAE': [- (score['train_neg_mean_absolute_error'].mean())],\n",
    "        'Test MAE': [- (score['test_neg_mean_absolute_error'].mean())]\n",
    "         }\n",
    "    df_dico = pd.DataFrame(dico)\n",
    "    return df_dico"
   ]
  },
  {
   "cell_type": "code",
   "execution_count": 8,
   "id": "2525dc1c",
   "metadata": {},
   "outputs": [],
   "source": [
    "@timeit\n",
    "def compare_resultat(X_train,y_train):\n",
    "    resultats = pd.DataFrame()\n",
    "    model =[]\n",
    "    model.append(('Dummy_regressor',DummyRegressor()))\n",
    "    model.append(('Linear_regression', linear_model.LinearRegression()))\n",
    "    model.append(('Elastic net', ElasticNet(random_state=seed)))\n",
    "    model.append(('Random_forest', RandomForestRegressor(random_state=seed)))\n",
    "    model.append(('Bagging regressor',BaggingRegressor(random_state=seed)))\n",
    "    model.append(('LinearSVR', LinearSVR(random_state=seed))),\n",
    "    model.append(('KernelSVR', SVR(kernel='linear'))),\n",
    "    model.append(('GradientBoostingRegressor',GradientBoostingRegressor(random_state=seed)))\n",
    "    model.append(('Knn',  KNeighborsRegressor() ))\n",
    "       \n",
    "    for name, mod in model: \n",
    "        res = regression(mod, name,X_train,y_train)\n",
    "        resultats = pd.concat([resultats,res], ignore_index=True)\n",
    "    return resultats.style.hide_index()"
   ]
  },
  {
   "cell_type": "code",
   "execution_count": 9,
   "id": "00c04b56",
   "metadata": {},
   "outputs": [],
   "source": [
    "@timeit\n",
    "def gridCV(model, parameters,X_train,y_train, cv):\n",
    "    model_grid= GridSearchCV(estimator = model,\n",
    "                        param_grid = parameters,\n",
    "                        scoring='neg_root_mean_squared_error',\n",
    "                        cv=cv,\n",
    "                        return_train_score = True\n",
    "                          )\n",
    "    model_grid.fit(X_train,y_train)\n",
    "    return model_grid"
   ]
  },
  {
   "cell_type": "code",
   "execution_count": 10,
   "id": "48bc5fce",
   "metadata": {},
   "outputs": [],
   "source": [
    "@timeit\n",
    "def resultats_grid(model_grid, name,X_train, y_train):\n",
    "    #Récupération des paramètres de la grille. \n",
    "    cv_grid = pd.DataFrame(model_grid.cv_results_)\n",
    "    \n",
    "    y_pred = model_grid.predict(X_train)\n",
    "    rmse= np.sqrt(sklearn.metrics.mean_squared_error(y_train, y_pred))\n",
    "    r2=sklearn.metrics.r2_score(y_train,y_pred)\n",
    "    #creation d'un dataframe des résultats\n",
    "    results = {\n",
    "        'modèle': [name],\n",
    "        'Fit time': [cv_grid['mean_fit_time'].mean()],\n",
    "        'Score time': [cv_grid['mean_score_time'].mean()],\n",
    "        #'Best score RMSE': [-(model_grid.best_score_)],\n",
    "        'Mean train score RMSE': [-(cv_grid[\"mean_train_score\"].mean())],\n",
    "        'Mean test score RMSE' : [-(cv_grid[\"mean_test_score\"].mean())],\n",
    "        'Best estimator': [model_grid.best_params_],\n",
    "        'RMSE best estimator':[rmse],\n",
    "        #'R2 best estimator':[r2]\n",
    "         }\n",
    "    df_resultats = pd.DataFrame(results)\n",
    "\n",
    "    return df_resultats"
   ]
  },
  {
   "cell_type": "markdown",
   "id": "6413fa0a",
   "metadata": {},
   "source": [
    "## 1.4 Graphics and options"
   ]
  },
  {
   "cell_type": "code",
   "execution_count": 11,
   "id": "a29e1ec4",
   "metadata": {},
   "outputs": [
    {
     "name": "stdout",
     "output_type": "stream",
     "text": [
      "Version des librairies utilisées :\n",
      "NumPy                 : 1.20.1\n",
      "Pandas                : 1.2.4\n",
      "Python                : 3.8.8 (default, Apr 13 2021, 15:08:03) [MSC v.1916 64 bit (AMD64)]\n",
      "Matplotlib            : 3.7.1\n",
      "Seaborn               : 0.11.1\n",
      "Sklearn               : 1.2.1\n"
     ]
    }
   ],
   "source": [
    "# warnings.filterxarnings('ignore'ou once\n",
    "warnings.filterwarnings(action='ignore')\n",
    "# nous désactivons les messages d'erreur\n",
    "pd.set_option('display.max_columns', 200)\n",
    "# Versions\n",
    "print('Version des librairies utilisées :')\n",
    "\n",
    "print('NumPy                 : ' + np.version.full_version)\n",
    "print('Pandas                : ' + pd.__version__)\n",
    "print('Python                : ' + sys.version)\n",
    "print('Matplotlib            : ' + mtpl.__version__)\n",
    "print('Seaborn               : ' + sns.__version__)\n",
    "print('Sklearn               : ' + sklearn.__version__)"
   ]
  },
  {
   "cell_type": "markdown",
   "id": "2eb03e04",
   "metadata": {},
   "source": [
    "## 1.5 Data loading"
   ]
  },
  {
   "cell_type": "code",
   "execution_count": 12,
   "id": "81df1958",
   "metadata": {},
   "outputs": [
    {
     "data": {
      "text/plain": [
       "['.ipynb_checkpoints',\n",
       " 'P4_1_Notebook_exploratoire.ipynb',\n",
       " 'P4_2_consommation.ipynb',\n",
       " 'P4_3_emission.ipynb',\n",
       " 'P4_clean_sd-checkpoint.ipynb',\n",
       " 'P4_consommation.ipynb',\n",
       " 'P4_emi_old.ipynb',\n",
       " 'Untitled.ipynb']"
      ]
     },
     "execution_count": 12,
     "metadata": {},
     "output_type": "execute_result"
    }
   ],
   "source": [
    "os.listdir()"
   ]
  },
  {
   "cell_type": "code",
   "execution_count": 13,
   "id": "9c4bc9fc",
   "metadata": {},
   "outputs": [],
   "source": [
    "path =('C:\\\\Users\\\\serge\\\\OneDrive\\\\Documents\\\\Documents\\\\DATA SCIENTIST\\\\P4\\\\cleaned\\\\')\n",
    "filename='df_cleaned_p4.csv'   ## ou df_cleaned_p4.csv"
   ]
  },
  {
   "cell_type": "code",
   "execution_count": 14,
   "id": "58506bb5",
   "metadata": {},
   "outputs": [],
   "source": [
    "data=pd.read_csv(path+filename)"
   ]
  },
  {
   "cell_type": "markdown",
   "id": "1a7770f0",
   "metadata": {},
   "source": [
    "# 2. Data preparation"
   ]
  },
  {
   "cell_type": "code",
   "execution_count": 15,
   "id": "fd9a3e2c",
   "metadata": {},
   "outputs": [
    {
     "name": "stdout",
     "output_type": "stream",
     "text": [
      "<class 'pandas.core.frame.DataFrame'>\n",
      "RangeIndex: 1534 entries, 0 to 1533\n",
      "Data columns (total 19 columns):\n",
      " #   Column                           Non-Null Count  Dtype  \n",
      "---  ------                           --------------  -----  \n",
      " 0   BuildingType                     1534 non-null   object \n",
      " 1   PrimaryPropertyType              1534 non-null   object \n",
      " 2   Neighborhood                     1534 non-null   object \n",
      " 3   Latitude                         1534 non-null   float64\n",
      " 4   Longitude                        1534 non-null   float64\n",
      " 5   NumberofFloors                   1534 non-null   int64  \n",
      " 6   LargestPropertyUseType           1534 non-null   object \n",
      " 7   LargestPropertyUseTypeGFA        1534 non-null   float64\n",
      " 8   SecondLargestPropertyUseType     1534 non-null   object \n",
      " 9   SecondLargestPropertyUseTypeGFA  1534 non-null   float64\n",
      " 10  ThirdLargestPropertyUseType      1534 non-null   object \n",
      " 11  ThirdLargestPropertyUseTypeGFA   1534 non-null   float64\n",
      " 12  ratio_parking                    1534 non-null   float64\n",
      " 13  Building_age                     1534 non-null   int64  \n",
      " 14  log_consommation                 1534 non-null   float64\n",
      " 15  log_emission                     1534 non-null   float64\n",
      " 16  SteamUse_ratio                   1534 non-null   float64\n",
      " 17  Electricity_ratio                1534 non-null   float64\n",
      " 18  NaturalGas_ratio                 1534 non-null   float64\n",
      "dtypes: float64(11), int64(2), object(6)\n",
      "memory usage: 227.8+ KB\n"
     ]
    }
   ],
   "source": [
    "data.info()"
   ]
  },
  {
   "cell_type": "markdown",
   "id": "f31d82f2",
   "metadata": {},
   "source": [
    "Retirons les variables 'log_emission'"
   ]
  },
  {
   "cell_type": "code",
   "execution_count": 16,
   "id": "2cf5fd86",
   "metadata": {},
   "outputs": [],
   "source": [
    "data.drop(columns=['log_emission'],inplace=True)"
   ]
  },
  {
   "cell_type": "code",
   "execution_count": 17,
   "id": "afa62d77",
   "metadata": {},
   "outputs": [],
   "source": [
    "# la target est log_consommation\n",
    "df=data.copy()"
   ]
  },
  {
   "cell_type": "markdown",
   "id": "b81d61be",
   "metadata": {},
   "source": [
    "### 2.1.1 X & y"
   ]
  },
  {
   "cell_type": "code",
   "execution_count": 18,
   "id": "c7bc9ee6",
   "metadata": {},
   "outputs": [],
   "source": [
    "seed=1234\n",
    "X=df.drop(columns=['log_consommation'])\n",
    "y=df.log_consommation"
   ]
  },
  {
   "cell_type": "code",
   "execution_count": 19,
   "id": "ca54bc61",
   "metadata": {},
   "outputs": [
    {
     "data": {
      "text/plain": [
       "(1534, 17)"
      ]
     },
     "execution_count": 19,
     "metadata": {},
     "output_type": "execute_result"
    }
   ],
   "source": [
    "X.shape"
   ]
  },
  {
   "cell_type": "code",
   "execution_count": 20,
   "id": "a353a2a6",
   "metadata": {
    "scrolled": true
   },
   "outputs": [
    {
     "data": {
      "text/html": [
       "<div>\n",
       "<style scoped>\n",
       "    .dataframe tbody tr th:only-of-type {\n",
       "        vertical-align: middle;\n",
       "    }\n",
       "\n",
       "    .dataframe tbody tr th {\n",
       "        vertical-align: top;\n",
       "    }\n",
       "\n",
       "    .dataframe thead th {\n",
       "        text-align: right;\n",
       "    }\n",
       "</style>\n",
       "<table border=\"1\" class=\"dataframe\">\n",
       "  <thead>\n",
       "    <tr style=\"text-align: right;\">\n",
       "      <th></th>\n",
       "      <th>BuildingType</th>\n",
       "      <th>PrimaryPropertyType</th>\n",
       "      <th>Neighborhood</th>\n",
       "      <th>Latitude</th>\n",
       "      <th>Longitude</th>\n",
       "      <th>NumberofFloors</th>\n",
       "      <th>LargestPropertyUseType</th>\n",
       "      <th>LargestPropertyUseTypeGFA</th>\n",
       "      <th>SecondLargestPropertyUseType</th>\n",
       "      <th>SecondLargestPropertyUseTypeGFA</th>\n",
       "      <th>ThirdLargestPropertyUseType</th>\n",
       "      <th>ThirdLargestPropertyUseTypeGFA</th>\n",
       "      <th>ratio_parking</th>\n",
       "      <th>Building_age</th>\n",
       "      <th>SteamUse_ratio</th>\n",
       "      <th>Electricity_ratio</th>\n",
       "      <th>NaturalGas_ratio</th>\n",
       "    </tr>\n",
       "  </thead>\n",
       "  <tbody>\n",
       "    <tr>\n",
       "      <th>0</th>\n",
       "      <td>NonResidential</td>\n",
       "      <td>Hotel</td>\n",
       "      <td>DOWNTOWN</td>\n",
       "      <td>47.61220</td>\n",
       "      <td>-122.33799</td>\n",
       "      <td>12</td>\n",
       "      <td>Hotel</td>\n",
       "      <td>88434.0</td>\n",
       "      <td>0</td>\n",
       "      <td>0.0</td>\n",
       "      <td>0</td>\n",
       "      <td>0.0</td>\n",
       "      <td>0.000000</td>\n",
       "      <td>89</td>\n",
       "      <td>0.277302</td>\n",
       "      <td>0.546060</td>\n",
       "      <td>0.176638</td>\n",
       "    </tr>\n",
       "    <tr>\n",
       "      <th>1</th>\n",
       "      <td>NonResidential</td>\n",
       "      <td>Hotel</td>\n",
       "      <td>DOWNTOWN</td>\n",
       "      <td>47.61317</td>\n",
       "      <td>-122.33393</td>\n",
       "      <td>11</td>\n",
       "      <td>Hotel</td>\n",
       "      <td>83880.0</td>\n",
       "      <td>Parking</td>\n",
       "      <td>15064.0</td>\n",
       "      <td>Restaurant</td>\n",
       "      <td>4622.0</td>\n",
       "      <td>0.145453</td>\n",
       "      <td>20</td>\n",
       "      <td>0.000000</td>\n",
       "      <td>0.386609</td>\n",
       "      <td>0.613391</td>\n",
       "    </tr>\n",
       "    <tr>\n",
       "      <th>2</th>\n",
       "      <td>NonResidential</td>\n",
       "      <td>Hotel</td>\n",
       "      <td>DOWNTOWN</td>\n",
       "      <td>47.61393</td>\n",
       "      <td>-122.33810</td>\n",
       "      <td>41</td>\n",
       "      <td>Hotel</td>\n",
       "      <td>756493.0</td>\n",
       "      <td>0</td>\n",
       "      <td>0.0</td>\n",
       "      <td>0</td>\n",
       "      <td>0.0</td>\n",
       "      <td>0.205748</td>\n",
       "      <td>47</td>\n",
       "      <td>0.297113</td>\n",
       "      <td>0.682307</td>\n",
       "      <td>0.020579</td>\n",
       "    </tr>\n",
       "    <tr>\n",
       "      <th>3</th>\n",
       "      <td>NonResidential</td>\n",
       "      <td>Hotel</td>\n",
       "      <td>DOWNTOWN</td>\n",
       "      <td>47.61412</td>\n",
       "      <td>-122.33664</td>\n",
       "      <td>10</td>\n",
       "      <td>Hotel</td>\n",
       "      <td>61320.0</td>\n",
       "      <td>0</td>\n",
       "      <td>0.0</td>\n",
       "      <td>0</td>\n",
       "      <td>0.0</td>\n",
       "      <td>0.000000</td>\n",
       "      <td>90</td>\n",
       "      <td>0.325913</td>\n",
       "      <td>0.407519</td>\n",
       "      <td>0.266567</td>\n",
       "    </tr>\n",
       "    <tr>\n",
       "      <th>4</th>\n",
       "      <td>NonResidential</td>\n",
       "      <td>Hotel</td>\n",
       "      <td>DOWNTOWN</td>\n",
       "      <td>47.61375</td>\n",
       "      <td>-122.34047</td>\n",
       "      <td>18</td>\n",
       "      <td>Hotel</td>\n",
       "      <td>123445.0</td>\n",
       "      <td>Parking</td>\n",
       "      <td>68009.0</td>\n",
       "      <td>Swimming Pool</td>\n",
       "      <td>0.0</td>\n",
       "      <td>0.353115</td>\n",
       "      <td>36</td>\n",
       "      <td>0.000000</td>\n",
       "      <td>0.378802</td>\n",
       "      <td>0.621198</td>\n",
       "    </tr>\n",
       "  </tbody>\n",
       "</table>\n",
       "</div>"
      ],
      "text/plain": [
       "     BuildingType PrimaryPropertyType Neighborhood  Latitude  Longitude  \\\n",
       "0  NonResidential               Hotel     DOWNTOWN  47.61220 -122.33799   \n",
       "1  NonResidential               Hotel     DOWNTOWN  47.61317 -122.33393   \n",
       "2  NonResidential               Hotel     DOWNTOWN  47.61393 -122.33810   \n",
       "3  NonResidential               Hotel     DOWNTOWN  47.61412 -122.33664   \n",
       "4  NonResidential               Hotel     DOWNTOWN  47.61375 -122.34047   \n",
       "\n",
       "   NumberofFloors LargestPropertyUseType  LargestPropertyUseTypeGFA  \\\n",
       "0              12                  Hotel                    88434.0   \n",
       "1              11                  Hotel                    83880.0   \n",
       "2              41                  Hotel                   756493.0   \n",
       "3              10                  Hotel                    61320.0   \n",
       "4              18                  Hotel                   123445.0   \n",
       "\n",
       "  SecondLargestPropertyUseType  SecondLargestPropertyUseTypeGFA  \\\n",
       "0                            0                              0.0   \n",
       "1                      Parking                          15064.0   \n",
       "2                            0                              0.0   \n",
       "3                            0                              0.0   \n",
       "4                      Parking                          68009.0   \n",
       "\n",
       "  ThirdLargestPropertyUseType  ThirdLargestPropertyUseTypeGFA  ratio_parking  \\\n",
       "0                           0                             0.0       0.000000   \n",
       "1                  Restaurant                          4622.0       0.145453   \n",
       "2                           0                             0.0       0.205748   \n",
       "3                           0                             0.0       0.000000   \n",
       "4               Swimming Pool                             0.0       0.353115   \n",
       "\n",
       "   Building_age  SteamUse_ratio  Electricity_ratio  NaturalGas_ratio  \n",
       "0            89        0.277302           0.546060          0.176638  \n",
       "1            20        0.000000           0.386609          0.613391  \n",
       "2            47        0.297113           0.682307          0.020579  \n",
       "3            90        0.325913           0.407519          0.266567  \n",
       "4            36        0.000000           0.378802          0.621198  "
      ]
     },
     "execution_count": 20,
     "metadata": {},
     "output_type": "execute_result"
    }
   ],
   "source": [
    "X.head()"
   ]
  },
  {
   "cell_type": "code",
   "execution_count": 21,
   "id": "1bc34d49",
   "metadata": {},
   "outputs": [
    {
     "data": {
      "text/plain": [
       "(1534,)"
      ]
     },
     "execution_count": 21,
     "metadata": {},
     "output_type": "execute_result"
    }
   ],
   "source": [
    "y.shape"
   ]
  },
  {
   "cell_type": "code",
   "execution_count": 22,
   "id": "4fde8cc0",
   "metadata": {},
   "outputs": [
    {
     "data": {
      "text/html": [
       "<div>\n",
       "<style scoped>\n",
       "    .dataframe tbody tr th:only-of-type {\n",
       "        vertical-align: middle;\n",
       "    }\n",
       "\n",
       "    .dataframe tbody tr th {\n",
       "        vertical-align: top;\n",
       "    }\n",
       "\n",
       "    .dataframe thead th {\n",
       "        text-align: right;\n",
       "    }\n",
       "</style>\n",
       "<table border=\"1\" class=\"dataframe\">\n",
       "  <thead>\n",
       "    <tr style=\"text-align: right;\">\n",
       "      <th></th>\n",
       "      <th>BuildingType</th>\n",
       "      <th>PrimaryPropertyType</th>\n",
       "      <th>Neighborhood</th>\n",
       "      <th>Latitude</th>\n",
       "      <th>Longitude</th>\n",
       "      <th>NumberofFloors</th>\n",
       "      <th>LargestPropertyUseType</th>\n",
       "      <th>LargestPropertyUseTypeGFA</th>\n",
       "      <th>SecondLargestPropertyUseType</th>\n",
       "      <th>SecondLargestPropertyUseTypeGFA</th>\n",
       "      <th>ThirdLargestPropertyUseType</th>\n",
       "      <th>ThirdLargestPropertyUseTypeGFA</th>\n",
       "      <th>ratio_parking</th>\n",
       "      <th>Building_age</th>\n",
       "      <th>SteamUse_ratio</th>\n",
       "      <th>Electricity_ratio</th>\n",
       "      <th>NaturalGas_ratio</th>\n",
       "    </tr>\n",
       "  </thead>\n",
       "  <tbody>\n",
       "    <tr>\n",
       "      <th>0</th>\n",
       "      <td>NonResidential</td>\n",
       "      <td>Hotel</td>\n",
       "      <td>DOWNTOWN</td>\n",
       "      <td>47.61220</td>\n",
       "      <td>-122.33799</td>\n",
       "      <td>12</td>\n",
       "      <td>Hotel</td>\n",
       "      <td>88434.0</td>\n",
       "      <td>0</td>\n",
       "      <td>0.0</td>\n",
       "      <td>0</td>\n",
       "      <td>0.0</td>\n",
       "      <td>0.000000</td>\n",
       "      <td>89</td>\n",
       "      <td>0.277302</td>\n",
       "      <td>0.546060</td>\n",
       "      <td>0.176638</td>\n",
       "    </tr>\n",
       "    <tr>\n",
       "      <th>1</th>\n",
       "      <td>NonResidential</td>\n",
       "      <td>Hotel</td>\n",
       "      <td>DOWNTOWN</td>\n",
       "      <td>47.61317</td>\n",
       "      <td>-122.33393</td>\n",
       "      <td>11</td>\n",
       "      <td>Hotel</td>\n",
       "      <td>83880.0</td>\n",
       "      <td>Parking</td>\n",
       "      <td>15064.0</td>\n",
       "      <td>Restaurant</td>\n",
       "      <td>4622.0</td>\n",
       "      <td>0.145453</td>\n",
       "      <td>20</td>\n",
       "      <td>0.000000</td>\n",
       "      <td>0.386609</td>\n",
       "      <td>0.613391</td>\n",
       "    </tr>\n",
       "    <tr>\n",
       "      <th>2</th>\n",
       "      <td>NonResidential</td>\n",
       "      <td>Hotel</td>\n",
       "      <td>DOWNTOWN</td>\n",
       "      <td>47.61393</td>\n",
       "      <td>-122.33810</td>\n",
       "      <td>41</td>\n",
       "      <td>Hotel</td>\n",
       "      <td>756493.0</td>\n",
       "      <td>0</td>\n",
       "      <td>0.0</td>\n",
       "      <td>0</td>\n",
       "      <td>0.0</td>\n",
       "      <td>0.205748</td>\n",
       "      <td>47</td>\n",
       "      <td>0.297113</td>\n",
       "      <td>0.682307</td>\n",
       "      <td>0.020579</td>\n",
       "    </tr>\n",
       "    <tr>\n",
       "      <th>3</th>\n",
       "      <td>NonResidential</td>\n",
       "      <td>Hotel</td>\n",
       "      <td>DOWNTOWN</td>\n",
       "      <td>47.61412</td>\n",
       "      <td>-122.33664</td>\n",
       "      <td>10</td>\n",
       "      <td>Hotel</td>\n",
       "      <td>61320.0</td>\n",
       "      <td>0</td>\n",
       "      <td>0.0</td>\n",
       "      <td>0</td>\n",
       "      <td>0.0</td>\n",
       "      <td>0.000000</td>\n",
       "      <td>90</td>\n",
       "      <td>0.325913</td>\n",
       "      <td>0.407519</td>\n",
       "      <td>0.266567</td>\n",
       "    </tr>\n",
       "    <tr>\n",
       "      <th>4</th>\n",
       "      <td>NonResidential</td>\n",
       "      <td>Hotel</td>\n",
       "      <td>DOWNTOWN</td>\n",
       "      <td>47.61375</td>\n",
       "      <td>-122.34047</td>\n",
       "      <td>18</td>\n",
       "      <td>Hotel</td>\n",
       "      <td>123445.0</td>\n",
       "      <td>Parking</td>\n",
       "      <td>68009.0</td>\n",
       "      <td>Swimming Pool</td>\n",
       "      <td>0.0</td>\n",
       "      <td>0.353115</td>\n",
       "      <td>36</td>\n",
       "      <td>0.000000</td>\n",
       "      <td>0.378802</td>\n",
       "      <td>0.621198</td>\n",
       "    </tr>\n",
       "  </tbody>\n",
       "</table>\n",
       "</div>"
      ],
      "text/plain": [
       "     BuildingType PrimaryPropertyType Neighborhood  Latitude  Longitude  \\\n",
       "0  NonResidential               Hotel     DOWNTOWN  47.61220 -122.33799   \n",
       "1  NonResidential               Hotel     DOWNTOWN  47.61317 -122.33393   \n",
       "2  NonResidential               Hotel     DOWNTOWN  47.61393 -122.33810   \n",
       "3  NonResidential               Hotel     DOWNTOWN  47.61412 -122.33664   \n",
       "4  NonResidential               Hotel     DOWNTOWN  47.61375 -122.34047   \n",
       "\n",
       "   NumberofFloors LargestPropertyUseType  LargestPropertyUseTypeGFA  \\\n",
       "0              12                  Hotel                    88434.0   \n",
       "1              11                  Hotel                    83880.0   \n",
       "2              41                  Hotel                   756493.0   \n",
       "3              10                  Hotel                    61320.0   \n",
       "4              18                  Hotel                   123445.0   \n",
       "\n",
       "  SecondLargestPropertyUseType  SecondLargestPropertyUseTypeGFA  \\\n",
       "0                            0                              0.0   \n",
       "1                      Parking                          15064.0   \n",
       "2                            0                              0.0   \n",
       "3                            0                              0.0   \n",
       "4                      Parking                          68009.0   \n",
       "\n",
       "  ThirdLargestPropertyUseType  ThirdLargestPropertyUseTypeGFA  ratio_parking  \\\n",
       "0                           0                             0.0       0.000000   \n",
       "1                  Restaurant                          4622.0       0.145453   \n",
       "2                           0                             0.0       0.205748   \n",
       "3                           0                             0.0       0.000000   \n",
       "4               Swimming Pool                             0.0       0.353115   \n",
       "\n",
       "   Building_age  SteamUse_ratio  Electricity_ratio  NaturalGas_ratio  \n",
       "0            89        0.277302           0.546060          0.176638  \n",
       "1            20        0.000000           0.386609          0.613391  \n",
       "2            47        0.297113           0.682307          0.020579  \n",
       "3            90        0.325913           0.407519          0.266567  \n",
       "4            36        0.000000           0.378802          0.621198  "
      ]
     },
     "execution_count": 22,
     "metadata": {},
     "output_type": "execute_result"
    }
   ],
   "source": [
    "X.head()"
   ]
  },
  {
   "cell_type": "code",
   "execution_count": 23,
   "id": "67115ed1",
   "metadata": {},
   "outputs": [
    {
     "data": {
      "text/plain": [
       "0    6.872559\n",
       "1    6.937743\n",
       "2    7.868862\n",
       "3    6.841785\n",
       "4    7.166030\n",
       "Name: log_consommation, dtype: float64"
      ]
     },
     "execution_count": 23,
     "metadata": {},
     "output_type": "execute_result"
    }
   ],
   "source": [
    "y.head()"
   ]
  },
  {
   "cell_type": "markdown",
   "id": "0cc5dbef",
   "metadata": {},
   "source": [
    "### 2.1.2 Preprocessing  des variables du jeu de données avec transformers ScandardScaler et OneHotEncoder  "
   ]
  },
  {
   "cell_type": "code",
   "execution_count": 24,
   "id": "91f153a6",
   "metadata": {},
   "outputs": [],
   "source": [
    "set_config(transform_output=\"pandas\")\n",
    "\n",
    "# on définit les colonnes et les transformations pour les colonnes quantitatives\n",
    "\n",
    "col_quanti =  X.select_dtypes(['int64','float64']).columns\n",
    "\n",
    "transfo_quanti = Pipeline(steps=[('standard', StandardScaler())])\n",
    "\n",
    "# on définit les colonnes et les transformations pour les variables qualitatives\n",
    "\n",
    "col_quali =  X.select_dtypes(['object']).columns\n",
    "\n",
    "transfo_quali = Pipeline(steps=[('onehot', OneHotEncoder(sparse_output=False,drop=\"if_binary\", handle_unknown=\"ignore\"))])\n",
    "\n",
    "# on définit l'objet de la classe ColumnTransformer qui va permettre  d'appliquer toutes les étapes\n",
    "\n",
    "traitement = ColumnTransformer(\n",
    "    transformers=[\n",
    "        ('quanti', transfo_quanti , col_quanti),\n",
    "        ('quali', transfo_quali , col_quali)])"
   ]
  },
  {
   "cell_type": "markdown",
   "id": "491fff2d",
   "metadata": {},
   "source": [
    "### 2.1.3 Création d'un Pipeline et entrainement du modèle avec une régression RF"
   ]
  },
  {
   "cell_type": "code",
   "execution_count": 25,
   "id": "3600e503",
   "metadata": {},
   "outputs": [
    {
     "data": {
      "text/html": [
       "<style>#sk-container-id-1 {color: black;background-color: white;}#sk-container-id-1 pre{padding: 0;}#sk-container-id-1 div.sk-toggleable {background-color: white;}#sk-container-id-1 label.sk-toggleable__label {cursor: pointer;display: block;width: 100%;margin-bottom: 0;padding: 0.3em;box-sizing: border-box;text-align: center;}#sk-container-id-1 label.sk-toggleable__label-arrow:before {content: \"▸\";float: left;margin-right: 0.25em;color: #696969;}#sk-container-id-1 label.sk-toggleable__label-arrow:hover:before {color: black;}#sk-container-id-1 div.sk-estimator:hover label.sk-toggleable__label-arrow:before {color: black;}#sk-container-id-1 div.sk-toggleable__content {max-height: 0;max-width: 0;overflow: hidden;text-align: left;background-color: #f0f8ff;}#sk-container-id-1 div.sk-toggleable__content pre {margin: 0.2em;color: black;border-radius: 0.25em;background-color: #f0f8ff;}#sk-container-id-1 input.sk-toggleable__control:checked~div.sk-toggleable__content {max-height: 200px;max-width: 100%;overflow: auto;}#sk-container-id-1 input.sk-toggleable__control:checked~label.sk-toggleable__label-arrow:before {content: \"▾\";}#sk-container-id-1 div.sk-estimator input.sk-toggleable__control:checked~label.sk-toggleable__label {background-color: #d4ebff;}#sk-container-id-1 div.sk-label input.sk-toggleable__control:checked~label.sk-toggleable__label {background-color: #d4ebff;}#sk-container-id-1 input.sk-hidden--visually {border: 0;clip: rect(1px 1px 1px 1px);clip: rect(1px, 1px, 1px, 1px);height: 1px;margin: -1px;overflow: hidden;padding: 0;position: absolute;width: 1px;}#sk-container-id-1 div.sk-estimator {font-family: monospace;background-color: #f0f8ff;border: 1px dotted black;border-radius: 0.25em;box-sizing: border-box;margin-bottom: 0.5em;}#sk-container-id-1 div.sk-estimator:hover {background-color: #d4ebff;}#sk-container-id-1 div.sk-parallel-item::after {content: \"\";width: 100%;border-bottom: 1px solid gray;flex-grow: 1;}#sk-container-id-1 div.sk-label:hover label.sk-toggleable__label {background-color: #d4ebff;}#sk-container-id-1 div.sk-serial::before {content: \"\";position: absolute;border-left: 1px solid gray;box-sizing: border-box;top: 0;bottom: 0;left: 50%;z-index: 0;}#sk-container-id-1 div.sk-serial {display: flex;flex-direction: column;align-items: center;background-color: white;padding-right: 0.2em;padding-left: 0.2em;position: relative;}#sk-container-id-1 div.sk-item {position: relative;z-index: 1;}#sk-container-id-1 div.sk-parallel {display: flex;align-items: stretch;justify-content: center;background-color: white;position: relative;}#sk-container-id-1 div.sk-item::before, #sk-container-id-1 div.sk-parallel-item::before {content: \"\";position: absolute;border-left: 1px solid gray;box-sizing: border-box;top: 0;bottom: 0;left: 50%;z-index: -1;}#sk-container-id-1 div.sk-parallel-item {display: flex;flex-direction: column;z-index: 1;position: relative;background-color: white;}#sk-container-id-1 div.sk-parallel-item:first-child::after {align-self: flex-end;width: 50%;}#sk-container-id-1 div.sk-parallel-item:last-child::after {align-self: flex-start;width: 50%;}#sk-container-id-1 div.sk-parallel-item:only-child::after {width: 0;}#sk-container-id-1 div.sk-dashed-wrapped {border: 1px dashed gray;margin: 0 0.4em 0.5em 0.4em;box-sizing: border-box;padding-bottom: 0.4em;background-color: white;}#sk-container-id-1 div.sk-label label {font-family: monospace;font-weight: bold;display: inline-block;line-height: 1.2em;}#sk-container-id-1 div.sk-label-container {text-align: center;}#sk-container-id-1 div.sk-container {/* jupyter's `normalize.less` sets `[hidden] { display: none; }` but bootstrap.min.css set `[hidden] { display: none !important; }` so we also need the `!important` here to be able to override the default hidden behavior on the sphinx rendered scikit-learn.org. See: https://github.com/scikit-learn/scikit-learn/issues/21755 */display: inline-block !important;position: relative;}#sk-container-id-1 div.sk-text-repr-fallback {display: none;}</style><div id=\"sk-container-id-1\" class=\"sk-top-container\"><div class=\"sk-text-repr-fallback\"><pre>Pipeline(steps=[(&#x27;preprocessing&#x27;,\n",
       "                 ColumnTransformer(transformers=[(&#x27;quanti&#x27;,\n",
       "                                                  Pipeline(steps=[(&#x27;standard&#x27;,\n",
       "                                                                   StandardScaler())]),\n",
       "                                                  Index([&#x27;Latitude&#x27;, &#x27;Longitude&#x27;, &#x27;NumberofFloors&#x27;, &#x27;LargestPropertyUseTypeGFA&#x27;,\n",
       "       &#x27;SecondLargestPropertyUseTypeGFA&#x27;, &#x27;ThirdLargestPropertyUseTypeGFA&#x27;,\n",
       "       &#x27;ratio_parking&#x27;, &#x27;Building_age&#x27;, &#x27;SteamUse_ratio&#x27;, &#x27;Electricity_ratio&#x27;,\n",
       "       &#x27;NaturalGas_ratio&#x27;],\n",
       "      dtype=&#x27;object&#x27;)),\n",
       "                                                 (&#x27;quali&#x27;,\n",
       "                                                  Pipeline(steps=[(&#x27;onehot&#x27;,\n",
       "                                                                   OneHotEncoder(drop=&#x27;if_binary&#x27;,\n",
       "                                                                                 handle_unknown=&#x27;ignore&#x27;,\n",
       "                                                                                 sparse_output=False))]),\n",
       "                                                  Index([&#x27;BuildingType&#x27;, &#x27;PrimaryPropertyType&#x27;, &#x27;Neighborhood&#x27;,\n",
       "       &#x27;LargestPropertyUseType&#x27;, &#x27;SecondLargestPropertyUseType&#x27;,\n",
       "       &#x27;ThirdLargestPropertyUseType&#x27;],\n",
       "      dtype=&#x27;object&#x27;))])),\n",
       "                (&#x27;rf&#x27;, RandomForestRegressor(random_state=1234))])</pre><b>In a Jupyter environment, please rerun this cell to show the HTML representation or trust the notebook. <br />On GitHub, the HTML representation is unable to render, please try loading this page with nbviewer.org.</b></div><div class=\"sk-container\" hidden><div class=\"sk-item sk-dashed-wrapped\"><div class=\"sk-label-container\"><div class=\"sk-label sk-toggleable\"><input class=\"sk-toggleable__control sk-hidden--visually\" id=\"sk-estimator-id-1\" type=\"checkbox\" ><label for=\"sk-estimator-id-1\" class=\"sk-toggleable__label sk-toggleable__label-arrow\">Pipeline</label><div class=\"sk-toggleable__content\"><pre>Pipeline(steps=[(&#x27;preprocessing&#x27;,\n",
       "                 ColumnTransformer(transformers=[(&#x27;quanti&#x27;,\n",
       "                                                  Pipeline(steps=[(&#x27;standard&#x27;,\n",
       "                                                                   StandardScaler())]),\n",
       "                                                  Index([&#x27;Latitude&#x27;, &#x27;Longitude&#x27;, &#x27;NumberofFloors&#x27;, &#x27;LargestPropertyUseTypeGFA&#x27;,\n",
       "       &#x27;SecondLargestPropertyUseTypeGFA&#x27;, &#x27;ThirdLargestPropertyUseTypeGFA&#x27;,\n",
       "       &#x27;ratio_parking&#x27;, &#x27;Building_age&#x27;, &#x27;SteamUse_ratio&#x27;, &#x27;Electricity_ratio&#x27;,\n",
       "       &#x27;NaturalGas_ratio&#x27;],\n",
       "      dtype=&#x27;object&#x27;)),\n",
       "                                                 (&#x27;quali&#x27;,\n",
       "                                                  Pipeline(steps=[(&#x27;onehot&#x27;,\n",
       "                                                                   OneHotEncoder(drop=&#x27;if_binary&#x27;,\n",
       "                                                                                 handle_unknown=&#x27;ignore&#x27;,\n",
       "                                                                                 sparse_output=False))]),\n",
       "                                                  Index([&#x27;BuildingType&#x27;, &#x27;PrimaryPropertyType&#x27;, &#x27;Neighborhood&#x27;,\n",
       "       &#x27;LargestPropertyUseType&#x27;, &#x27;SecondLargestPropertyUseType&#x27;,\n",
       "       &#x27;ThirdLargestPropertyUseType&#x27;],\n",
       "      dtype=&#x27;object&#x27;))])),\n",
       "                (&#x27;rf&#x27;, RandomForestRegressor(random_state=1234))])</pre></div></div></div><div class=\"sk-serial\"><div class=\"sk-item sk-dashed-wrapped\"><div class=\"sk-label-container\"><div class=\"sk-label sk-toggleable\"><input class=\"sk-toggleable__control sk-hidden--visually\" id=\"sk-estimator-id-2\" type=\"checkbox\" ><label for=\"sk-estimator-id-2\" class=\"sk-toggleable__label sk-toggleable__label-arrow\">preprocessing: ColumnTransformer</label><div class=\"sk-toggleable__content\"><pre>ColumnTransformer(transformers=[(&#x27;quanti&#x27;,\n",
       "                                 Pipeline(steps=[(&#x27;standard&#x27;,\n",
       "                                                  StandardScaler())]),\n",
       "                                 Index([&#x27;Latitude&#x27;, &#x27;Longitude&#x27;, &#x27;NumberofFloors&#x27;, &#x27;LargestPropertyUseTypeGFA&#x27;,\n",
       "       &#x27;SecondLargestPropertyUseTypeGFA&#x27;, &#x27;ThirdLargestPropertyUseTypeGFA&#x27;,\n",
       "       &#x27;ratio_parking&#x27;, &#x27;Building_age&#x27;, &#x27;SteamUse_ratio&#x27;, &#x27;Electricity_ratio&#x27;,\n",
       "       &#x27;NaturalGas_ratio&#x27;],\n",
       "      dtype=&#x27;object&#x27;)),\n",
       "                                (&#x27;quali&#x27;,\n",
       "                                 Pipeline(steps=[(&#x27;onehot&#x27;,\n",
       "                                                  OneHotEncoder(drop=&#x27;if_binary&#x27;,\n",
       "                                                                handle_unknown=&#x27;ignore&#x27;,\n",
       "                                                                sparse_output=False))]),\n",
       "                                 Index([&#x27;BuildingType&#x27;, &#x27;PrimaryPropertyType&#x27;, &#x27;Neighborhood&#x27;,\n",
       "       &#x27;LargestPropertyUseType&#x27;, &#x27;SecondLargestPropertyUseType&#x27;,\n",
       "       &#x27;ThirdLargestPropertyUseType&#x27;],\n",
       "      dtype=&#x27;object&#x27;))])</pre></div></div></div><div class=\"sk-parallel\"><div class=\"sk-parallel-item\"><div class=\"sk-item\"><div class=\"sk-label-container\"><div class=\"sk-label sk-toggleable\"><input class=\"sk-toggleable__control sk-hidden--visually\" id=\"sk-estimator-id-3\" type=\"checkbox\" ><label for=\"sk-estimator-id-3\" class=\"sk-toggleable__label sk-toggleable__label-arrow\">quanti</label><div class=\"sk-toggleable__content\"><pre>Index([&#x27;Latitude&#x27;, &#x27;Longitude&#x27;, &#x27;NumberofFloors&#x27;, &#x27;LargestPropertyUseTypeGFA&#x27;,\n",
       "       &#x27;SecondLargestPropertyUseTypeGFA&#x27;, &#x27;ThirdLargestPropertyUseTypeGFA&#x27;,\n",
       "       &#x27;ratio_parking&#x27;, &#x27;Building_age&#x27;, &#x27;SteamUse_ratio&#x27;, &#x27;Electricity_ratio&#x27;,\n",
       "       &#x27;NaturalGas_ratio&#x27;],\n",
       "      dtype=&#x27;object&#x27;)</pre></div></div></div><div class=\"sk-serial\"><div class=\"sk-item\"><div class=\"sk-serial\"><div class=\"sk-item\"><div class=\"sk-estimator sk-toggleable\"><input class=\"sk-toggleable__control sk-hidden--visually\" id=\"sk-estimator-id-4\" type=\"checkbox\" ><label for=\"sk-estimator-id-4\" class=\"sk-toggleable__label sk-toggleable__label-arrow\">StandardScaler</label><div class=\"sk-toggleable__content\"><pre>StandardScaler()</pre></div></div></div></div></div></div></div></div><div class=\"sk-parallel-item\"><div class=\"sk-item\"><div class=\"sk-label-container\"><div class=\"sk-label sk-toggleable\"><input class=\"sk-toggleable__control sk-hidden--visually\" id=\"sk-estimator-id-5\" type=\"checkbox\" ><label for=\"sk-estimator-id-5\" class=\"sk-toggleable__label sk-toggleable__label-arrow\">quali</label><div class=\"sk-toggleable__content\"><pre>Index([&#x27;BuildingType&#x27;, &#x27;PrimaryPropertyType&#x27;, &#x27;Neighborhood&#x27;,\n",
       "       &#x27;LargestPropertyUseType&#x27;, &#x27;SecondLargestPropertyUseType&#x27;,\n",
       "       &#x27;ThirdLargestPropertyUseType&#x27;],\n",
       "      dtype=&#x27;object&#x27;)</pre></div></div></div><div class=\"sk-serial\"><div class=\"sk-item\"><div class=\"sk-serial\"><div class=\"sk-item\"><div class=\"sk-estimator sk-toggleable\"><input class=\"sk-toggleable__control sk-hidden--visually\" id=\"sk-estimator-id-6\" type=\"checkbox\" ><label for=\"sk-estimator-id-6\" class=\"sk-toggleable__label sk-toggleable__label-arrow\">OneHotEncoder</label><div class=\"sk-toggleable__content\"><pre>OneHotEncoder(drop=&#x27;if_binary&#x27;, handle_unknown=&#x27;ignore&#x27;, sparse_output=False)</pre></div></div></div></div></div></div></div></div></div></div><div class=\"sk-item\"><div class=\"sk-estimator sk-toggleable\"><input class=\"sk-toggleable__control sk-hidden--visually\" id=\"sk-estimator-id-7\" type=\"checkbox\" ><label for=\"sk-estimator-id-7\" class=\"sk-toggleable__label sk-toggleable__label-arrow\">RandomForestRegressor</label><div class=\"sk-toggleable__content\"><pre>RandomForestRegressor(random_state=1234)</pre></div></div></div></div></div></div></div>"
      ],
      "text/plain": [
       "Pipeline(steps=[('preprocessing',\n",
       "                 ColumnTransformer(transformers=[('quanti',\n",
       "                                                  Pipeline(steps=[('standard',\n",
       "                                                                   StandardScaler())]),\n",
       "                                                  Index(['Latitude', 'Longitude', 'NumberofFloors', 'LargestPropertyUseTypeGFA',\n",
       "       'SecondLargestPropertyUseTypeGFA', 'ThirdLargestPropertyUseTypeGFA',\n",
       "       'ratio_parking', 'Building_age', 'SteamUse_ratio', 'Electricity_ratio',\n",
       "       'NaturalGas_ratio'],\n",
       "      dtype='object')),\n",
       "                                                 ('quali',\n",
       "                                                  Pipeline(steps=[('onehot',\n",
       "                                                                   OneHotEncoder(drop='if_binary',\n",
       "                                                                                 handle_unknown='ignore',\n",
       "                                                                                 sparse_output=False))]),\n",
       "                                                  Index(['BuildingType', 'PrimaryPropertyType', 'Neighborhood',\n",
       "       'LargestPropertyUseType', 'SecondLargestPropertyUseType',\n",
       "       'ThirdLargestPropertyUseType'],\n",
       "      dtype='object'))])),\n",
       "                ('rf', RandomForestRegressor(random_state=1234))])"
      ]
     },
     "execution_count": 25,
     "metadata": {},
     "output_type": "execute_result"
    }
   ],
   "source": [
    "# on crée un pipeline  intégrant la préparation\n",
    "modele_ml = Pipeline(steps=[('preprocessing', traitement),\n",
    "                      ('rf', RandomForestRegressor(n_estimators=100, \n",
    "                                      random_state=seed, \n",
    "                                      verbose=0))])\n",
    "\n",
    "# on construit les jeux d'entrainement , de test et de validation\n",
    "X_train, X_test, y_train, y_test = train_test_split(X, y,test_size=.20,random_state=seed)\n",
    "\n",
    "# on ajuste le modèle en utilisant les données d'apprentissage\n",
    "# le modèle comporte la préparation et le modèle logistique\n",
    "modele_ml.fit(X_train, y_train)\n"
   ]
  },
  {
   "cell_type": "code",
   "execution_count": 26,
   "id": "1b70c4ee",
   "metadata": {},
   "outputs": [],
   "source": [
    "y_pred=modele_ml.predict(X_test)"
   ]
  },
  {
   "cell_type": "code",
   "execution_count": 27,
   "id": "3ae4cbbe",
   "metadata": {},
   "outputs": [
    {
     "name": "stdout",
     "output_type": "stream",
     "text": [
      "score train : 0.964 score_test : 0.7198 \n"
     ]
    }
   ],
   "source": [
    "# afficher les scores du modele\n",
    "score(modele_ml)"
   ]
  },
  {
   "cell_type": "markdown",
   "id": "afee3d01",
   "metadata": {},
   "source": [
    "> essayons d'améliorer le score "
   ]
  },
  {
   "cell_type": "markdown",
   "id": "a7e273ba",
   "metadata": {},
   "source": [
    "### 2.1.4 Recherche des meilleurs paramètres avec GridSearchCV"
   ]
  },
  {
   "cell_type": "code",
   "execution_count": 28,
   "id": "d1b69b7f",
   "metadata": {},
   "outputs": [
    {
     "name": "stdout",
     "output_type": "stream",
     "text": [
      "Le meilleur modèle logistique a obtenu sur les données test la performance suivante : 0.73\n",
      "les meilleurs paramètres sont : {'rf__max_depth': None, 'rf__max_features': 'sqrt', 'rf__max_leaf_nodes': None, 'rf__n_estimators': 250}\n"
     ]
    }
   ],
   "source": [
    "# on définit les paramètres à faire varier\n",
    "param_grid = {\n",
    "    'rf__n_estimators': [100,250,500],\n",
    "'rf__max_features':[\"sqrt\",\"log2\",\"None\"],\n",
    "'rf__max_depth':[None,5],\n",
    "'rf__max_leaf_nodes': [None,10],}\n",
    "\n",
    "# on crée le modèle de grille\n",
    "grid_search = GridSearchCV(modele_ml, param_grid, cv=5)\n",
    "# on ajuste aux données d'apprentissage\n",
    "grid_search.fit(X_train, y_train)\n",
    "\n",
    "\n",
    "print((\"Le meilleur modèle logistique a obtenu sur les données test la performance suivante : %.2f\"\n",
    "       % grid_search.score(X_test, y_test)))\n",
    "print('les meilleurs paramètres sont :',grid_search.best_params_)"
   ]
  },
  {
   "cell_type": "markdown",
   "id": "39b03ebe",
   "metadata": {},
   "source": [
    "> On va entrainer le modèle avec les meilleurs hyper-paramètres"
   ]
  },
  {
   "cell_type": "code",
   "execution_count": 29,
   "id": "1e5adc5d",
   "metadata": {},
   "outputs": [
    {
     "data": {
      "text/html": [
       "<style>#sk-container-id-2 {color: black;background-color: white;}#sk-container-id-2 pre{padding: 0;}#sk-container-id-2 div.sk-toggleable {background-color: white;}#sk-container-id-2 label.sk-toggleable__label {cursor: pointer;display: block;width: 100%;margin-bottom: 0;padding: 0.3em;box-sizing: border-box;text-align: center;}#sk-container-id-2 label.sk-toggleable__label-arrow:before {content: \"▸\";float: left;margin-right: 0.25em;color: #696969;}#sk-container-id-2 label.sk-toggleable__label-arrow:hover:before {color: black;}#sk-container-id-2 div.sk-estimator:hover label.sk-toggleable__label-arrow:before {color: black;}#sk-container-id-2 div.sk-toggleable__content {max-height: 0;max-width: 0;overflow: hidden;text-align: left;background-color: #f0f8ff;}#sk-container-id-2 div.sk-toggleable__content pre {margin: 0.2em;color: black;border-radius: 0.25em;background-color: #f0f8ff;}#sk-container-id-2 input.sk-toggleable__control:checked~div.sk-toggleable__content {max-height: 200px;max-width: 100%;overflow: auto;}#sk-container-id-2 input.sk-toggleable__control:checked~label.sk-toggleable__label-arrow:before {content: \"▾\";}#sk-container-id-2 div.sk-estimator input.sk-toggleable__control:checked~label.sk-toggleable__label {background-color: #d4ebff;}#sk-container-id-2 div.sk-label input.sk-toggleable__control:checked~label.sk-toggleable__label {background-color: #d4ebff;}#sk-container-id-2 input.sk-hidden--visually {border: 0;clip: rect(1px 1px 1px 1px);clip: rect(1px, 1px, 1px, 1px);height: 1px;margin: -1px;overflow: hidden;padding: 0;position: absolute;width: 1px;}#sk-container-id-2 div.sk-estimator {font-family: monospace;background-color: #f0f8ff;border: 1px dotted black;border-radius: 0.25em;box-sizing: border-box;margin-bottom: 0.5em;}#sk-container-id-2 div.sk-estimator:hover {background-color: #d4ebff;}#sk-container-id-2 div.sk-parallel-item::after {content: \"\";width: 100%;border-bottom: 1px solid gray;flex-grow: 1;}#sk-container-id-2 div.sk-label:hover label.sk-toggleable__label {background-color: #d4ebff;}#sk-container-id-2 div.sk-serial::before {content: \"\";position: absolute;border-left: 1px solid gray;box-sizing: border-box;top: 0;bottom: 0;left: 50%;z-index: 0;}#sk-container-id-2 div.sk-serial {display: flex;flex-direction: column;align-items: center;background-color: white;padding-right: 0.2em;padding-left: 0.2em;position: relative;}#sk-container-id-2 div.sk-item {position: relative;z-index: 1;}#sk-container-id-2 div.sk-parallel {display: flex;align-items: stretch;justify-content: center;background-color: white;position: relative;}#sk-container-id-2 div.sk-item::before, #sk-container-id-2 div.sk-parallel-item::before {content: \"\";position: absolute;border-left: 1px solid gray;box-sizing: border-box;top: 0;bottom: 0;left: 50%;z-index: -1;}#sk-container-id-2 div.sk-parallel-item {display: flex;flex-direction: column;z-index: 1;position: relative;background-color: white;}#sk-container-id-2 div.sk-parallel-item:first-child::after {align-self: flex-end;width: 50%;}#sk-container-id-2 div.sk-parallel-item:last-child::after {align-self: flex-start;width: 50%;}#sk-container-id-2 div.sk-parallel-item:only-child::after {width: 0;}#sk-container-id-2 div.sk-dashed-wrapped {border: 1px dashed gray;margin: 0 0.4em 0.5em 0.4em;box-sizing: border-box;padding-bottom: 0.4em;background-color: white;}#sk-container-id-2 div.sk-label label {font-family: monospace;font-weight: bold;display: inline-block;line-height: 1.2em;}#sk-container-id-2 div.sk-label-container {text-align: center;}#sk-container-id-2 div.sk-container {/* jupyter's `normalize.less` sets `[hidden] { display: none; }` but bootstrap.min.css set `[hidden] { display: none !important; }` so we also need the `!important` here to be able to override the default hidden behavior on the sphinx rendered scikit-learn.org. See: https://github.com/scikit-learn/scikit-learn/issues/21755 */display: inline-block !important;position: relative;}#sk-container-id-2 div.sk-text-repr-fallback {display: none;}</style><div id=\"sk-container-id-2\" class=\"sk-top-container\"><div class=\"sk-text-repr-fallback\"><pre>Pipeline(steps=[(&#x27;preprocessing&#x27;,\n",
       "                 ColumnTransformer(transformers=[(&#x27;quanti&#x27;,\n",
       "                                                  Pipeline(steps=[(&#x27;standard&#x27;,\n",
       "                                                                   StandardScaler())]),\n",
       "                                                  Index([&#x27;Latitude&#x27;, &#x27;Longitude&#x27;, &#x27;NumberofFloors&#x27;, &#x27;LargestPropertyUseTypeGFA&#x27;,\n",
       "       &#x27;SecondLargestPropertyUseTypeGFA&#x27;, &#x27;ThirdLargestPropertyUseTypeGFA&#x27;,\n",
       "       &#x27;ratio_parking&#x27;, &#x27;Building_age&#x27;, &#x27;SteamUse_ratio&#x27;, &#x27;Electricity_ratio&#x27;,\n",
       "       &#x27;NaturalGas_ratio...\n",
       "                                                  Pipeline(steps=[(&#x27;onehot&#x27;,\n",
       "                                                                   OneHotEncoder(drop=&#x27;if_binary&#x27;,\n",
       "                                                                                 handle_unknown=&#x27;ignore&#x27;,\n",
       "                                                                                 sparse_output=False))]),\n",
       "                                                  Index([&#x27;BuildingType&#x27;, &#x27;PrimaryPropertyType&#x27;, &#x27;Neighborhood&#x27;,\n",
       "       &#x27;LargestPropertyUseType&#x27;, &#x27;SecondLargestPropertyUseType&#x27;,\n",
       "       &#x27;ThirdLargestPropertyUseType&#x27;],\n",
       "      dtype=&#x27;object&#x27;))])),\n",
       "                (&#x27;rf&#x27;,\n",
       "                 RandomForestRegressor(max_features=&#x27;sqrt&#x27;, n_estimators=500,\n",
       "                                       random_state=1234))])</pre><b>In a Jupyter environment, please rerun this cell to show the HTML representation or trust the notebook. <br />On GitHub, the HTML representation is unable to render, please try loading this page with nbviewer.org.</b></div><div class=\"sk-container\" hidden><div class=\"sk-item sk-dashed-wrapped\"><div class=\"sk-label-container\"><div class=\"sk-label sk-toggleable\"><input class=\"sk-toggleable__control sk-hidden--visually\" id=\"sk-estimator-id-8\" type=\"checkbox\" ><label for=\"sk-estimator-id-8\" class=\"sk-toggleable__label sk-toggleable__label-arrow\">Pipeline</label><div class=\"sk-toggleable__content\"><pre>Pipeline(steps=[(&#x27;preprocessing&#x27;,\n",
       "                 ColumnTransformer(transformers=[(&#x27;quanti&#x27;,\n",
       "                                                  Pipeline(steps=[(&#x27;standard&#x27;,\n",
       "                                                                   StandardScaler())]),\n",
       "                                                  Index([&#x27;Latitude&#x27;, &#x27;Longitude&#x27;, &#x27;NumberofFloors&#x27;, &#x27;LargestPropertyUseTypeGFA&#x27;,\n",
       "       &#x27;SecondLargestPropertyUseTypeGFA&#x27;, &#x27;ThirdLargestPropertyUseTypeGFA&#x27;,\n",
       "       &#x27;ratio_parking&#x27;, &#x27;Building_age&#x27;, &#x27;SteamUse_ratio&#x27;, &#x27;Electricity_ratio&#x27;,\n",
       "       &#x27;NaturalGas_ratio...\n",
       "                                                  Pipeline(steps=[(&#x27;onehot&#x27;,\n",
       "                                                                   OneHotEncoder(drop=&#x27;if_binary&#x27;,\n",
       "                                                                                 handle_unknown=&#x27;ignore&#x27;,\n",
       "                                                                                 sparse_output=False))]),\n",
       "                                                  Index([&#x27;BuildingType&#x27;, &#x27;PrimaryPropertyType&#x27;, &#x27;Neighborhood&#x27;,\n",
       "       &#x27;LargestPropertyUseType&#x27;, &#x27;SecondLargestPropertyUseType&#x27;,\n",
       "       &#x27;ThirdLargestPropertyUseType&#x27;],\n",
       "      dtype=&#x27;object&#x27;))])),\n",
       "                (&#x27;rf&#x27;,\n",
       "                 RandomForestRegressor(max_features=&#x27;sqrt&#x27;, n_estimators=500,\n",
       "                                       random_state=1234))])</pre></div></div></div><div class=\"sk-serial\"><div class=\"sk-item sk-dashed-wrapped\"><div class=\"sk-label-container\"><div class=\"sk-label sk-toggleable\"><input class=\"sk-toggleable__control sk-hidden--visually\" id=\"sk-estimator-id-9\" type=\"checkbox\" ><label for=\"sk-estimator-id-9\" class=\"sk-toggleable__label sk-toggleable__label-arrow\">preprocessing: ColumnTransformer</label><div class=\"sk-toggleable__content\"><pre>ColumnTransformer(transformers=[(&#x27;quanti&#x27;,\n",
       "                                 Pipeline(steps=[(&#x27;standard&#x27;,\n",
       "                                                  StandardScaler())]),\n",
       "                                 Index([&#x27;Latitude&#x27;, &#x27;Longitude&#x27;, &#x27;NumberofFloors&#x27;, &#x27;LargestPropertyUseTypeGFA&#x27;,\n",
       "       &#x27;SecondLargestPropertyUseTypeGFA&#x27;, &#x27;ThirdLargestPropertyUseTypeGFA&#x27;,\n",
       "       &#x27;ratio_parking&#x27;, &#x27;Building_age&#x27;, &#x27;SteamUse_ratio&#x27;, &#x27;Electricity_ratio&#x27;,\n",
       "       &#x27;NaturalGas_ratio&#x27;],\n",
       "      dtype=&#x27;object&#x27;)),\n",
       "                                (&#x27;quali&#x27;,\n",
       "                                 Pipeline(steps=[(&#x27;onehot&#x27;,\n",
       "                                                  OneHotEncoder(drop=&#x27;if_binary&#x27;,\n",
       "                                                                handle_unknown=&#x27;ignore&#x27;,\n",
       "                                                                sparse_output=False))]),\n",
       "                                 Index([&#x27;BuildingType&#x27;, &#x27;PrimaryPropertyType&#x27;, &#x27;Neighborhood&#x27;,\n",
       "       &#x27;LargestPropertyUseType&#x27;, &#x27;SecondLargestPropertyUseType&#x27;,\n",
       "       &#x27;ThirdLargestPropertyUseType&#x27;],\n",
       "      dtype=&#x27;object&#x27;))])</pre></div></div></div><div class=\"sk-parallel\"><div class=\"sk-parallel-item\"><div class=\"sk-item\"><div class=\"sk-label-container\"><div class=\"sk-label sk-toggleable\"><input class=\"sk-toggleable__control sk-hidden--visually\" id=\"sk-estimator-id-10\" type=\"checkbox\" ><label for=\"sk-estimator-id-10\" class=\"sk-toggleable__label sk-toggleable__label-arrow\">quanti</label><div class=\"sk-toggleable__content\"><pre>Index([&#x27;Latitude&#x27;, &#x27;Longitude&#x27;, &#x27;NumberofFloors&#x27;, &#x27;LargestPropertyUseTypeGFA&#x27;,\n",
       "       &#x27;SecondLargestPropertyUseTypeGFA&#x27;, &#x27;ThirdLargestPropertyUseTypeGFA&#x27;,\n",
       "       &#x27;ratio_parking&#x27;, &#x27;Building_age&#x27;, &#x27;SteamUse_ratio&#x27;, &#x27;Electricity_ratio&#x27;,\n",
       "       &#x27;NaturalGas_ratio&#x27;],\n",
       "      dtype=&#x27;object&#x27;)</pre></div></div></div><div class=\"sk-serial\"><div class=\"sk-item\"><div class=\"sk-serial\"><div class=\"sk-item\"><div class=\"sk-estimator sk-toggleable\"><input class=\"sk-toggleable__control sk-hidden--visually\" id=\"sk-estimator-id-11\" type=\"checkbox\" ><label for=\"sk-estimator-id-11\" class=\"sk-toggleable__label sk-toggleable__label-arrow\">StandardScaler</label><div class=\"sk-toggleable__content\"><pre>StandardScaler()</pre></div></div></div></div></div></div></div></div><div class=\"sk-parallel-item\"><div class=\"sk-item\"><div class=\"sk-label-container\"><div class=\"sk-label sk-toggleable\"><input class=\"sk-toggleable__control sk-hidden--visually\" id=\"sk-estimator-id-12\" type=\"checkbox\" ><label for=\"sk-estimator-id-12\" class=\"sk-toggleable__label sk-toggleable__label-arrow\">quali</label><div class=\"sk-toggleable__content\"><pre>Index([&#x27;BuildingType&#x27;, &#x27;PrimaryPropertyType&#x27;, &#x27;Neighborhood&#x27;,\n",
       "       &#x27;LargestPropertyUseType&#x27;, &#x27;SecondLargestPropertyUseType&#x27;,\n",
       "       &#x27;ThirdLargestPropertyUseType&#x27;],\n",
       "      dtype=&#x27;object&#x27;)</pre></div></div></div><div class=\"sk-serial\"><div class=\"sk-item\"><div class=\"sk-serial\"><div class=\"sk-item\"><div class=\"sk-estimator sk-toggleable\"><input class=\"sk-toggleable__control sk-hidden--visually\" id=\"sk-estimator-id-13\" type=\"checkbox\" ><label for=\"sk-estimator-id-13\" class=\"sk-toggleable__label sk-toggleable__label-arrow\">OneHotEncoder</label><div class=\"sk-toggleable__content\"><pre>OneHotEncoder(drop=&#x27;if_binary&#x27;, handle_unknown=&#x27;ignore&#x27;, sparse_output=False)</pre></div></div></div></div></div></div></div></div></div></div><div class=\"sk-item\"><div class=\"sk-estimator sk-toggleable\"><input class=\"sk-toggleable__control sk-hidden--visually\" id=\"sk-estimator-id-14\" type=\"checkbox\" ><label for=\"sk-estimator-id-14\" class=\"sk-toggleable__label sk-toggleable__label-arrow\">RandomForestRegressor</label><div class=\"sk-toggleable__content\"><pre>RandomForestRegressor(max_features=&#x27;sqrt&#x27;, n_estimators=500, random_state=1234)</pre></div></div></div></div></div></div></div>"
      ],
      "text/plain": [
       "Pipeline(steps=[('preprocessing',\n",
       "                 ColumnTransformer(transformers=[('quanti',\n",
       "                                                  Pipeline(steps=[('standard',\n",
       "                                                                   StandardScaler())]),\n",
       "                                                  Index(['Latitude', 'Longitude', 'NumberofFloors', 'LargestPropertyUseTypeGFA',\n",
       "       'SecondLargestPropertyUseTypeGFA', 'ThirdLargestPropertyUseTypeGFA',\n",
       "       'ratio_parking', 'Building_age', 'SteamUse_ratio', 'Electricity_ratio',\n",
       "       'NaturalGas_ratio...\n",
       "                                                  Pipeline(steps=[('onehot',\n",
       "                                                                   OneHotEncoder(drop='if_binary',\n",
       "                                                                                 handle_unknown='ignore',\n",
       "                                                                                 sparse_output=False))]),\n",
       "                                                  Index(['BuildingType', 'PrimaryPropertyType', 'Neighborhood',\n",
       "       'LargestPropertyUseType', 'SecondLargestPropertyUseType',\n",
       "       'ThirdLargestPropertyUseType'],\n",
       "      dtype='object'))])),\n",
       "                ('rf',\n",
       "                 RandomForestRegressor(max_features='sqrt', n_estimators=500,\n",
       "                                       random_state=1234))])"
      ]
     },
     "execution_count": 29,
     "metadata": {},
     "output_type": "execute_result"
    }
   ],
   "source": [
    "\n",
    "modele_ml = Pipeline(steps=[('preprocessing', traitement),\n",
    "                      ('rf', RandomForestRegressor(max_depth= None, max_features= 'sqrt', max_leaf_nodes= None, n_estimators= 500\n",
    "                                      ,random_state=seed, \n",
    "                                      verbose=0))])\n",
    "\n",
    "\n",
    "# on ajuste le modèle en utilisant les données d'apprentissage\n",
    "\n",
    "modele_ml.fit(X_train, y_train)\n"
   ]
  },
  {
   "cell_type": "code",
   "execution_count": 30,
   "id": "65d38aa3",
   "metadata": {},
   "outputs": [],
   "source": [
    "y_pred=modele_ml.predict(X_test)"
   ]
  },
  {
   "cell_type": "code",
   "execution_count": 31,
   "id": "6f47da0f",
   "metadata": {},
   "outputs": [
    {
     "name": "stdout",
     "output_type": "stream",
     "text": [
      "score train : 0.9618 score_test : 0.7304 \n"
     ]
    }
   ],
   "source": [
    "score(modele_ml)"
   ]
  },
  {
   "cell_type": "markdown",
   "id": "61a20f6a",
   "metadata": {},
   "source": [
    "> nous avons légèrement amélioré les performances du modèle :  \n",
    "\n",
    "        avant tuning des hyper-paramètres :    score train : 0.964 et score_test : 0.7198\n",
    "        après tuning des hyper-paramètres :    score train : 0.9618 et score_test : 0.7304         "
   ]
  },
  {
   "cell_type": "code",
   "execution_count": 32,
   "id": "5c4b7a1c",
   "metadata": {},
   "outputs": [
    {
     "data": {
      "image/png": "[encoded data removed]",
      "text/plain": [
       "<Figure size 576x576 with 1 Axes>"
      ]
     },
     "metadata": {
      "needs_background": "light"
     },
     "output_type": "display_data"
    }
   ],
   "source": [
    "y_pred=modele_ml.predict(X_test)\n",
    "plt.figure(figsize=(8,8))\n",
    "plt.scatter(y_test, y_pred, c='crimson')\n",
    "plt.yscale('log')\n",
    "plt.xscale('log')\n",
    "\n",
    "p1 = max(max(y_pred), max(y_test))\n",
    "p2 = min(min(y_pred), min(y_tesX_plot, X_plot, color='r')t))\n",
    "plt.plot([p1, p2], [p1, p2], 'b-')\n",
    "plt.xlabel('y Values', fontsize=15)\n",
    "plt.ylabel('Predictions', fontsize=15)\n",
    "plt.axis('equal')\n",
    "plt.show()"
   ]
  },
  {
   "cell_type": "markdown",
   "id": "61543b49",
   "metadata": {},
   "source": [
    "### 2.1.5 Importance des variables du dataset dans la regression RF"
   ]
  },
  {
   "cell_type": "code",
   "execution_count": 33,
   "id": "be54e84e",
   "metadata": {},
   "outputs": [
    {
     "data": {
      "text/html": [
       "<div>\n",
       "<style scoped>\n",
       "    .dataframe tbody tr th:only-of-type {\n",
       "        vertical-align: middle;\n",
       "    }\n",
       "\n",
       "    .dataframe tbody tr th {\n",
       "        vertical-align: top;\n",
       "    }\n",
       "\n",
       "    .dataframe thead th {\n",
       "        text-align: right;\n",
       "    }\n",
       "</style>\n",
       "<table border=\"1\" class=\"dataframe\">\n",
       "  <thead>\n",
       "    <tr style=\"text-align: right;\">\n",
       "      <th></th>\n",
       "      <th>Feature</th>\n",
       "      <th>% Importance</th>\n",
       "    </tr>\n",
       "  </thead>\n",
       "  <tbody>\n",
       "    <tr>\n",
       "      <th>109</th>\n",
       "      <td>quali__SecondLargestPropertyUseType_0</td>\n",
       "      <td>0.857931</td>\n",
       "    </tr>\n",
       "    <tr>\n",
       "      <th>41</th>\n",
       "      <td>quali__Neighborhood_DOWNTOWN</td>\n",
       "      <td>0.918118</td>\n",
       "    </tr>\n",
       "    <tr>\n",
       "      <th>105</th>\n",
       "      <td>quali__LargestPropertyUseType_Supermarket/Groc...</td>\n",
       "      <td>0.943205</td>\n",
       "    </tr>\n",
       "    <tr>\n",
       "      <th>31</th>\n",
       "      <td>quali__PrimaryPropertyType_Small- and Mid-Size...</td>\n",
       "      <td>0.953449</td>\n",
       "    </tr>\n",
       "    <tr>\n",
       "      <th>32</th>\n",
       "      <td>quali__PrimaryPropertyType_Supermarket / Groce...</td>\n",
       "      <td>1.108876</td>\n",
       "    </tr>\n",
       "    <tr>\n",
       "      <th>8</th>\n",
       "      <td>quanti__SteamUse_ratio</td>\n",
       "      <td>1.383843</td>\n",
       "    </tr>\n",
       "    <tr>\n",
       "      <th>34</th>\n",
       "      <td>quali__PrimaryPropertyType_Warehouse</td>\n",
       "      <td>1.460410</td>\n",
       "    </tr>\n",
       "    <tr>\n",
       "      <th>140</th>\n",
       "      <td>quali__SecondLargestPropertyUseType_Parking</td>\n",
       "      <td>1.810131</td>\n",
       "    </tr>\n",
       "    <tr>\n",
       "      <th>75</th>\n",
       "      <td>quali__LargestPropertyUseType_Non-Refrigerated...</td>\n",
       "      <td>1.908592</td>\n",
       "    </tr>\n",
       "    <tr>\n",
       "      <th>6</th>\n",
       "      <td>quanti__ratio_parking</td>\n",
       "      <td>2.155934</td>\n",
       "    </tr>\n",
       "    <tr>\n",
       "      <th>21</th>\n",
       "      <td>quali__PrimaryPropertyType_Large Office</td>\n",
       "      <td>2.501278</td>\n",
       "    </tr>\n",
       "    <tr>\n",
       "      <th>5</th>\n",
       "      <td>quanti__ThirdLargestPropertyUseTypeGFA</td>\n",
       "      <td>2.861739</td>\n",
       "    </tr>\n",
       "    <tr>\n",
       "      <th>1</th>\n",
       "      <td>quanti__Longitude</td>\n",
       "      <td>3.601803</td>\n",
       "    </tr>\n",
       "    <tr>\n",
       "      <th>10</th>\n",
       "      <td>quanti__NaturalGas_ratio</td>\n",
       "      <td>3.763451</td>\n",
       "    </tr>\n",
       "    <tr>\n",
       "      <th>0</th>\n",
       "      <td>quanti__Latitude</td>\n",
       "      <td>3.941899</td>\n",
       "    </tr>\n",
       "    <tr>\n",
       "      <th>7</th>\n",
       "      <td>quanti__Building_age</td>\n",
       "      <td>5.077424</td>\n",
       "    </tr>\n",
       "    <tr>\n",
       "      <th>9</th>\n",
       "      <td>quanti__Electricity_ratio</td>\n",
       "      <td>5.450371</td>\n",
       "    </tr>\n",
       "    <tr>\n",
       "      <th>4</th>\n",
       "      <td>quanti__SecondLargestPropertyUseTypeGFA</td>\n",
       "      <td>7.566024</td>\n",
       "    </tr>\n",
       "    <tr>\n",
       "      <th>2</th>\n",
       "      <td>quanti__NumberofFloors</td>\n",
       "      <td>8.657492</td>\n",
       "    </tr>\n",
       "    <tr>\n",
       "      <th>3</th>\n",
       "      <td>quanti__LargestPropertyUseTypeGFA</td>\n",
       "      <td>20.773895</td>\n",
       "    </tr>\n",
       "  </tbody>\n",
       "</table>\n",
       "</div>"
      ],
      "text/plain": [
       "                                               Feature  % Importance\n",
       "109              quali__SecondLargestPropertyUseType_0      0.857931\n",
       "41                        quali__Neighborhood_DOWNTOWN      0.918118\n",
       "105  quali__LargestPropertyUseType_Supermarket/Groc...      0.943205\n",
       "31   quali__PrimaryPropertyType_Small- and Mid-Size...      0.953449\n",
       "32   quali__PrimaryPropertyType_Supermarket / Groce...      1.108876\n",
       "8                               quanti__SteamUse_ratio      1.383843\n",
       "34                quali__PrimaryPropertyType_Warehouse      1.460410\n",
       "140        quali__SecondLargestPropertyUseType_Parking      1.810131\n",
       "75   quali__LargestPropertyUseType_Non-Refrigerated...      1.908592\n",
       "6                                quanti__ratio_parking      2.155934\n",
       "21             quali__PrimaryPropertyType_Large Office      2.501278\n",
       "5               quanti__ThirdLargestPropertyUseTypeGFA      2.861739\n",
       "1                                    quanti__Longitude      3.601803\n",
       "10                            quanti__NaturalGas_ratio      3.763451\n",
       "0                                     quanti__Latitude      3.941899\n",
       "7                                 quanti__Building_age      5.077424\n",
       "9                            quanti__Electricity_ratio      5.450371\n",
       "4              quanti__SecondLargestPropertyUseTypeGFA      7.566024\n",
       "2                               quanti__NumberofFloors      8.657492\n",
       "3                    quanti__LargestPropertyUseTypeGFA     20.773895"
      ]
     },
     "execution_count": 33,
     "metadata": {},
     "output_type": "execute_result"
    }
   ],
   "source": [
    "#  poids des variables de la regression RF à partir du modele pipeline\n",
    "reg_rf = modele_ml[-1]\n",
    "# crée un dataframe pandas\n",
    "data = list(zip(reg_rf.feature_names_in_, reg_rf.feature_importances_*100))\n",
    "df_importances = pd.DataFrame(data, columns=['Feature', '% Importance']).sort_values(by='% Importance', ascending=True)\n",
    "df_importances.tail(20)"
   ]
  },
  {
   "cell_type": "code",
   "execution_count": 34,
   "id": "0616c783",
   "metadata": {},
   "outputs": [
    {
     "data": {
      "text/plain": [
       "<Axes: ylabel='Feature'>"
      ]
     },
     "execution_count": 34,
     "metadata": {},
     "output_type": "execute_result"
    },
    {
     "data": {
      "image/png": "[encoded data removed]",
      "text/plain": [
       "<Figure size 432x288 with 1 Axes>"
      ]
     },
     "metadata": {
      "needs_background": "light"
     },
     "output_type": "display_data"
    }
   ],
   "source": [
    "df_importances.tail(20).plot.barh(x='Feature', y='% Importance')"
   ]
  },
  {
   "cell_type": "markdown",
   "id": "4e4d1970",
   "metadata": {},
   "source": [
    ">pour la suite , je vais sélectionner les variables les plus pertinentes. Je commence par créer un dataframe avec les colonnes résultants du OneHotEncoder et duStandardScaler  \n"
   ]
  },
  {
   "cell_type": "code",
   "execution_count": 35,
   "id": "d788eef5",
   "metadata": {},
   "outputs": [],
   "source": [
    "X[col_quanti] = transfo_quanti.fit_transform(X[col_quanti])\n",
    "ohe=transfo_quali.fit_transform(X[col_quali])"
   ]
  },
  {
   "cell_type": "code",
   "execution_count": 36,
   "id": "355f7264",
   "metadata": {},
   "outputs": [],
   "source": [
    "X = pd.merge(X[col_quanti], \n",
    "          pd.DataFrame(columns = transfo_quali.get_feature_names_out().tolist(),\n",
    "              data =ohe),\n",
    "        left_index = True, right_index = True)"
   ]
  },
  {
   "cell_type": "code",
   "execution_count": 37,
   "id": "4e7a28cb",
   "metadata": {},
   "outputs": [
    {
     "data": {
      "text/plain": [
       "(1534, 199)"
      ]
     },
     "execution_count": 37,
     "metadata": {},
     "output_type": "execute_result"
    }
   ],
   "source": [
    "X.shape"
   ]
  },
  {
   "cell_type": "markdown",
   "id": "4d6b8627",
   "metadata": {},
   "source": [
    "### 2.1.6 Sélection des variables avec le transformer VarianceThresold (seuil de variance minimale en dessous duquel les variables ne sont pas conservées)"
   ]
  },
  {
   "cell_type": "markdown",
   "id": "f3fdb9ba",
   "metadata": {},
   "source": [
    "calculons les variances des variables de X"
   ]
  },
  {
   "cell_type": "code",
   "execution_count": 38,
   "id": "05ffd02b",
   "metadata": {},
   "outputs": [
    {
     "data": {
      "text/plain": [
       "count    199.000000\n",
       "mean       0.074916\n",
       "std        0.227906\n",
       "min        0.000652\n",
       "25%        0.001303\n",
       "50%        0.005191\n",
       "75%        0.026030\n",
       "max        1.000652\n",
       "dtype: float64"
      ]
     },
     "execution_count": 38,
     "metadata": {},
     "output_type": "execute_result"
    }
   ],
   "source": [
    "# calculer les variances\n",
    "X.var(axis=0).describe()"
   ]
  },
  {
   "cell_type": "markdown",
   "id": "373343b9",
   "metadata": {},
   "source": [
    "Eliminons les variables qui ont une variance inférieure au seuil fixé (seuil fixé = mean )"
   ]
  },
  {
   "cell_type": "code",
   "execution_count": 39,
   "id": "2ef20c34",
   "metadata": {},
   "outputs": [],
   "source": [
    "# on crée le selector\n",
    "selector = VarianceThreshold(threshold =X.var(axis=0).mean())\n",
    "\n",
    "#on entraine et transforme\n",
    "X_thres=selector.fit_transform(X)\n"
   ]
  },
  {
   "cell_type": "code",
   "execution_count": 40,
   "id": "b6f320c7",
   "metadata": {
    "scrolled": true
   },
   "outputs": [
    {
     "name": "stdout",
     "output_type": "stream",
     "text": [
      "BuildingType_Campus\n",
      "BuildingType_NonResidential\n",
      "BuildingType_Nonresidential COS\n",
      "BuildingType_Nonresidential WA\n",
      "BuildingType_SPS-District K-12\n",
      "PrimaryPropertyType_Distribution Center\n",
      "PrimaryPropertyType_Hospital\n",
      "PrimaryPropertyType_Hotel\n",
      "PrimaryPropertyType_K-12 School\n",
      "PrimaryPropertyType_Laboratory\n",
      "PrimaryPropertyType_Medical Office\n",
      "PrimaryPropertyType_Mixed Use Property\n",
      "PrimaryPropertyType_Refrigerated Warehouse\n",
      "PrimaryPropertyType_Residence Hall\n",
      "PrimaryPropertyType_Restaurant\n",
      "PrimaryPropertyType_Retail Store\n",
      "PrimaryPropertyType_Self-Storage Facility\n",
      "PrimaryPropertyType_Senior Care Community\n",
      "PrimaryPropertyType_Supermarket / Grocery Store\n",
      "PrimaryPropertyType_University\n",
      "PrimaryPropertyType_Worship Facility\n",
      "Neighborhood_BALLARD\n",
      "Neighborhood_Ballard\n",
      "Neighborhood_CENTRAL\n",
      "Neighborhood_Central\n",
      "Neighborhood_DELRIDGE\n",
      "Neighborhood_DELRIDGE NEIGHBORHOODS\n",
      "Neighborhood_Delridge\n",
      "Neighborhood_EAST\n",
      "Neighborhood_NORTH\n",
      "Neighborhood_NORTHEAST\n",
      "Neighborhood_NORTHWEST\n",
      "Neighborhood_North\n",
      "Neighborhood_Northwest\n",
      "Neighborhood_SOUTHEAST\n",
      "Neighborhood_SOUTHWEST\n",
      "LargestPropertyUseType_Adult Education\n",
      "LargestPropertyUseType_Automobile Dealership\n",
      "LargestPropertyUseType_Bank Branch\n",
      "LargestPropertyUseType_College/University\n",
      "LargestPropertyUseType_Courthouse\n",
      "LargestPropertyUseType_Data Center\n",
      "LargestPropertyUseType_Distribution Center\n",
      "LargestPropertyUseType_Financial Office\n",
      "LargestPropertyUseType_Fire Station\n",
      "LargestPropertyUseType_Fitness Center/Health Club/Gym\n",
      "LargestPropertyUseType_Food Service\n",
      "LargestPropertyUseType_Hospital (General Medical & Surgical)\n",
      "LargestPropertyUseType_Hotel\n",
      "LargestPropertyUseType_K-12 School\n",
      "LargestPropertyUseType_Laboratory\n",
      "LargestPropertyUseType_Library\n",
      "LargestPropertyUseType_Lifestyle Center\n",
      "LargestPropertyUseType_Manufacturing/Industrial Plant\n",
      "LargestPropertyUseType_Medical Office\n",
      "LargestPropertyUseType_Movie Theater\n",
      "LargestPropertyUseType_Multifamily Housing\n",
      "LargestPropertyUseType_Museum\n",
      "LargestPropertyUseType_Other\n",
      "LargestPropertyUseType_Other - Education\n",
      "LargestPropertyUseType_Other - Entertainment/Public Assembly\n",
      "LargestPropertyUseType_Other - Lodging/Residential\n",
      "LargestPropertyUseType_Other - Mall\n",
      "LargestPropertyUseType_Other - Public Services\n",
      "LargestPropertyUseType_Other - Recreation\n",
      "LargestPropertyUseType_Other - Restaurant/Bar\n",
      "LargestPropertyUseType_Other - Services\n",
      "LargestPropertyUseType_Other - Utility\n",
      "LargestPropertyUseType_Other/Specialty Hospital\n",
      "LargestPropertyUseType_Parking\n",
      "LargestPropertyUseType_Performing Arts\n",
      "LargestPropertyUseType_Personal Services (Health/Beauty, Dry Cleaning, etc)\n",
      "LargestPropertyUseType_Police Station\n",
      "LargestPropertyUseType_Pre-school/Daycare\n",
      "LargestPropertyUseType_Prison/Incarceration\n",
      "LargestPropertyUseType_Refrigerated Warehouse\n",
      "LargestPropertyUseType_Repair Services (Vehicle, Shoe, Locksmith, etc)\n",
      "LargestPropertyUseType_Residence Hall/Dormitory\n",
      "LargestPropertyUseType_Residential Care Facility\n",
      "LargestPropertyUseType_Restaurant\n",
      "LargestPropertyUseType_Retail Store\n",
      "LargestPropertyUseType_Self-Storage Facility\n",
      "LargestPropertyUseType_Senior Care Community\n",
      "LargestPropertyUseType_Small- and Mid-Sized Office\n",
      "LargestPropertyUseType_Social/Meeting Hall\n",
      "LargestPropertyUseType_Strip Mall\n",
      "LargestPropertyUseType_Supermarket/Grocery Store\n",
      "LargestPropertyUseType_Urgent Care/Clinic/Other Outpatient\n",
      "LargestPropertyUseType_Wholesale Club/Supercenter\n",
      "LargestPropertyUseType_Worship Facility\n",
      "SecondLargestPropertyUseType_Adult Education\n",
      "SecondLargestPropertyUseType_Automobile Dealership\n",
      "SecondLargestPropertyUseType_Bank Branch\n",
      "SecondLargestPropertyUseType_Bar/Nightclub\n",
      "SecondLargestPropertyUseType_College/University\n",
      "SecondLargestPropertyUseType_Convenience Store without Gas Station\n",
      "SecondLargestPropertyUseType_Courthouse\n",
      "SecondLargestPropertyUseType_Data Center\n",
      "SecondLargestPropertyUseType_Distribution Center\n",
      "SecondLargestPropertyUseType_Enclosed Mall\n",
      "SecondLargestPropertyUseType_Financial Office\n",
      "SecondLargestPropertyUseType_Fitness Center/Health Club/Gym\n",
      "SecondLargestPropertyUseType_Food Sales\n",
      "SecondLargestPropertyUseType_Food Service\n",
      "SecondLargestPropertyUseType_Hospital (General Medical & Surgical)\n",
      "SecondLargestPropertyUseType_Hotel\n",
      "SecondLargestPropertyUseType_K-12 School\n",
      "SecondLargestPropertyUseType_Laboratory\n",
      "SecondLargestPropertyUseType_Manufacturing/Industrial Plant\n",
      "SecondLargestPropertyUseType_Medical Office\n",
      "SecondLargestPropertyUseType_Movie Theater\n",
      "SecondLargestPropertyUseType_Multifamily Housing\n",
      "SecondLargestPropertyUseType_Non-Refrigerated Warehouse\n",
      "SecondLargestPropertyUseType_Other\n",
      "SecondLargestPropertyUseType_Other - Education\n",
      "SecondLargestPropertyUseType_Other - Entertainment/Public Assembly\n",
      "SecondLargestPropertyUseType_Other - Lodging/Residential\n",
      "SecondLargestPropertyUseType_Other - Public Services\n",
      "SecondLargestPropertyUseType_Other - Recreation\n",
      "SecondLargestPropertyUseType_Other - Restaurant/Bar\n",
      "SecondLargestPropertyUseType_Other - Services\n",
      "SecondLargestPropertyUseType_Performing Arts\n",
      "SecondLargestPropertyUseType_Personal Services (Health/Beauty, Dry Cleaning, etc)\n",
      "SecondLargestPropertyUseType_Pre-school/Daycare\n",
      "SecondLargestPropertyUseType_Refrigerated Warehouse\n",
      "SecondLargestPropertyUseType_Repair Services (Vehicle, Shoe, Locksmith, etc)\n",
      "SecondLargestPropertyUseType_Residence Hall/Dormitory\n",
      "SecondLargestPropertyUseType_Restaurant\n",
      "SecondLargestPropertyUseType_Retail Store\n",
      "SecondLargestPropertyUseType_Self-Storage Facility\n",
      "SecondLargestPropertyUseType_Social/Meeting Hall\n",
      "SecondLargestPropertyUseType_Supermarket/Grocery Store\n",
      "SecondLargestPropertyUseType_Swimming Pool\n",
      "SecondLargestPropertyUseType_Vocational School\n",
      "SecondLargestPropertyUseType_Worship Facility\n",
      "ThirdLargestPropertyUseType_Bank Branch\n",
      "ThirdLargestPropertyUseType_Bar/Nightclub\n",
      "ThirdLargestPropertyUseType_Convenience Store without Gas Station\n",
      "ThirdLargestPropertyUseType_Data Center\n",
      "ThirdLargestPropertyUseType_Distribution Center\n",
      "ThirdLargestPropertyUseType_Fast Food Restaurant\n",
      "ThirdLargestPropertyUseType_Financial Office\n",
      "ThirdLargestPropertyUseType_Fitness Center/Health Club/Gym\n",
      "ThirdLargestPropertyUseType_Food Service\n",
      "ThirdLargestPropertyUseType_Hotel\n",
      "ThirdLargestPropertyUseType_K-12 School\n",
      "ThirdLargestPropertyUseType_Laboratory\n",
      "ThirdLargestPropertyUseType_Manufacturing/Industrial Plant\n",
      "ThirdLargestPropertyUseType_Medical Office\n",
      "ThirdLargestPropertyUseType_Multifamily Housing\n",
      "ThirdLargestPropertyUseType_Non-Refrigerated Warehouse\n",
      "ThirdLargestPropertyUseType_Office\n",
      "ThirdLargestPropertyUseType_Other\n",
      "ThirdLargestPropertyUseType_Other - Education\n",
      "ThirdLargestPropertyUseType_Other - Entertainment/Public Assembly\n",
      "ThirdLargestPropertyUseType_Other - Recreation\n",
      "ThirdLargestPropertyUseType_Other - Restaurant/Bar\n",
      "ThirdLargestPropertyUseType_Other - Services\n",
      "ThirdLargestPropertyUseType_Other - Technology/Science\n",
      "ThirdLargestPropertyUseType_Other - Utility\n",
      "ThirdLargestPropertyUseType_Other/Specialty Hospital\n",
      "ThirdLargestPropertyUseType_Parking\n",
      "ThirdLargestPropertyUseType_Personal Services (Health/Beauty, Dry Cleaning, etc)\n",
      "ThirdLargestPropertyUseType_Pre-school/Daycare\n",
      "ThirdLargestPropertyUseType_Refrigerated Warehouse\n",
      "ThirdLargestPropertyUseType_Restaurant\n",
      "ThirdLargestPropertyUseType_Retail Store\n",
      "ThirdLargestPropertyUseType_Self-Storage Facility\n",
      "ThirdLargestPropertyUseType_Social/Meeting Hall\n",
      "ThirdLargestPropertyUseType_Strip Mall\n",
      "ThirdLargestPropertyUseType_Supermarket/Grocery Store\n",
      "ThirdLargestPropertyUseType_Swimming Pool\n",
      "ThirdLargestPropertyUseType_Vocational School\n",
      "ThirdLargestPropertyUseType_Worship Facility\n",
      "nombre de colonnes: 174\n"
     ]
    }
   ],
   "source": [
    "concol = [column for column in X.columns \n",
    "          if column not in X.columns[selector.get_support()]]\n",
    "\n",
    "for features in concol:\n",
    "    print(features)\n",
    "print('nombre de colonnes:',len(concol))"
   ]
  },
  {
   "cell_type": "code",
   "execution_count": 41,
   "id": "b1121e26",
   "metadata": {},
   "outputs": [
    {
     "data": {
      "text/plain": [
       "(1534, 199)"
      ]
     },
     "execution_count": 41,
     "metadata": {},
     "output_type": "execute_result"
    }
   ],
   "source": [
    "X.shape"
   ]
  },
  {
   "cell_type": "code",
   "execution_count": 42,
   "id": "19a91fd9",
   "metadata": {},
   "outputs": [],
   "source": [
    "X=X.drop(concol,axis=1)"
   ]
  },
  {
   "cell_type": "code",
   "execution_count": 43,
   "id": "0dc42425",
   "metadata": {},
   "outputs": [
    {
     "data": {
      "text/plain": [
       "(1534, 25)"
      ]
     },
     "execution_count": 43,
     "metadata": {},
     "output_type": "execute_result"
    }
   ],
   "source": [
    "X.shape"
   ]
  },
  {
   "cell_type": "markdown",
   "id": "4737b988",
   "metadata": {},
   "source": [
    "## 2.2 découpage de dataset avec le transformer Test_train_split"
   ]
  },
  {
   "cell_type": "markdown",
   "id": "fc2d37b7",
   "metadata": {},
   "source": [
    "Je fais une division du jeu de données pour obtenir un jeu d'entrainement et un jeu de test"
   ]
  },
  {
   "cell_type": "code",
   "execution_count": 44,
   "id": "9b938b75",
   "metadata": {},
   "outputs": [],
   "source": [
    "X_train,X_test,y_train,y_test=train_test_split(X,\n",
    "                                               y,\n",
    "                                               test_size=0.20,\n",
    "                                                random_state=seed)"
   ]
  },
  {
   "cell_type": "code",
   "execution_count": 45,
   "id": "7ec98b38",
   "metadata": {},
   "outputs": [
    {
     "name": "stdout",
     "output_type": "stream",
     "text": [
      "nous avons X_train de forme (1227, 25) et y_train de forme (1227,)\n",
      "Nous avons X_test de forme (307, 25) et y_test de forme (307,)\n"
     ]
    }
   ],
   "source": [
    "print(f\"nous avons X_train de forme {X_train.shape} et y_train de forme {y_train.shape}\")\n",
    "print(f\"Nous avons X_test de forme {X_test.shape} et y_test de forme {y_test.shape}\")\n",
    "      "
   ]
  },
  {
   "cell_type": "markdown",
   "id": "bfcc9b1b",
   "metadata": {},
   "source": [
    "# 3. Modélisation"
   ]
  },
  {
   "cell_type": "code",
   "execution_count": 46,
   "id": "fd71a32f",
   "metadata": {},
   "outputs": [
    {
     "name": "stdout",
     "output_type": "stream",
     "text": [
      "Durée d'exécution de regression: 0.03967785835266113s\n",
      "Durée d'exécution de regression: 0.13485193252563477s\n",
      "Durée d'exécution de regression: 0.10845422744750977s\n",
      "Durée d'exécution de regression: 16.45612096786499s\n",
      "Durée d'exécution de regression: 1.8596177101135254s\n",
      "Durée d'exécution de regression: 0.38614583015441895s\n",
      "Durée d'exécution de regression: 4.501839876174927s\n",
      "Durée d'exécution de regression: 5.157020330429077s\n",
      "Durée d'exécution de regression: 0.6667008399963379s\n",
      "Durée d'exécution de compare_resultat: 30.0685555934906s\n"
     ]
    },
    {
     "data": {
      "text/html": [
       "<style  type=\"text/css\" >\n",
       "</style><table id=\"T_d66e6_\" ><thead>    <tr>        <th class=\"col_heading level0 col0\" >modèle </th>        <th class=\"col_heading level0 col1\" >Fit time</th>        <th class=\"col_heading level0 col2\" >Durée</th>        <th class=\"col_heading level0 col3\" >Train R2</th>        <th class=\"col_heading level0 col4\" >Test R2</th>        <th class=\"col_heading level0 col5\" >Train RMSE</th>        <th class=\"col_heading level0 col6\" >Test RMSE</th>        <th class=\"col_heading level0 col7\" >Train MAE</th>        <th class=\"col_heading level0 col8\" >Test MAE</th>    </tr></thead><tbody>\n",
       "                <tr>\n",
       "                                <td id=\"T_d66e6_row0_col0\" class=\"data row0 col0\" >Dummy_regressor</td>\n",
       "                        <td id=\"T_d66e6_row0_col1\" class=\"data row0 col1\" >0.001180</td>\n",
       "                        <td id=\"T_d66e6_row0_col2\" class=\"data row0 col2\" >0.001174</td>\n",
       "                        <td id=\"T_d66e6_row0_col3\" class=\"data row0 col3\" >0.000000</td>\n",
       "                        <td id=\"T_d66e6_row0_col4\" class=\"data row0 col4\" >-0.511083</td>\n",
       "                        <td id=\"T_d66e6_row0_col5\" class=\"data row0 col5\" >0.557903</td>\n",
       "                        <td id=\"T_d66e6_row0_col6\" class=\"data row0 col6\" >0.576738</td>\n",
       "                        <td id=\"T_d66e6_row0_col7\" class=\"data row0 col7\" >0.444382</td>\n",
       "                        <td id=\"T_d66e6_row0_col8\" class=\"data row0 col8\" >0.462897</td>\n",
       "            </tr>\n",
       "            <tr>\n",
       "                                <td id=\"T_d66e6_row1_col0\" class=\"data row1 col0\" >Linear_regression</td>\n",
       "                        <td id=\"T_d66e6_row1_col1\" class=\"data row1 col1\" >0.007351</td>\n",
       "                        <td id=\"T_d66e6_row1_col2\" class=\"data row1 col2\" >0.002649</td>\n",
       "                        <td id=\"T_d66e6_row1_col3\" class=\"data row1 col3\" >0.527360</td>\n",
       "                        <td id=\"T_d66e6_row1_col4\" class=\"data row1 col4\" >0.233852</td>\n",
       "                        <td id=\"T_d66e6_row1_col5\" class=\"data row1 col5\" >0.383383</td>\n",
       "                        <td id=\"T_d66e6_row1_col6\" class=\"data row1 col6\" >0.407381</td>\n",
       "                        <td id=\"T_d66e6_row1_col7\" class=\"data row1 col7\" >0.301636</td>\n",
       "                        <td id=\"T_d66e6_row1_col8\" class=\"data row1 col8\" >0.320010</td>\n",
       "            </tr>\n",
       "            <tr>\n",
       "                                <td id=\"T_d66e6_row2_col0\" class=\"data row2 col0\" >Elastic net</td>\n",
       "                        <td id=\"T_d66e6_row2_col1\" class=\"data row2 col1\" >0.004161</td>\n",
       "                        <td id=\"T_d66e6_row2_col2\" class=\"data row2 col2\" >0.002983</td>\n",
       "                        <td id=\"T_d66e6_row2_col3\" class=\"data row2 col3\" >0.000000</td>\n",
       "                        <td id=\"T_d66e6_row2_col4\" class=\"data row2 col4\" >-0.511083</td>\n",
       "                        <td id=\"T_d66e6_row2_col5\" class=\"data row2 col5\" >0.557903</td>\n",
       "                        <td id=\"T_d66e6_row2_col6\" class=\"data row2 col6\" >0.576738</td>\n",
       "                        <td id=\"T_d66e6_row2_col7\" class=\"data row2 col7\" >0.444382</td>\n",
       "                        <td id=\"T_d66e6_row2_col8\" class=\"data row2 col8\" >0.462897</td>\n",
       "            </tr>\n",
       "            <tr>\n",
       "                                <td id=\"T_d66e6_row3_col0\" class=\"data row3 col0\" >Random_forest</td>\n",
       "                        <td id=\"T_d66e6_row3_col1\" class=\"data row3 col1\" >1.595417</td>\n",
       "                        <td id=\"T_d66e6_row3_col2\" class=\"data row3 col2\" >0.011570</td>\n",
       "                        <td id=\"T_d66e6_row3_col3\" class=\"data row3 col3\" >0.956587</td>\n",
       "                        <td id=\"T_d66e6_row3_col4\" class=\"data row3 col4\" >0.519718</td>\n",
       "                        <td id=\"T_d66e6_row3_col5\" class=\"data row3 col5\" >0.116176</td>\n",
       "                        <td id=\"T_d66e6_row3_col6\" class=\"data row3 col6\" >0.321921</td>\n",
       "                        <td id=\"T_d66e6_row3_col7\" class=\"data row3 col7\" >0.086296</td>\n",
       "                        <td id=\"T_d66e6_row3_col8\" class=\"data row3 col8\" >0.242247</td>\n",
       "            </tr>\n",
       "            <tr>\n",
       "                                <td id=\"T_d66e6_row4_col0\" class=\"data row4 col0\" >Bagging regressor</td>\n",
       "                        <td id=\"T_d66e6_row4_col1\" class=\"data row4 col1\" >0.181262</td>\n",
       "                        <td id=\"T_d66e6_row4_col2\" class=\"data row4 col2\" >0.003137</td>\n",
       "                        <td id=\"T_d66e6_row4_col3\" class=\"data row4 col3\" >0.936896</td>\n",
       "                        <td id=\"T_d66e6_row4_col4\" class=\"data row4 col4\" >0.466192</td>\n",
       "                        <td id=\"T_d66e6_row4_col5\" class=\"data row4 col5\" >0.140085</td>\n",
       "                        <td id=\"T_d66e6_row4_col6\" class=\"data row4 col6\" >0.338965</td>\n",
       "                        <td id=\"T_d66e6_row4_col7\" class=\"data row4 col7\" >0.098583</td>\n",
       "                        <td id=\"T_d66e6_row4_col8\" class=\"data row4 col8\" >0.257686</td>\n",
       "            </tr>\n",
       "            <tr>\n",
       "                                <td id=\"T_d66e6_row5_col0\" class=\"data row5 col0\" >LinearSVR</td>\n",
       "                        <td id=\"T_d66e6_row5_col1\" class=\"data row5 col1\" >0.031407</td>\n",
       "                        <td id=\"T_d66e6_row5_col2\" class=\"data row5 col2\" >0.003537</td>\n",
       "                        <td id=\"T_d66e6_row5_col3\" class=\"data row5 col3\" >0.500999</td>\n",
       "                        <td id=\"T_d66e6_row5_col4\" class=\"data row5 col4\" >0.171405</td>\n",
       "                        <td id=\"T_d66e6_row5_col5\" class=\"data row5 col5\" >0.393860</td>\n",
       "                        <td id=\"T_d66e6_row5_col6\" class=\"data row5 col6\" >0.426470</td>\n",
       "                        <td id=\"T_d66e6_row5_col7\" class=\"data row5 col7\" >0.297356</td>\n",
       "                        <td id=\"T_d66e6_row5_col8\" class=\"data row5 col8\" >0.323008</td>\n",
       "            </tr>\n",
       "            <tr>\n",
       "                                <td id=\"T_d66e6_row6_col0\" class=\"data row6 col0\" >KernelSVR</td>\n",
       "                        <td id=\"T_d66e6_row6_col1\" class=\"data row6 col1\" >0.383975</td>\n",
       "                        <td id=\"T_d66e6_row6_col2\" class=\"data row6 col2\" >0.008508</td>\n",
       "                        <td id=\"T_d66e6_row6_col3\" class=\"data row6 col3\" >0.508706</td>\n",
       "                        <td id=\"T_d66e6_row6_col4\" class=\"data row6 col4\" >0.200260</td>\n",
       "                        <td id=\"T_d66e6_row6_col5\" class=\"data row6 col5\" >0.390829</td>\n",
       "                        <td id=\"T_d66e6_row6_col6\" class=\"data row6 col6\" >0.418364</td>\n",
       "                        <td id=\"T_d66e6_row6_col7\" class=\"data row6 col7\" >0.298070</td>\n",
       "                        <td id=\"T_d66e6_row6_col8\" class=\"data row6 col8\" >0.319324</td>\n",
       "            </tr>\n",
       "            <tr>\n",
       "                                <td id=\"T_d66e6_row7_col0\" class=\"data row7 col0\" >GradientBoostingRegressor</td>\n",
       "                        <td id=\"T_d66e6_row7_col1\" class=\"data row7 col1\" >0.509366</td>\n",
       "                        <td id=\"T_d66e6_row7_col2\" class=\"data row7 col2\" >0.006286</td>\n",
       "                        <td id=\"T_d66e6_row7_col3\" class=\"data row7 col3\" >0.800081</td>\n",
       "                        <td id=\"T_d66e6_row7_col4\" class=\"data row7 col4\" >0.546691</td>\n",
       "                        <td id=\"T_d66e6_row7_col5\" class=\"data row7 col5\" >0.249271</td>\n",
       "                        <td id=\"T_d66e6_row7_col6\" class=\"data row7 col6\" >0.312827</td>\n",
       "                        <td id=\"T_d66e6_row7_col7\" class=\"data row7 col7\" >0.187013</td>\n",
       "                        <td id=\"T_d66e6_row7_col8\" class=\"data row7 col8\" >0.236103</td>\n",
       "            </tr>\n",
       "            <tr>\n",
       "                                <td id=\"T_d66e6_row8_col0\" class=\"data row8 col0\" >Knn</td>\n",
       "                        <td id=\"T_d66e6_row8_col1\" class=\"data row8 col1\" >0.006574</td>\n",
       "                        <td id=\"T_d66e6_row8_col2\" class=\"data row8 col2\" >0.030838</td>\n",
       "                        <td id=\"T_d66e6_row8_col3\" class=\"data row8 col3\" >0.645991</td>\n",
       "                        <td id=\"T_d66e6_row8_col4\" class=\"data row8 col4\" >0.178427</td>\n",
       "                        <td id=\"T_d66e6_row8_col5\" class=\"data row8 col5\" >0.331695</td>\n",
       "                        <td id=\"T_d66e6_row8_col6\" class=\"data row8 col6\" >0.422799</td>\n",
       "                        <td id=\"T_d66e6_row8_col7\" class=\"data row8 col7\" >0.254902</td>\n",
       "                        <td id=\"T_d66e6_row8_col8\" class=\"data row8 col8\" >0.327394</td>\n",
       "            </tr>\n",
       "    </tbody></table>"
      ],
      "text/plain": [
       "<pandas.io.formats.style.Styler at 0x1f4e1348790>"
      ]
     },
     "execution_count": 46,
     "metadata": {},
     "output_type": "execute_result"
    }
   ],
   "source": [
    "compare_resultat(X_train,y_train)"
   ]
  },
  {
   "cell_type": "markdown",
   "id": "fabf9151",
   "metadata": {},
   "source": [
    "### 3.0 Dummy Regressor"
   ]
  },
  {
   "cell_type": "code",
   "execution_count": 47,
   "id": "4c55f429",
   "metadata": {},
   "outputs": [
    {
     "name": "stdout",
     "output_type": "stream",
     "text": [
      "score train : 0.0 score_test : -0.0043 \n"
     ]
    }
   ],
   "source": [
    "dr=DummyRegressor(strategy='mean')\n",
    "dr.fit(X_train,y_train)\n",
    "score(dr)"
   ]
  },
  {
   "cell_type": "markdown",
   "id": "2ca8c0f2",
   "metadata": {},
   "source": [
    " \n",
    "\n",
    "### 3.1  Régression linéaire"
   ]
  },
  {
   "cell_type": "code",
   "execution_count": 48,
   "id": "e514d83f",
   "metadata": {},
   "outputs": [
    {
     "data": {
      "text/html": [
       "<style>#sk-container-id-3 {color: black;background-color: white;}#sk-container-id-3 pre{padding: 0;}#sk-container-id-3 div.sk-toggleable {background-color: white;}#sk-container-id-3 label.sk-toggleable__label {cursor: pointer;display: block;width: 100%;margin-bottom: 0;padding: 0.3em;box-sizing: border-box;text-align: center;}#sk-container-id-3 label.sk-toggleable__label-arrow:before {content: \"▸\";float: left;margin-right: 0.25em;color: #696969;}#sk-container-id-3 label.sk-toggleable__label-arrow:hover:before {color: black;}#sk-container-id-3 div.sk-estimator:hover label.sk-toggleable__label-arrow:before {color: black;}#sk-container-id-3 div.sk-toggleable__content {max-height: 0;max-width: 0;overflow: hidden;text-align: left;background-color: #f0f8ff;}#sk-container-id-3 div.sk-toggleable__content pre {margin: 0.2em;color: black;border-radius: 0.25em;background-color: #f0f8ff;}#sk-container-id-3 input.sk-toggleable__control:checked~div.sk-toggleable__content {max-height: 200px;max-width: 100%;overflow: auto;}#sk-container-id-3 input.sk-toggleable__control:checked~label.sk-toggleable__label-arrow:before {content: \"▾\";}#sk-container-id-3 div.sk-estimator input.sk-toggleable__control:checked~label.sk-toggleable__label {background-color: #d4ebff;}#sk-container-id-3 div.sk-label input.sk-toggleable__control:checked~label.sk-toggleable__label {background-color: #d4ebff;}#sk-container-id-3 input.sk-hidden--visually {border: 0;clip: rect(1px 1px 1px 1px);clip: rect(1px, 1px, 1px, 1px);height: 1px;margin: -1px;overflow: hidden;padding: 0;position: absolute;width: 1px;}#sk-container-id-3 div.sk-estimator {font-family: monospace;background-color: #f0f8ff;border: 1px dotted black;border-radius: 0.25em;box-sizing: border-box;margin-bottom: 0.5em;}#sk-container-id-3 div.sk-estimator:hover {background-color: #d4ebff;}#sk-container-id-3 div.sk-parallel-item::after {content: \"\";width: 100%;border-bottom: 1px solid gray;flex-grow: 1;}#sk-container-id-3 div.sk-label:hover label.sk-toggleable__label {background-color: #d4ebff;}#sk-container-id-3 div.sk-serial::before {content: \"\";position: absolute;border-left: 1px solid gray;box-sizing: border-box;top: 0;bottom: 0;left: 50%;z-index: 0;}#sk-container-id-3 div.sk-serial {display: flex;flex-direction: column;align-items: center;background-color: white;padding-right: 0.2em;padding-left: 0.2em;position: relative;}#sk-container-id-3 div.sk-item {position: relative;z-index: 1;}#sk-container-id-3 div.sk-parallel {display: flex;align-items: stretch;justify-content: center;background-color: white;position: relative;}#sk-container-id-3 div.sk-item::before, #sk-container-id-3 div.sk-parallel-item::before {content: \"\";position: absolute;border-left: 1px solid gray;box-sizing: border-box;top: 0;bottom: 0;left: 50%;z-index: -1;}#sk-container-id-3 div.sk-parallel-item {display: flex;flex-direction: column;z-index: 1;position: relative;background-color: white;}#sk-container-id-3 div.sk-parallel-item:first-child::after {align-self: flex-end;width: 50%;}#sk-container-id-3 div.sk-parallel-item:last-child::after {align-self: flex-start;width: 50%;}#sk-container-id-3 div.sk-parallel-item:only-child::after {width: 0;}#sk-container-id-3 div.sk-dashed-wrapped {border: 1px dashed gray;margin: 0 0.4em 0.5em 0.4em;box-sizing: border-box;padding-bottom: 0.4em;background-color: white;}#sk-container-id-3 div.sk-label label {font-family: monospace;font-weight: bold;display: inline-block;line-height: 1.2em;}#sk-container-id-3 div.sk-label-container {text-align: center;}#sk-container-id-3 div.sk-container {/* jupyter's `normalize.less` sets `[hidden] { display: none; }` but bootstrap.min.css set `[hidden] { display: none !important; }` so we also need the `!important` here to be able to override the default hidden behavior on the sphinx rendered scikit-learn.org. See: https://github.com/scikit-learn/scikit-learn/issues/21755 */display: inline-block !important;position: relative;}#sk-container-id-3 div.sk-text-repr-fallback {display: none;}</style><div id=\"sk-container-id-3\" class=\"sk-top-container\"><div class=\"sk-text-repr-fallback\"><pre>LinearRegression()</pre><b>In a Jupyter environment, please rerun this cell to show the HTML representation or trust the notebook. <br />On GitHub, the HTML representation is unable to render, please try loading this page with nbviewer.org.</b></div><div class=\"sk-container\" hidden><div class=\"sk-item\"><div class=\"sk-estimator sk-toggleable\"><input class=\"sk-toggleable__control sk-hidden--visually\" id=\"sk-estimator-id-15\" type=\"checkbox\" checked><label for=\"sk-estimator-id-15\" class=\"sk-toggleable__label sk-toggleable__label-arrow\">LinearRegression</label><div class=\"sk-toggleable__content\"><pre>LinearRegression()</pre></div></div></div></div></div>"
      ],
      "text/plain": [
       "LinearRegression()"
      ]
     },
     "execution_count": 48,
     "metadata": {},
     "output_type": "execute_result"
    }
   ],
   "source": [
    "lr=LinearRegression()\n",
    "lr.fit(X_train,y_train)"
   ]
  },
  {
   "cell_type": "code",
   "execution_count": 49,
   "id": "1d9dfb71",
   "metadata": {},
   "outputs": [],
   "source": [
    "params={'fit_intercept' :[True,False]}"
   ]
  },
  {
   "cell_type": "code",
   "execution_count": 50,
   "id": "7e65f2d7",
   "metadata": {},
   "outputs": [
    {
     "name": "stdout",
     "output_type": "stream",
     "text": [
      "Durée d'exécution de gridCV: 0.20331501960754395s\n"
     ]
    }
   ],
   "source": [
    "lr_grid = gridCV(lr, params, X_train, y_train,10)"
   ]
  },
  {
   "cell_type": "code",
   "execution_count": 51,
   "id": "62df7b9f",
   "metadata": {},
   "outputs": [
    {
     "name": "stdout",
     "output_type": "stream",
     "text": [
      "Durée d'exécution de resultats_grid: 0.00854945182800293s\n"
     ]
    }
   ],
   "source": [
    "optimisation = resultats_grid(lr_grid, \"Linear regression\",X_train, y_train)\n"
   ]
  },
  {
   "cell_type": "markdown",
   "id": "1b255a9f",
   "metadata": {},
   "source": [
    "### 3.2 Elastic Net"
   ]
  },
  {
   "cell_type": "code",
   "execution_count": 52,
   "id": "c99a8b88",
   "metadata": {},
   "outputs": [
    {
     "data": {
      "text/html": [
       "<style>#sk-container-id-4 {color: black;background-color: white;}#sk-container-id-4 pre{padding: 0;}#sk-container-id-4 div.sk-toggleable {background-color: white;}#sk-container-id-4 label.sk-toggleable__label {cursor: pointer;display: block;width: 100%;margin-bottom: 0;padding: 0.3em;box-sizing: border-box;text-align: center;}#sk-container-id-4 label.sk-toggleable__label-arrow:before {content: \"▸\";float: left;margin-right: 0.25em;color: #696969;}#sk-container-id-4 label.sk-toggleable__label-arrow:hover:before {color: black;}#sk-container-id-4 div.sk-estimator:hover label.sk-toggleable__label-arrow:before {color: black;}#sk-container-id-4 div.sk-toggleable__content {max-height: 0;max-width: 0;overflow: hidden;text-align: left;background-color: #f0f8ff;}#sk-container-id-4 div.sk-toggleable__content pre {margin: 0.2em;color: black;border-radius: 0.25em;background-color: #f0f8ff;}#sk-container-id-4 input.sk-toggleable__control:checked~div.sk-toggleable__content {max-height: 200px;max-width: 100%;overflow: auto;}#sk-container-id-4 input.sk-toggleable__control:checked~label.sk-toggleable__label-arrow:before {content: \"▾\";}#sk-container-id-4 div.sk-estimator input.sk-toggleable__control:checked~label.sk-toggleable__label {background-color: #d4ebff;}#sk-container-id-4 div.sk-label input.sk-toggleable__control:checked~label.sk-toggleable__label {background-color: #d4ebff;}#sk-container-id-4 input.sk-hidden--visually {border: 0;clip: rect(1px 1px 1px 1px);clip: rect(1px, 1px, 1px, 1px);height: 1px;margin: -1px;overflow: hidden;padding: 0;position: absolute;width: 1px;}#sk-container-id-4 div.sk-estimator {font-family: monospace;background-color: #f0f8ff;border: 1px dotted black;border-radius: 0.25em;box-sizing: border-box;margin-bottom: 0.5em;}#sk-container-id-4 div.sk-estimator:hover {background-color: #d4ebff;}#sk-container-id-4 div.sk-parallel-item::after {content: \"\";width: 100%;border-bottom: 1px solid gray;flex-grow: 1;}#sk-container-id-4 div.sk-label:hover label.sk-toggleable__label {background-color: #d4ebff;}#sk-container-id-4 div.sk-serial::before {content: \"\";position: absolute;border-left: 1px solid gray;box-sizing: border-box;top: 0;bottom: 0;left: 50%;z-index: 0;}#sk-container-id-4 div.sk-serial {display: flex;flex-direction: column;align-items: center;background-color: white;padding-right: 0.2em;padding-left: 0.2em;position: relative;}#sk-container-id-4 div.sk-item {position: relative;z-index: 1;}#sk-container-id-4 div.sk-parallel {display: flex;align-items: stretch;justify-content: center;background-color: white;position: relative;}#sk-container-id-4 div.sk-item::before, #sk-container-id-4 div.sk-parallel-item::before {content: \"\";position: absolute;border-left: 1px solid gray;box-sizing: border-box;top: 0;bottom: 0;left: 50%;z-index: -1;}#sk-container-id-4 div.sk-parallel-item {display: flex;flex-direction: column;z-index: 1;position: relative;background-color: white;}#sk-container-id-4 div.sk-parallel-item:first-child::after {align-self: flex-end;width: 50%;}#sk-container-id-4 div.sk-parallel-item:last-child::after {align-self: flex-start;width: 50%;}#sk-container-id-4 div.sk-parallel-item:only-child::after {width: 0;}#sk-container-id-4 div.sk-dashed-wrapped {border: 1px dashed gray;margin: 0 0.4em 0.5em 0.4em;box-sizing: border-box;padding-bottom: 0.4em;background-color: white;}#sk-container-id-4 div.sk-label label {font-family: monospace;font-weight: bold;display: inline-block;line-height: 1.2em;}#sk-container-id-4 div.sk-label-container {text-align: center;}#sk-container-id-4 div.sk-container {/* jupyter's `normalize.less` sets `[hidden] { display: none; }` but bootstrap.min.css set `[hidden] { display: none !important; }` so we also need the `!important` here to be able to override the default hidden behavior on the sphinx rendered scikit-learn.org. See: https://github.com/scikit-learn/scikit-learn/issues/21755 */display: inline-block !important;position: relative;}#sk-container-id-4 div.sk-text-repr-fallback {display: none;}</style><div id=\"sk-container-id-4\" class=\"sk-top-container\"><div class=\"sk-text-repr-fallback\"><pre>ElasticNet(alpha=0.001, random_state=1234)</pre><b>In a Jupyter environment, please rerun this cell to show the HTML representation or trust the notebook. <br />On GitHub, the HTML representation is unable to render, please try loading this page with nbviewer.org.</b></div><div class=\"sk-container\" hidden><div class=\"sk-item\"><div class=\"sk-estimator sk-toggleable\"><input class=\"sk-toggleable__control sk-hidden--visually\" id=\"sk-estimator-id-16\" type=\"checkbox\" checked><label for=\"sk-estimator-id-16\" class=\"sk-toggleable__label sk-toggleable__label-arrow\">ElasticNet</label><div class=\"sk-toggleable__content\"><pre>ElasticNet(alpha=0.001, random_state=1234)</pre></div></div></div></div></div>"
      ],
      "text/plain": [
       "ElasticNet(alpha=0.001, random_state=1234)"
      ]
     },
     "execution_count": 52,
     "metadata": {},
     "output_type": "execute_result"
    }
   ],
   "source": [
    "eln=ElasticNet(alpha=0.001, l1_ratio=0.5,random_state=seed)\n",
    "eln.fit(X_train,y_train)"
   ]
  },
  {
   "cell_type": "code",
   "execution_count": 53,
   "id": "181acbf8",
   "metadata": {},
   "outputs": [],
   "source": [
    "y_pred=eln.predict(X_test)"
   ]
  },
  {
   "cell_type": "code",
   "execution_count": 54,
   "id": "5690b6e6",
   "metadata": {},
   "outputs": [
    {
     "name": "stdout",
     "output_type": "stream",
     "text": [
      "score train : 0.522 score_test : 0.5358 \n"
     ]
    }
   ],
   "source": [
    "score(eln)"
   ]
  },
  {
   "cell_type": "code",
   "execution_count": 55,
   "id": "7d81267b",
   "metadata": {},
   "outputs": [
    {
     "name": "stdout",
     "output_type": "stream",
     "text": [
      "Durée d'exécution de regression: 0.1177668571472168s\n"
     ]
    },
    {
     "data": {
      "text/html": [
       "<div>\n",
       "<style scoped>\n",
       "    .dataframe tbody tr th:only-of-type {\n",
       "        vertical-align: middle;\n",
       "    }\n",
       "\n",
       "    .dataframe tbody tr th {\n",
       "        vertical-align: top;\n",
       "    }\n",
       "\n",
       "    .dataframe thead th {\n",
       "        text-align: right;\n",
       "    }\n",
       "</style>\n",
       "<table border=\"1\" class=\"dataframe\">\n",
       "  <thead>\n",
       "    <tr style=\"text-align: right;\">\n",
       "      <th></th>\n",
       "      <th>modèle</th>\n",
       "      <th>Fit time</th>\n",
       "      <th>Durée</th>\n",
       "      <th>Train R2</th>\n",
       "      <th>Test R2</th>\n",
       "      <th>Train RMSE</th>\n",
       "      <th>Test RMSE</th>\n",
       "      <th>Train MAE</th>\n",
       "      <th>Test MAE</th>\n",
       "    </tr>\n",
       "  </thead>\n",
       "  <tbody>\n",
       "    <tr>\n",
       "      <th>0</th>\n",
       "      <td>ElasticNet</td>\n",
       "      <td>0.005652</td>\n",
       "      <td>0.002799</td>\n",
       "      <td>0.526909</td>\n",
       "      <td>0.250379</td>\n",
       "      <td>0.383567</td>\n",
       "      <td>0.403851</td>\n",
       "      <td>0.301988</td>\n",
       "      <td>0.318749</td>\n",
       "    </tr>\n",
       "  </tbody>\n",
       "</table>\n",
       "</div>"
      ],
      "text/plain": [
       "      modèle   Fit time     Durée  Train R2   Test R2  Train RMSE  Test RMSE  \\\n",
       "0  ElasticNet  0.005652  0.002799  0.526909  0.250379    0.383567   0.403851   \n",
       "\n",
       "   Train MAE  Test MAE  \n",
       "0   0.301988  0.318749  "
      ]
     },
     "execution_count": 55,
     "metadata": {},
     "output_type": "execute_result"
    }
   ],
   "source": [
    "regression(eln,'ElasticNet',X_train,y_train)"
   ]
  },
  {
   "cell_type": "code",
   "execution_count": 56,
   "id": "53bd58b0",
   "metadata": {},
   "outputs": [],
   "source": [
    "eln_parameters ={\n",
    "    'alpha': np.arange(0.001,10, 0.1),\n",
    "    'l1_ratio' : np.arange(0.0, 1, 0.1)\n",
    "            }"
   ]
  },
  {
   "cell_type": "code",
   "execution_count": 57,
   "id": "0f4579cd",
   "metadata": {
    "scrolled": true
   },
   "outputs": [
    {
     "name": "stdout",
     "output_type": "stream",
     "text": [
      "Durée d'exécution de gridCV: 46.699204206466675s\n"
     ]
    }
   ],
   "source": [
    "eln_grid = gridCV(linear_model.ElasticNet(), eln_parameters, X_train, y_train,5)\n"
   ]
  },
  {
   "cell_type": "code",
   "execution_count": 58,
   "id": "201dfef0",
   "metadata": {},
   "outputs": [
    {
     "name": "stdout",
     "output_type": "stream",
     "text": [
      "Durée d'exécution de resultats_grid: 0.008060932159423828s\n"
     ]
    },
    {
     "data": {
      "text/html": [
       "<div>\n",
       "<style scoped>\n",
       "    .dataframe tbody tr th:only-of-type {\n",
       "        vertical-align: middle;\n",
       "    }\n",
       "\n",
       "    .dataframe tbody tr th {\n",
       "        vertical-align: top;\n",
       "    }\n",
       "\n",
       "    .dataframe thead th {\n",
       "        text-align: right;\n",
       "    }\n",
       "</style>\n",
       "<table border=\"1\" class=\"dataframe\">\n",
       "  <thead>\n",
       "    <tr style=\"text-align: right;\">\n",
       "      <th></th>\n",
       "      <th>modèle</th>\n",
       "      <th>Fit time</th>\n",
       "      <th>Score time</th>\n",
       "      <th>Mean train score RMSE</th>\n",
       "      <th>Mean test score RMSE</th>\n",
       "      <th>Best estimator</th>\n",
       "      <th>RMSE best estimator</th>\n",
       "    </tr>\n",
       "  </thead>\n",
       "  <tbody>\n",
       "    <tr>\n",
       "      <th>0</th>\n",
       "      <td>Linear regression</td>\n",
       "      <td>0.004736</td>\n",
       "      <td>0.002367</td>\n",
       "      <td>1.170324</td>\n",
       "      <td>1.202575</td>\n",
       "      <td>{'fit_intercept': True}</td>\n",
       "      <td>0.389351</td>\n",
       "    </tr>\n",
       "    <tr>\n",
       "      <th>1</th>\n",
       "      <td>ElasticNet</td>\n",
       "      <td>0.004920</td>\n",
       "      <td>0.001980</td>\n",
       "      <td>0.547042</td>\n",
       "      <td>0.547401</td>\n",
       "      <td>{'alpha': 0.001, 'l1_ratio': 0.9}</td>\n",
       "      <td>0.389624</td>\n",
       "    </tr>\n",
       "  </tbody>\n",
       "</table>\n",
       "</div>"
      ],
      "text/plain": [
       "              modèle  Fit time  Score time  Mean train score RMSE  \\\n",
       "0  Linear regression  0.004736    0.002367               1.170324   \n",
       "1         ElasticNet  0.004920    0.001980               0.547042   \n",
       "\n",
       "   Mean test score RMSE                     Best estimator  \\\n",
       "0              1.202575            {'fit_intercept': True}   \n",
       "1              0.547401  {'alpha': 0.001, 'l1_ratio': 0.9}   \n",
       "\n",
       "   RMSE best estimator  \n",
       "0             0.389351  \n",
       "1             0.389624  "
      ]
     },
     "execution_count": 58,
     "metadata": {},
     "output_type": "execute_result"
    }
   ],
   "source": [
    "optimi_eln = resultats_grid(eln_grid, \"ElasticNet\",X_train, y_train)\n",
    "optimisation=pd.concat([optimisation,optimi_eln],ignore_index=True)\n",
    "optimisation"
   ]
  },
  {
   "cell_type": "code",
   "execution_count": 59,
   "id": "1f295a30",
   "metadata": {},
   "outputs": [
    {
     "data": {
      "text/html": [
       "<style>#sk-container-id-5 {color: black;background-color: white;}#sk-container-id-5 pre{padding: 0;}#sk-container-id-5 div.sk-toggleable {background-color: white;}#sk-container-id-5 label.sk-toggleable__label {cursor: pointer;display: block;width: 100%;margin-bottom: 0;padding: 0.3em;box-sizing: border-box;text-align: center;}#sk-container-id-5 label.sk-toggleable__label-arrow:before {content: \"▸\";float: left;margin-right: 0.25em;color: #696969;}#sk-container-id-5 label.sk-toggleable__label-arrow:hover:before {color: black;}#sk-container-id-5 div.sk-estimator:hover label.sk-toggleable__label-arrow:before {color: black;}#sk-container-id-5 div.sk-toggleable__content {max-height: 0;max-width: 0;overflow: hidden;text-align: left;background-color: #f0f8ff;}#sk-container-id-5 div.sk-toggleable__content pre {margin: 0.2em;color: black;border-radius: 0.25em;background-color: #f0f8ff;}#sk-container-id-5 input.sk-toggleable__control:checked~div.sk-toggleable__content {max-height: 200px;max-width: 100%;overflow: auto;}#sk-container-id-5 input.sk-toggleable__control:checked~label.sk-toggleable__label-arrow:before {content: \"▾\";}#sk-container-id-5 div.sk-estimator input.sk-toggleable__control:checked~label.sk-toggleable__label {background-color: #d4ebff;}#sk-container-id-5 div.sk-label input.sk-toggleable__control:checked~label.sk-toggleable__label {background-color: #d4ebff;}#sk-container-id-5 input.sk-hidden--visually {border: 0;clip: rect(1px 1px 1px 1px);clip: rect(1px, 1px, 1px, 1px);height: 1px;margin: -1px;overflow: hidden;padding: 0;position: absolute;width: 1px;}#sk-container-id-5 div.sk-estimator {font-family: monospace;background-color: #f0f8ff;border: 1px dotted black;border-radius: 0.25em;box-sizing: border-box;margin-bottom: 0.5em;}#sk-container-id-5 div.sk-estimator:hover {background-color: #d4ebff;}#sk-container-id-5 div.sk-parallel-item::after {content: \"\";width: 100%;border-bottom: 1px solid gray;flex-grow: 1;}#sk-container-id-5 div.sk-label:hover label.sk-toggleable__label {background-color: #d4ebff;}#sk-container-id-5 div.sk-serial::before {content: \"\";position: absolute;border-left: 1px solid gray;box-sizing: border-box;top: 0;bottom: 0;left: 50%;z-index: 0;}#sk-container-id-5 div.sk-serial {display: flex;flex-direction: column;align-items: center;background-color: white;padding-right: 0.2em;padding-left: 0.2em;position: relative;}#sk-container-id-5 div.sk-item {position: relative;z-index: 1;}#sk-container-id-5 div.sk-parallel {display: flex;align-items: stretch;justify-content: center;background-color: white;position: relative;}#sk-container-id-5 div.sk-item::before, #sk-container-id-5 div.sk-parallel-item::before {content: \"\";position: absolute;border-left: 1px solid gray;box-sizing: border-box;top: 0;bottom: 0;left: 50%;z-index: -1;}#sk-container-id-5 div.sk-parallel-item {display: flex;flex-direction: column;z-index: 1;position: relative;background-color: white;}#sk-container-id-5 div.sk-parallel-item:first-child::after {align-self: flex-end;width: 50%;}#sk-container-id-5 div.sk-parallel-item:last-child::after {align-self: flex-start;width: 50%;}#sk-container-id-5 div.sk-parallel-item:only-child::after {width: 0;}#sk-container-id-5 div.sk-dashed-wrapped {border: 1px dashed gray;margin: 0 0.4em 0.5em 0.4em;box-sizing: border-box;padding-bottom: 0.4em;background-color: white;}#sk-container-id-5 div.sk-label label {font-family: monospace;font-weight: bold;display: inline-block;line-height: 1.2em;}#sk-container-id-5 div.sk-label-container {text-align: center;}#sk-container-id-5 div.sk-container {/* jupyter's `normalize.less` sets `[hidden] { display: none; }` but bootstrap.min.css set `[hidden] { display: none !important; }` so we also need the `!important` here to be able to override the default hidden behavior on the sphinx rendered scikit-learn.org. See: https://github.com/scikit-learn/scikit-learn/issues/21755 */display: inline-block !important;position: relative;}#sk-container-id-5 div.sk-text-repr-fallback {display: none;}</style><div id=\"sk-container-id-5\" class=\"sk-top-container\"><div class=\"sk-text-repr-fallback\"><pre>ElasticNet(alpha=0.401, l1_ratio=0.0, random_state=1234)</pre><b>In a Jupyter environment, please rerun this cell to show the HTML representation or trust the notebook. <br />On GitHub, the HTML representation is unable to render, please try loading this page with nbviewer.org.</b></div><div class=\"sk-container\" hidden><div class=\"sk-item\"><div class=\"sk-estimator sk-toggleable\"><input class=\"sk-toggleable__control sk-hidden--visually\" id=\"sk-estimator-id-17\" type=\"checkbox\" checked><label for=\"sk-estimator-id-17\" class=\"sk-toggleable__label sk-toggleable__label-arrow\">ElasticNet</label><div class=\"sk-toggleable__content\"><pre>ElasticNet(alpha=0.401, l1_ratio=0.0, random_state=1234)</pre></div></div></div></div></div>"
      ],
      "text/plain": [
       "ElasticNet(alpha=0.401, l1_ratio=0.0, random_state=1234)"
      ]
     },
     "execution_count": 59,
     "metadata": {},
     "output_type": "execute_result"
    }
   ],
   "source": [
    "eln=ElasticNet(alpha=0.401, l1_ratio=0.0,random_state=seed)\n",
    "eln.fit(X_train,y_train)"
   ]
  },
  {
   "cell_type": "code",
   "execution_count": 60,
   "id": "18b5ac11",
   "metadata": {},
   "outputs": [
    {
     "name": "stdout",
     "output_type": "stream",
     "text": [
      "score train : 0.4722 score_test : 0.4804 \n"
     ]
    }
   ],
   "source": [
    "score(eln)"
   ]
  },
  {
   "cell_type": "code",
   "execution_count": 61,
   "id": "e3da4f37",
   "metadata": {},
   "outputs": [
    {
     "data": {
      "image/png": "[encoded data removed]",
      "text/plain": [
       "<Figure size 720x720 with 1 Axes>"
      ]
     },
     "metadata": {
      "needs_background": "light"
     },
     "output_type": "display_data"
    }
   ],
   "source": [
    "y_pred=eln_grid.predict(X_test)\n",
    "plt.figure(figsize=(10,10))\n",
    "plt.scatter(y_test, y_pred, c='crimson')\n",
    "plt.yscale('log')\n",
    "plt.xscale('log')\n",
    "\n",
    "p1 = max(max(y_pred), max(y_test))\n",
    "p2 = min(min(y_pred), min(y_test))\n",
    "plt.plot([p1, p2], [p1, p2], 'b-')\n",
    "plt.xlabel('y Values', fontsize=15)\n",
    "plt.ylabel('Predictions', fontsize=15)\n",
    "plt.axis('equal')\n",
    "plt.show()"
   ]
  },
  {
   "cell_type": "markdown",
   "id": "d1455d7c",
   "metadata": {},
   "source": [
    "\n",
    "### 3.3 Random forest  "
   ]
  },
  {
   "cell_type": "code",
   "execution_count": 62,
   "id": "e953fcae",
   "metadata": {},
   "outputs": [
    {
     "data": {
      "text/html": [
       "<style>#sk-container-id-6 {color: black;background-color: white;}#sk-container-id-6 pre{padding: 0;}#sk-container-id-6 div.sk-toggleable {background-color: white;}#sk-container-id-6 label.sk-toggleable__label {cursor: pointer;display: block;width: 100%;margin-bottom: 0;padding: 0.3em;box-sizing: border-box;text-align: center;}#sk-container-id-6 label.sk-toggleable__label-arrow:before {content: \"▸\";float: left;margin-right: 0.25em;color: #696969;}#sk-container-id-6 label.sk-toggleable__label-arrow:hover:before {color: black;}#sk-container-id-6 div.sk-estimator:hover label.sk-toggleable__label-arrow:before {color: black;}#sk-container-id-6 div.sk-toggleable__content {max-height: 0;max-width: 0;overflow: hidden;text-align: left;background-color: #f0f8ff;}#sk-container-id-6 div.sk-toggleable__content pre {margin: 0.2em;color: black;border-radius: 0.25em;background-color: #f0f8ff;}#sk-container-id-6 input.sk-toggleable__control:checked~div.sk-toggleable__content {max-height: 200px;max-width: 100%;overflow: auto;}#sk-container-id-6 input.sk-toggleable__control:checked~label.sk-toggleable__label-arrow:before {content: \"▾\";}#sk-container-id-6 div.sk-estimator input.sk-toggleable__control:checked~label.sk-toggleable__label {background-color: #d4ebff;}#sk-container-id-6 div.sk-label input.sk-toggleable__control:checked~label.sk-toggleable__label {background-color: #d4ebff;}#sk-container-id-6 input.sk-hidden--visually {border: 0;clip: rect(1px 1px 1px 1px);clip: rect(1px, 1px, 1px, 1px);height: 1px;margin: -1px;overflow: hidden;padding: 0;position: absolute;width: 1px;}#sk-container-id-6 div.sk-estimator {font-family: monospace;background-color: #f0f8ff;border: 1px dotted black;border-radius: 0.25em;box-sizing: border-box;margin-bottom: 0.5em;}#sk-container-id-6 div.sk-estimator:hover {background-color: #d4ebff;}#sk-container-id-6 div.sk-parallel-item::after {content: \"\";width: 100%;border-bottom: 1px solid gray;flex-grow: 1;}#sk-container-id-6 div.sk-label:hover label.sk-toggleable__label {background-color: #d4ebff;}#sk-container-id-6 div.sk-serial::before {content: \"\";position: absolute;border-left: 1px solid gray;box-sizing: border-box;top: 0;bottom: 0;left: 50%;z-index: 0;}#sk-container-id-6 div.sk-serial {display: flex;flex-direction: column;align-items: center;background-color: white;padding-right: 0.2em;padding-left: 0.2em;position: relative;}#sk-container-id-6 div.sk-item {position: relative;z-index: 1;}#sk-container-id-6 div.sk-parallel {display: flex;align-items: stretch;justify-content: center;background-color: white;position: relative;}#sk-container-id-6 div.sk-item::before, #sk-container-id-6 div.sk-parallel-item::before {content: \"\";position: absolute;border-left: 1px solid gray;box-sizing: border-box;top: 0;bottom: 0;left: 50%;z-index: -1;}#sk-container-id-6 div.sk-parallel-item {display: flex;flex-direction: column;z-index: 1;position: relative;background-color: white;}#sk-container-id-6 div.sk-parallel-item:first-child::after {align-self: flex-end;width: 50%;}#sk-container-id-6 div.sk-parallel-item:last-child::after {align-self: flex-start;width: 50%;}#sk-container-id-6 div.sk-parallel-item:only-child::after {width: 0;}#sk-container-id-6 div.sk-dashed-wrapped {border: 1px dashed gray;margin: 0 0.4em 0.5em 0.4em;box-sizing: border-box;padding-bottom: 0.4em;background-color: white;}#sk-container-id-6 div.sk-label label {font-family: monospace;font-weight: bold;display: inline-block;line-height: 1.2em;}#sk-container-id-6 div.sk-label-container {text-align: center;}#sk-container-id-6 div.sk-container {/* jupyter's `normalize.less` sets `[hidden] { display: none; }` but bootstrap.min.css set `[hidden] { display: none !important; }` so we also need the `!important` here to be able to override the default hidden behavior on the sphinx rendered scikit-learn.org. See: https://github.com/scikit-learn/scikit-learn/issues/21755 */display: inline-block !important;position: relative;}#sk-container-id-6 div.sk-text-repr-fallback {display: none;}</style><div id=\"sk-container-id-6\" class=\"sk-top-container\"><div class=\"sk-text-repr-fallback\"><pre>RandomForestRegressor(random_state=1234)</pre><b>In a Jupyter environment, please rerun this cell to show the HTML representation or trust the notebook. <br />On GitHub, the HTML representation is unable to render, please try loading this page with nbviewer.org.</b></div><div class=\"sk-container\" hidden><div class=\"sk-item\"><div class=\"sk-estimator sk-toggleable\"><input class=\"sk-toggleable__control sk-hidden--visually\" id=\"sk-estimator-id-18\" type=\"checkbox\" checked><label for=\"sk-estimator-id-18\" class=\"sk-toggleable__label sk-toggleable__label-arrow\">RandomForestRegressor</label><div class=\"sk-toggleable__content\"><pre>RandomForestRegressor(random_state=1234)</pre></div></div></div></div></div>"
      ],
      "text/plain": [
       "RandomForestRegressor(random_state=1234)"
      ]
     },
     "execution_count": 62,
     "metadata": {},
     "output_type": "execute_result"
    }
   ],
   "source": [
    "rf = RandomForestRegressor(random_state=seed)\n",
    "rf.fit(X_train,y_train)"
   ]
  },
  {
   "cell_type": "code",
   "execution_count": 63,
   "id": "a3fa6f5c",
   "metadata": {},
   "outputs": [],
   "source": [
    "y_pred=rf.predict(X_test)"
   ]
  },
  {
   "cell_type": "code",
   "execution_count": 64,
   "id": "75d040e2",
   "metadata": {},
   "outputs": [
    {
     "name": "stdout",
     "output_type": "stream",
     "text": [
      "score train : 0.9555 score_test : 0.6935 \n"
     ]
    }
   ],
   "source": [
    "score(rf)"
   ]
  },
  {
   "cell_type": "code",
   "execution_count": 65,
   "id": "45829558",
   "metadata": {},
   "outputs": [
    {
     "name": "stdout",
     "output_type": "stream",
     "text": [
      "Durée d'exécution de regression: 15.54584288597107s\n"
     ]
    },
    {
     "data": {
      "text/html": [
       "<div>\n",
       "<style scoped>\n",
       "    .dataframe tbody tr th:only-of-type {\n",
       "        vertical-align: middle;\n",
       "    }\n",
       "\n",
       "    .dataframe tbody tr th {\n",
       "        vertical-align: top;\n",
       "    }\n",
       "\n",
       "    .dataframe thead th {\n",
       "        text-align: right;\n",
       "    }\n",
       "</style>\n",
       "<table border=\"1\" class=\"dataframe\">\n",
       "  <thead>\n",
       "    <tr style=\"text-align: right;\">\n",
       "      <th></th>\n",
       "      <th>modèle</th>\n",
       "      <th>Fit time</th>\n",
       "      <th>Durée</th>\n",
       "      <th>Train R2</th>\n",
       "      <th>Test R2</th>\n",
       "      <th>Train RMSE</th>\n",
       "      <th>Test RMSE</th>\n",
       "      <th>Train MAE</th>\n",
       "      <th>Test MAE</th>\n",
       "    </tr>\n",
       "  </thead>\n",
       "  <tbody>\n",
       "    <tr>\n",
       "      <th>0</th>\n",
       "      <td>RandomForest</td>\n",
       "      <td>1.505855</td>\n",
       "      <td>0.015154</td>\n",
       "      <td>0.956587</td>\n",
       "      <td>0.519718</td>\n",
       "      <td>0.116176</td>\n",
       "      <td>0.321921</td>\n",
       "      <td>0.086296</td>\n",
       "      <td>0.242247</td>\n",
       "    </tr>\n",
       "  </tbody>\n",
       "</table>\n",
       "</div>"
      ],
      "text/plain": [
       "        modèle   Fit time     Durée  Train R2   Test R2  Train RMSE  \\\n",
       "0  RandomForest  1.505855  0.015154  0.956587  0.519718    0.116176   \n",
       "\n",
       "   Test RMSE  Train MAE  Test MAE  \n",
       "0   0.321921   0.086296  0.242247  "
      ]
     },
     "execution_count": 65,
     "metadata": {},
     "output_type": "execute_result"
    }
   ],
   "source": [
    "regression(rf,'RandomForest',X_train,y_train)"
   ]
  },
  {
   "cell_type": "code",
   "execution_count": 66,
   "id": "42dfc330",
   "metadata": {},
   "outputs": [
    {
     "name": "stdout",
     "output_type": "stream",
     "text": [
      "Paramètres actuels:\n",
      "\n",
      "{'bootstrap': True,\n",
      " 'ccp_alpha': 0.0,\n",
      " 'criterion': 'squared_error',\n",
      " 'max_depth': None,\n",
      " 'max_features': 1.0,\n",
      " 'max_leaf_nodes': None,\n",
      " 'max_samples': None,\n",
      " 'min_impurity_decrease': 0.0,\n",
      " 'min_samples_leaf': 1,\n",
      " 'min_samples_split': 2,\n",
      " 'min_weight_fraction_leaf': 0.0,\n",
      " 'n_estimators': 100,\n",
      " 'n_jobs': None,\n",
      " 'oob_score': False,\n",
      " 'random_state': 1234,\n",
      " 'verbose': 0,\n",
      " 'warm_start': False}\n"
     ]
    }
   ],
   "source": [
    "\n",
    "#affichons les paramètres actuels de RandomForestRegressor\n",
    "print('Paramètres actuels:\\n')\n",
    "pprint(rf.get_params())"
   ]
  },
  {
   "cell_type": "code",
   "execution_count": 67,
   "id": "52094bda",
   "metadata": {},
   "outputs": [
    {
     "name": "stdout",
     "output_type": "stream",
     "text": [
      "{'bootstrap': [True, False],\n",
      " 'max_depth': [10, 20, 30, 40, 50, 60, 70, 80, 90, 100, 110, None],\n",
      " 'max_features': ['auto', 'sqrt'],\n",
      " 'min_samples_leaf': [1, 2, 4, 10],\n",
      " 'min_samples_split': [2, 5, 10],\n",
      " 'n_estimators': [200, 400, 600, 800, 1000, 1200, 1400, 1600, 1800, 2000]}\n"
     ]
    }
   ],
   "source": [
    "\n",
    "# nombre d'arbres dans random forest\n",
    "n_estimators = [int(x) for x in np.linspace(start = 200, stop = 2000, num = 10)]\n",
    "# Nombre de caractéristiques à prendre en compte à chaque split\n",
    "max_features = ['auto', 'sqrt']\n",
    "# Nombre maximum de branches dans l'arbre\n",
    "max_depth = [int(x) for x in np.linspace(10, 110, num = 11)]\n",
    "max_depth.append(None)\n",
    "# Nombre minimum d'échantillons nécessaire pour diviser\n",
    "min_samples_split = [2, 5, 10]\n",
    "# Nombre minimal d'échantillons requis à chaque nœud \n",
    "min_samples_leaf = [1, 2, 4,10]\n",
    "# Méthode de sélection des échantillons pour l'entrainement de chaque arbre\n",
    "bootstrap = [True, False]\n",
    "# Create the random grid\n",
    "random_grid = {'n_estimators': n_estimators,\n",
    "               'max_features': max_features,\n",
    "               'max_depth': max_depth,\n",
    "               'min_samples_split': min_samples_split,\n",
    "               'min_samples_leaf': min_samples_leaf,\n",
    "               'bootstrap': bootstrap}\n",
    "pprint(random_grid)"
   ]
  },
  {
   "cell_type": "code",
   "execution_count": 68,
   "id": "e9d16c38",
   "metadata": {},
   "outputs": [
    {
     "name": "stdout",
     "output_type": "stream",
     "text": [
      "Fitting 3 folds for each of 100 candidates, totalling 300 fits\n"
     ]
    },
    {
     "data": {
      "text/html": [
       "<style>#sk-container-id-7 {color: black;background-color: white;}#sk-container-id-7 pre{padding: 0;}#sk-container-id-7 div.sk-toggleable {background-color: white;}#sk-container-id-7 label.sk-toggleable__label {cursor: pointer;display: block;width: 100%;margin-bottom: 0;padding: 0.3em;box-sizing: border-box;text-align: center;}#sk-container-id-7 label.sk-toggleable__label-arrow:before {content: \"▸\";float: left;margin-right: 0.25em;color: #696969;}#sk-container-id-7 label.sk-toggleable__label-arrow:hover:before {color: black;}#sk-container-id-7 div.sk-estimator:hover label.sk-toggleable__label-arrow:before {color: black;}#sk-container-id-7 div.sk-toggleable__content {max-height: 0;max-width: 0;overflow: hidden;text-align: left;background-color: #f0f8ff;}#sk-container-id-7 div.sk-toggleable__content pre {margin: 0.2em;color: black;border-radius: 0.25em;background-color: #f0f8ff;}#sk-container-id-7 input.sk-toggleable__control:checked~div.sk-toggleable__content {max-height: 200px;max-width: 100%;overflow: auto;}#sk-container-id-7 input.sk-toggleable__control:checked~label.sk-toggleable__label-arrow:before {content: \"▾\";}#sk-container-id-7 div.sk-estimator input.sk-toggleable__control:checked~label.sk-toggleable__label {background-color: #d4ebff;}#sk-container-id-7 div.sk-label input.sk-toggleable__control:checked~label.sk-toggleable__label {background-color: #d4ebff;}#sk-container-id-7 input.sk-hidden--visually {border: 0;clip: rect(1px 1px 1px 1px);clip: rect(1px, 1px, 1px, 1px);height: 1px;margin: -1px;overflow: hidden;padding: 0;position: absolute;width: 1px;}#sk-container-id-7 div.sk-estimator {font-family: monospace;background-color: #f0f8ff;border: 1px dotted black;border-radius: 0.25em;box-sizing: border-box;margin-bottom: 0.5em;}#sk-container-id-7 div.sk-estimator:hover {background-color: #d4ebff;}#sk-container-id-7 div.sk-parallel-item::after {content: \"\";width: 100%;border-bottom: 1px solid gray;flex-grow: 1;}#sk-container-id-7 div.sk-label:hover label.sk-toggleable__label {background-color: #d4ebff;}#sk-container-id-7 div.sk-serial::before {content: \"\";position: absolute;border-left: 1px solid gray;box-sizing: border-box;top: 0;bottom: 0;left: 50%;z-index: 0;}#sk-container-id-7 div.sk-serial {display: flex;flex-direction: column;align-items: center;background-color: white;padding-right: 0.2em;padding-left: 0.2em;position: relative;}#sk-container-id-7 div.sk-item {position: relative;z-index: 1;}#sk-container-id-7 div.sk-parallel {display: flex;align-items: stretch;justify-content: center;background-color: white;position: relative;}#sk-container-id-7 div.sk-item::before, #sk-container-id-7 div.sk-parallel-item::before {content: \"\";position: absolute;border-left: 1px solid gray;box-sizing: border-box;top: 0;bottom: 0;left: 50%;z-index: -1;}#sk-container-id-7 div.sk-parallel-item {display: flex;flex-direction: column;z-index: 1;position: relative;background-color: white;}#sk-container-id-7 div.sk-parallel-item:first-child::after {align-self: flex-end;width: 50%;}#sk-container-id-7 div.sk-parallel-item:last-child::after {align-self: flex-start;width: 50%;}#sk-container-id-7 div.sk-parallel-item:only-child::after {width: 0;}#sk-container-id-7 div.sk-dashed-wrapped {border: 1px dashed gray;margin: 0 0.4em 0.5em 0.4em;box-sizing: border-box;padding-bottom: 0.4em;background-color: white;}#sk-container-id-7 div.sk-label label {font-family: monospace;font-weight: bold;display: inline-block;line-height: 1.2em;}#sk-container-id-7 div.sk-label-container {text-align: center;}#sk-container-id-7 div.sk-container {/* jupyter's `normalize.less` sets `[hidden] { display: none; }` but bootstrap.min.css set `[hidden] { display: none !important; }` so we also need the `!important` here to be able to override the default hidden behavior on the sphinx rendered scikit-learn.org. See: https://github.com/scikit-learn/scikit-learn/issues/21755 */display: inline-block !important;position: relative;}#sk-container-id-7 div.sk-text-repr-fallback {display: none;}</style><div id=\"sk-container-id-7\" class=\"sk-top-container\"><div class=\"sk-text-repr-fallback\"><pre>RandomizedSearchCV(cv=3, estimator=RandomForestRegressor(random_state=1234),\n",
       "                   n_iter=100, n_jobs=-1,\n",
       "                   param_distributions={&#x27;bootstrap&#x27;: [True, False],\n",
       "                                        &#x27;max_depth&#x27;: [10, 20, 30, 40, 50, 60,\n",
       "                                                      70, 80, 90, 100, 110,\n",
       "                                                      None],\n",
       "                                        &#x27;max_features&#x27;: [&#x27;auto&#x27;, &#x27;sqrt&#x27;],\n",
       "                                        &#x27;min_samples_leaf&#x27;: [1, 2, 4, 10],\n",
       "                                        &#x27;min_samples_split&#x27;: [2, 5, 10],\n",
       "                                        &#x27;n_estimators&#x27;: [200, 400, 600, 800,\n",
       "                                                         1000, 1200, 1400, 1600,\n",
       "                                                         1800, 2000]},\n",
       "                   random_state=1234, verbose=2)</pre><b>In a Jupyter environment, please rerun this cell to show the HTML representation or trust the notebook. <br />On GitHub, the HTML representation is unable to render, please try loading this page with nbviewer.org.</b></div><div class=\"sk-container\" hidden><div class=\"sk-item sk-dashed-wrapped\"><div class=\"sk-label-container\"><div class=\"sk-label sk-toggleable\"><input class=\"sk-toggleable__control sk-hidden--visually\" id=\"sk-estimator-id-19\" type=\"checkbox\" ><label for=\"sk-estimator-id-19\" class=\"sk-toggleable__label sk-toggleable__label-arrow\">RandomizedSearchCV</label><div class=\"sk-toggleable__content\"><pre>RandomizedSearchCV(cv=3, estimator=RandomForestRegressor(random_state=1234),\n",
       "                   n_iter=100, n_jobs=-1,\n",
       "                   param_distributions={&#x27;bootstrap&#x27;: [True, False],\n",
       "                                        &#x27;max_depth&#x27;: [10, 20, 30, 40, 50, 60,\n",
       "                                                      70, 80, 90, 100, 110,\n",
       "                                                      None],\n",
       "                                        &#x27;max_features&#x27;: [&#x27;auto&#x27;, &#x27;sqrt&#x27;],\n",
       "                                        &#x27;min_samples_leaf&#x27;: [1, 2, 4, 10],\n",
       "                                        &#x27;min_samples_split&#x27;: [2, 5, 10],\n",
       "                                        &#x27;n_estimators&#x27;: [200, 400, 600, 800,\n",
       "                                                         1000, 1200, 1400, 1600,\n",
       "                                                         1800, 2000]},\n",
       "                   random_state=1234, verbose=2)</pre></div></div></div><div class=\"sk-parallel\"><div class=\"sk-parallel-item\"><div class=\"sk-item\"><div class=\"sk-label-container\"><div class=\"sk-label sk-toggleable\"><input class=\"sk-toggleable__control sk-hidden--visually\" id=\"sk-estimator-id-20\" type=\"checkbox\" ><label for=\"sk-estimator-id-20\" class=\"sk-toggleable__label sk-toggleable__label-arrow\">estimator: RandomForestRegressor</label><div class=\"sk-toggleable__content\"><pre>RandomForestRegressor(random_state=1234)</pre></div></div></div><div class=\"sk-serial\"><div class=\"sk-item\"><div class=\"sk-estimator sk-toggleable\"><input class=\"sk-toggleable__control sk-hidden--visually\" id=\"sk-estimator-id-21\" type=\"checkbox\" ><label for=\"sk-estimator-id-21\" class=\"sk-toggleable__label sk-toggleable__label-arrow\">RandomForestRegressor</label><div class=\"sk-toggleable__content\"><pre>RandomForestRegressor(random_state=1234)</pre></div></div></div></div></div></div></div></div></div></div>"
      ],
      "text/plain": [
       "RandomizedSearchCV(cv=3, estimator=RandomForestRegressor(random_state=1234),\n",
       "                   n_iter=100, n_jobs=-1,\n",
       "                   param_distributions={'bootstrap': [True, False],\n",
       "                                        'max_depth': [10, 20, 30, 40, 50, 60,\n",
       "                                                      70, 80, 90, 100, 110,\n",
       "                                                      None],\n",
       "                                        'max_features': ['auto', 'sqrt'],\n",
       "                                        'min_samples_leaf': [1, 2, 4, 10],\n",
       "                                        'min_samples_split': [2, 5, 10],\n",
       "                                        'n_estimators': [200, 400, 600, 800,\n",
       "                                                         1000, 1200, 1400, 1600,\n",
       "                                                         1800, 2000]},\n",
       "                   random_state=1234, verbose=2)"
      ]
     },
     "execution_count": 68,
     "metadata": {},
     "output_type": "execute_result"
    }
   ],
   "source": [
    "rf_random = RandomizedSearchCV(estimator = rf, param_distributions = random_grid, n_iter = 100, cv = 3, verbose=2, random_state=seed, n_jobs = -1)\n",
    "# entrainer le modele rf_random\n",
    "rf_random.fit(X_train, y_train)"
   ]
  },
  {
   "cell_type": "code",
   "execution_count": 69,
   "id": "61c48937",
   "metadata": {},
   "outputs": [
    {
     "data": {
      "text/plain": [
       "{'n_estimators': 1800,\n",
       " 'min_samples_split': 2,\n",
       " 'min_samples_leaf': 1,\n",
       " 'max_features': 'sqrt',\n",
       " 'max_depth': 50,\n",
       " 'bootstrap': False}"
      ]
     },
     "execution_count": 69,
     "metadata": {},
     "output_type": "execute_result"
    }
   ],
   "source": [
    "# affichons les meilleurs paramètres\n",
    "rf_random.best_params_"
   ]
  },
  {
   "cell_type": "code",
   "execution_count": 70,
   "id": "bc44221e",
   "metadata": {},
   "outputs": [],
   "source": [
    "\n",
    "# Créez la grille de paramètres basée sur les résultats de la recherche aléatoire \n",
    "random_parameters = { \n",
    "    'bootstrap': [True], \n",
    "    'max_depth': [30, 50, 70], \n",
    "    'max_features': ['sqrt'], \n",
    "    'min_samples_leaf' : [1,3,5], \n",
    "    'min_samples_split' : [1, 2,4], \n",
    "    'n_estimators' : [1800] \n",
    "}\n"
   ]
  },
  {
   "cell_type": "code",
   "execution_count": 71,
   "id": "30c8d194",
   "metadata": {},
   "outputs": [
    {
     "name": "stdout",
     "output_type": "stream",
     "text": [
      "Durée d'exécution de gridCV: 858.1031906604767s\n"
     ]
    }
   ],
   "source": [
    "rf_grid = gridCV(RandomForestRegressor(), random_parameters,X_train, y_train,5)"
   ]
  },
  {
   "cell_type": "code",
   "execution_count": 72,
   "id": "62951ac2",
   "metadata": {},
   "outputs": [
    {
     "name": "stdout",
     "output_type": "stream",
     "text": [
      "Durée d'exécution de resultats_grid: 0.45952439308166504s\n"
     ]
    }
   ],
   "source": [
    "optimi_rf=resultats_grid(rf_grid,'RandomForest',X_train,y_train)\n",
    "optimisation=pd.concat([optimisation,optimi_rf],ignore_index=True)"
   ]
  },
  {
   "cell_type": "code",
   "execution_count": 73,
   "id": "4321bb03",
   "metadata": {},
   "outputs": [
    {
     "data": {
      "text/html": [
       "<div>\n",
       "<style scoped>\n",
       "    .dataframe tbody tr th:only-of-type {\n",
       "        vertical-align: middle;\n",
       "    }\n",
       "\n",
       "    .dataframe tbody tr th {\n",
       "        vertical-align: top;\n",
       "    }\n",
       "\n",
       "    .dataframe thead th {\n",
       "        text-align: right;\n",
       "    }\n",
       "</style>\n",
       "<table border=\"1\" class=\"dataframe\">\n",
       "  <thead>\n",
       "    <tr style=\"text-align: right;\">\n",
       "      <th></th>\n",
       "      <th>modèle</th>\n",
       "      <th>Fit time</th>\n",
       "      <th>Score time</th>\n",
       "      <th>Mean train score RMSE</th>\n",
       "      <th>Mean test score RMSE</th>\n",
       "      <th>Best estimator</th>\n",
       "      <th>RMSE best estimator</th>\n",
       "    </tr>\n",
       "  </thead>\n",
       "  <tbody>\n",
       "    <tr>\n",
       "      <th>0</th>\n",
       "      <td>Linear regression</td>\n",
       "      <td>0.004736</td>\n",
       "      <td>0.002367</td>\n",
       "      <td>1.170324</td>\n",
       "      <td>1.202575</td>\n",
       "      <td>{'fit_intercept': True}</td>\n",
       "      <td>0.389351</td>\n",
       "    </tr>\n",
       "    <tr>\n",
       "      <th>1</th>\n",
       "      <td>ElasticNet</td>\n",
       "      <td>0.004920</td>\n",
       "      <td>0.001980</td>\n",
       "      <td>0.547042</td>\n",
       "      <td>0.547401</td>\n",
       "      <td>{'alpha': 0.001, 'l1_ratio': 0.9}</td>\n",
       "      <td>0.389624</td>\n",
       "    </tr>\n",
       "    <tr>\n",
       "      <th>2</th>\n",
       "      <td>RandomForest</td>\n",
       "      <td>5.757202</td>\n",
       "      <td>0.192828</td>\n",
       "      <td>0.197999</td>\n",
       "      <td>0.321768</td>\n",
       "      <td>{'bootstrap': True, 'max_depth': 50, 'max_feat...</td>\n",
       "      <td>0.115707</td>\n",
       "    </tr>\n",
       "  </tbody>\n",
       "</table>\n",
       "</div>"
      ],
      "text/plain": [
       "              modèle  Fit time  Score time  Mean train score RMSE  \\\n",
       "0  Linear regression  0.004736    0.002367               1.170324   \n",
       "1         ElasticNet  0.004920    0.001980               0.547042   \n",
       "2       RandomForest  5.757202    0.192828               0.197999   \n",
       "\n",
       "   Mean test score RMSE                                     Best estimator  \\\n",
       "0              1.202575                            {'fit_intercept': True}   \n",
       "1              0.547401                  {'alpha': 0.001, 'l1_ratio': 0.9}   \n",
       "2              0.321768  {'bootstrap': True, 'max_depth': 50, 'max_feat...   \n",
       "\n",
       "   RMSE best estimator  \n",
       "0             0.389351  \n",
       "1             0.389624  \n",
       "2             0.115707  "
      ]
     },
     "execution_count": 73,
     "metadata": {},
     "output_type": "execute_result"
    }
   ],
   "source": [
    "optimisation"
   ]
  },
  {
   "cell_type": "code",
   "execution_count": 74,
   "id": "25b7b638",
   "metadata": {},
   "outputs": [
    {
     "name": "stdout",
     "output_type": "stream",
     "text": [
      "score train : -0.1157 score_test : -0.2908 \n"
     ]
    }
   ],
   "source": [
    "score(rf_grid)"
   ]
  },
  {
   "cell_type": "code",
   "execution_count": 75,
   "id": "4b787f41",
   "metadata": {},
   "outputs": [],
   "source": [
    "y_pred=rf_grid.predict(X_test)"
   ]
  },
  {
   "cell_type": "code",
   "execution_count": 76,
   "id": "5c592de3",
   "metadata": {},
   "outputs": [
    {
     "data": {
      "image/png": "[encoded data removed]",
      "text/plain": [
       "<Figure size 720x720 with 1 Axes>"
      ]
     },
     "metadata": {
      "needs_background": "light"
     },
     "output_type": "display_data"
    }
   ],
   "source": [
    "plt.figure(figsize=(10,10))\n",
    "plt.scatter(y_test, y_pred, c='crimson')\n",
    "plt.yscale('log')\n",
    "plt.xscale('log')\n",
    "\n",
    "p1 = max(max(y_pred), max(y_test))\n",
    "p2 = min(min(y_pred), min(y_test))\n",
    "plt.plot([p1, p2], [p1, p2], 'b-')\n",
    "plt.xlabel('y Values', fontsize=15)\n",
    "plt.ylabel('Predictions', fontsize=15)\n",
    "plt.axis('equal')\n",
    "plt.show()"
   ]
  },
  {
   "cell_type": "markdown",
   "id": "8f434ffd",
   "metadata": {},
   "source": [
    "### 3.4 Bagging Regressor "
   ]
  },
  {
   "cell_type": "code",
   "execution_count": 77,
   "id": "7ff94a77",
   "metadata": {},
   "outputs": [
    {
     "data": {
      "text/html": [
       "<style>#sk-container-id-8 {color: black;background-color: white;}#sk-container-id-8 pre{padding: 0;}#sk-container-id-8 div.sk-toggleable {background-color: white;}#sk-container-id-8 label.sk-toggleable__label {cursor: pointer;display: block;width: 100%;margin-bottom: 0;padding: 0.3em;box-sizing: border-box;text-align: center;}#sk-container-id-8 label.sk-toggleable__label-arrow:before {content: \"▸\";float: left;margin-right: 0.25em;color: #696969;}#sk-container-id-8 label.sk-toggleable__label-arrow:hover:before {color: black;}#sk-container-id-8 div.sk-estimator:hover label.sk-toggleable__label-arrow:before {color: black;}#sk-container-id-8 div.sk-toggleable__content {max-height: 0;max-width: 0;overflow: hidden;text-align: left;background-color: #f0f8ff;}#sk-container-id-8 div.sk-toggleable__content pre {margin: 0.2em;color: black;border-radius: 0.25em;background-color: #f0f8ff;}#sk-container-id-8 input.sk-toggleable__control:checked~div.sk-toggleable__content {max-height: 200px;max-width: 100%;overflow: auto;}#sk-container-id-8 input.sk-toggleable__control:checked~label.sk-toggleable__label-arrow:before {content: \"▾\";}#sk-container-id-8 div.sk-estimator input.sk-toggleable__control:checked~label.sk-toggleable__label {background-color: #d4ebff;}#sk-container-id-8 div.sk-label input.sk-toggleable__control:checked~label.sk-toggleable__label {background-color: #d4ebff;}#sk-container-id-8 input.sk-hidden--visually {border: 0;clip: rect(1px 1px 1px 1px);clip: rect(1px, 1px, 1px, 1px);height: 1px;margin: -1px;overflow: hidden;padding: 0;position: absolute;width: 1px;}#sk-container-id-8 div.sk-estimator {font-family: monospace;background-color: #f0f8ff;border: 1px dotted black;border-radius: 0.25em;box-sizing: border-box;margin-bottom: 0.5em;}#sk-container-id-8 div.sk-estimator:hover {background-color: #d4ebff;}#sk-container-id-8 div.sk-parallel-item::after {content: \"\";width: 100%;border-bottom: 1px solid gray;flex-grow: 1;}#sk-container-id-8 div.sk-label:hover label.sk-toggleable__label {background-color: #d4ebff;}#sk-container-id-8 div.sk-serial::before {content: \"\";position: absolute;border-left: 1px solid gray;box-sizing: border-box;top: 0;bottom: 0;left: 50%;z-index: 0;}#sk-container-id-8 div.sk-serial {display: flex;flex-direction: column;align-items: center;background-color: white;padding-right: 0.2em;padding-left: 0.2em;position: relative;}#sk-container-id-8 div.sk-item {position: relative;z-index: 1;}#sk-container-id-8 div.sk-parallel {display: flex;align-items: stretch;justify-content: center;background-color: white;position: relative;}#sk-container-id-8 div.sk-item::before, #sk-container-id-8 div.sk-parallel-item::before {content: \"\";position: absolute;border-left: 1px solid gray;box-sizing: border-box;top: 0;bottom: 0;left: 50%;z-index: -1;}#sk-container-id-8 div.sk-parallel-item {display: flex;flex-direction: column;z-index: 1;position: relative;background-color: white;}#sk-container-id-8 div.sk-parallel-item:first-child::after {align-self: flex-end;width: 50%;}#sk-container-id-8 div.sk-parallel-item:last-child::after {align-self: flex-start;width: 50%;}#sk-container-id-8 div.sk-parallel-item:only-child::after {width: 0;}#sk-container-id-8 div.sk-dashed-wrapped {border: 1px dashed gray;margin: 0 0.4em 0.5em 0.4em;box-sizing: border-box;padding-bottom: 0.4em;background-color: white;}#sk-container-id-8 div.sk-label label {font-family: monospace;font-weight: bold;display: inline-block;line-height: 1.2em;}#sk-container-id-8 div.sk-label-container {text-align: center;}#sk-container-id-8 div.sk-container {/* jupyter's `normalize.less` sets `[hidden] { display: none; }` but bootstrap.min.css set `[hidden] { display: none !important; }` so we also need the `!important` here to be able to override the default hidden behavior on the sphinx rendered scikit-learn.org. See: https://github.com/scikit-learn/scikit-learn/issues/21755 */display: inline-block !important;position: relative;}#sk-container-id-8 div.sk-text-repr-fallback {display: none;}</style><div id=\"sk-container-id-8\" class=\"sk-top-container\"><div class=\"sk-text-repr-fallback\"><pre>BaggingRegressor(n_estimators=50, random_state=1234)</pre><b>In a Jupyter environment, please rerun this cell to show the HTML representation or trust the notebook. <br />On GitHub, the HTML representation is unable to render, please try loading this page with nbviewer.org.</b></div><div class=\"sk-container\" hidden><div class=\"sk-item\"><div class=\"sk-estimator sk-toggleable\"><input class=\"sk-toggleable__control sk-hidden--visually\" id=\"sk-estimator-id-22\" type=\"checkbox\" checked><label for=\"sk-estimator-id-22\" class=\"sk-toggleable__label sk-toggleable__label-arrow\">BaggingRegressor</label><div class=\"sk-toggleable__content\"><pre>BaggingRegressor(n_estimators=50, random_state=1234)</pre></div></div></div></div></div>"
      ],
      "text/plain": [
       "BaggingRegressor(n_estimators=50, random_state=1234)"
      ]
     },
     "execution_count": 77,
     "metadata": {},
     "output_type": "execute_result"
    }
   ],
   "source": [
    "br=BaggingRegressor(n_estimators=50,random_state=seed)\n",
    "br.fit(X_train,y_train)\n"
   ]
  },
  {
   "cell_type": "code",
   "execution_count": 78,
   "id": "e74ce22e",
   "metadata": {},
   "outputs": [
    {
     "name": "stdout",
     "output_type": "stream",
     "text": [
      "score train : 0.9515 score_test : 0.6895 \n"
     ]
    }
   ],
   "source": [
    "score(br)"
   ]
  },
  {
   "cell_type": "code",
   "execution_count": 79,
   "id": "33981516",
   "metadata": {},
   "outputs": [
    {
     "name": "stdout",
     "output_type": "stream",
     "text": [
      "Durée d'exécution de regression: 8.502344369888306s\n"
     ]
    },
    {
     "data": {
      "text/html": [
       "<div>\n",
       "<style scoped>\n",
       "    .dataframe tbody tr th:only-of-type {\n",
       "        vertical-align: middle;\n",
       "    }\n",
       "\n",
       "    .dataframe tbody tr th {\n",
       "        vertical-align: top;\n",
       "    }\n",
       "\n",
       "    .dataframe thead th {\n",
       "        text-align: right;\n",
       "    }\n",
       "</style>\n",
       "<table border=\"1\" class=\"dataframe\">\n",
       "  <thead>\n",
       "    <tr style=\"text-align: right;\">\n",
       "      <th></th>\n",
       "      <th>modèle</th>\n",
       "      <th>Fit time</th>\n",
       "      <th>Durée</th>\n",
       "      <th>Train R2</th>\n",
       "      <th>Test R2</th>\n",
       "      <th>Train RMSE</th>\n",
       "      <th>Test RMSE</th>\n",
       "      <th>Train MAE</th>\n",
       "      <th>Test MAE</th>\n",
       "    </tr>\n",
       "  </thead>\n",
       "  <tbody>\n",
       "    <tr>\n",
       "      <th>0</th>\n",
       "      <td>BaggingRegressor</td>\n",
       "      <td>0.810356</td>\n",
       "      <td>0.011109</td>\n",
       "      <td>0.95448</td>\n",
       "      <td>0.507531</td>\n",
       "      <td>0.118937</td>\n",
       "      <td>0.325971</td>\n",
       "      <td>0.087831</td>\n",
       "      <td>0.244503</td>\n",
       "    </tr>\n",
       "  </tbody>\n",
       "</table>\n",
       "</div>"
      ],
      "text/plain": [
       "            modèle   Fit time     Durée  Train R2   Test R2  Train RMSE  \\\n",
       "0  BaggingRegressor  0.810356  0.011109   0.95448  0.507531    0.118937   \n",
       "\n",
       "   Test RMSE  Train MAE  Test MAE  \n",
       "0   0.325971   0.087831  0.244503  "
      ]
     },
     "execution_count": 79,
     "metadata": {},
     "output_type": "execute_result"
    }
   ],
   "source": [
    "regression(br,'BaggingRegressor',X_train,y_train)"
   ]
  },
  {
   "cell_type": "code",
   "execution_count": 80,
   "id": "d4b7ea1c",
   "metadata": {},
   "outputs": [],
   "source": [
    "n_samples = X.shape[0]\n",
    "n_features = X.shape[1]\n",
    "bagging_parameters = { \n",
    "    'n_estimators': [20,50,100],\n",
    "          'max_samples': [0.5,1.0, n_samples//2,],\n",
    "          'max_features': [0.5,1.0, n_features//2,],\n",
    "          'bootstrap': [True, False],\n",
    "          'bootstrap_features': [True, False]}\n"
   ]
  },
  {
   "cell_type": "code",
   "execution_count": 81,
   "id": "781861a0",
   "metadata": {},
   "outputs": [
    {
     "name": "stdout",
     "output_type": "stream",
     "text": [
      "Durée d'exécution de gridCV: 290.8455157279968s\n"
     ]
    }
   ],
   "source": [
    "br_grid = gridCV(BaggingRegressor(), bagging_parameters,X_train, y_train,5)"
   ]
  },
  {
   "cell_type": "code",
   "execution_count": 82,
   "id": "82985842",
   "metadata": {},
   "outputs": [
    {
     "name": "stdout",
     "output_type": "stream",
     "text": [
      "Durée d'exécution de resultats_grid: 0.045645952224731445s\n"
     ]
    }
   ],
   "source": [
    "optimi_br=resultats_grid(br_grid,'BaggingRegressor',X_train,y_train)\n",
    "optimisation=pd.concat([optimisation,optimi_br],ignore_index=True)"
   ]
  },
  {
   "cell_type": "code",
   "execution_count": 83,
   "id": "afc3632b",
   "metadata": {},
   "outputs": [
    {
     "data": {
      "text/html": [
       "<style  type=\"text/css\" >\n",
       "</style><table id=\"T_fae77_\" ><thead>    <tr>        <th class=\"col_heading level0 col0\" >modèle</th>        <th class=\"col_heading level0 col1\" >Fit time</th>        <th class=\"col_heading level0 col2\" >Score time</th>        <th class=\"col_heading level0 col3\" >Mean train score RMSE</th>        <th class=\"col_heading level0 col4\" >Mean test score RMSE</th>        <th class=\"col_heading level0 col5\" >Best estimator</th>        <th class=\"col_heading level0 col6\" >RMSE best estimator</th>    </tr></thead><tbody>\n",
       "                <tr>\n",
       "                                <td id=\"T_fae77_row0_col0\" class=\"data row0 col0\" >Linear regression</td>\n",
       "                        <td id=\"T_fae77_row0_col1\" class=\"data row0 col1\" >0.004736</td>\n",
       "                        <td id=\"T_fae77_row0_col2\" class=\"data row0 col2\" >0.002367</td>\n",
       "                        <td id=\"T_fae77_row0_col3\" class=\"data row0 col3\" >1.170324</td>\n",
       "                        <td id=\"T_fae77_row0_col4\" class=\"data row0 col4\" >1.202575</td>\n",
       "                        <td id=\"T_fae77_row0_col5\" class=\"data row0 col5\" >{'fit_intercept': True}</td>\n",
       "                        <td id=\"T_fae77_row0_col6\" class=\"data row0 col6\" >0.389351</td>\n",
       "            </tr>\n",
       "            <tr>\n",
       "                                <td id=\"T_fae77_row1_col0\" class=\"data row1 col0\" >ElasticNet</td>\n",
       "                        <td id=\"T_fae77_row1_col1\" class=\"data row1 col1\" >0.004920</td>\n",
       "                        <td id=\"T_fae77_row1_col2\" class=\"data row1 col2\" >0.001980</td>\n",
       "                        <td id=\"T_fae77_row1_col3\" class=\"data row1 col3\" >0.547042</td>\n",
       "                        <td id=\"T_fae77_row1_col4\" class=\"data row1 col4\" >0.547401</td>\n",
       "                        <td id=\"T_fae77_row1_col5\" class=\"data row1 col5\" >{'alpha': 0.001, 'l1_ratio': 0.9}</td>\n",
       "                        <td id=\"T_fae77_row1_col6\" class=\"data row1 col6\" >0.389624</td>\n",
       "            </tr>\n",
       "            <tr>\n",
       "                                <td id=\"T_fae77_row2_col0\" class=\"data row2 col0\" >RandomForest</td>\n",
       "                        <td id=\"T_fae77_row2_col1\" class=\"data row2 col1\" >5.757202</td>\n",
       "                        <td id=\"T_fae77_row2_col2\" class=\"data row2 col2\" >0.192828</td>\n",
       "                        <td id=\"T_fae77_row2_col3\" class=\"data row2 col3\" >0.197999</td>\n",
       "                        <td id=\"T_fae77_row2_col4\" class=\"data row2 col4\" >0.321768</td>\n",
       "                        <td id=\"T_fae77_row2_col5\" class=\"data row2 col5\" >{'bootstrap': True, 'max_depth': 50, 'max_features': 'sqrt', 'min_samples_leaf': 1, 'min_samples_split': 1, 'n_estimators': 1800}</td>\n",
       "                        <td id=\"T_fae77_row2_col6\" class=\"data row2 col6\" >0.115707</td>\n",
       "            </tr>\n",
       "            <tr>\n",
       "                                <td id=\"T_fae77_row3_col0\" class=\"data row3 col0\" >BaggingRegressor</td>\n",
       "                        <td id=\"T_fae77_row3_col1\" class=\"data row3 col1\" >0.506557</td>\n",
       "                        <td id=\"T_fae77_row3_col2\" class=\"data row3 col2\" >0.010730</td>\n",
       "                        <td id=\"T_fae77_row3_col3\" class=\"data row3 col3\" >0.131273</td>\n",
       "                        <td id=\"T_fae77_row3_col4\" class=\"data row3 col4\" >0.341911</td>\n",
       "                        <td id=\"T_fae77_row3_col5\" class=\"data row3 col5\" >{'bootstrap': False, 'bootstrap_features': True, 'max_features': 1.0, 'max_samples': 0.5, 'n_estimators': 100}</td>\n",
       "                        <td id=\"T_fae77_row3_col6\" class=\"data row3 col6\" >0.163183</td>\n",
       "            </tr>\n",
       "    </tbody></table>"
      ],
      "text/plain": [
       "<pandas.io.formats.style.Styler at 0x1f4e3aa7c10>"
      ]
     },
     "execution_count": 83,
     "metadata": {},
     "output_type": "execute_result"
    }
   ],
   "source": [
    "optimisation.style.hide_index()"
   ]
  },
  {
   "cell_type": "markdown",
   "id": "838a0cb8",
   "metadata": {},
   "source": [
    "\n",
    "\n",
    "### 3.5 Support Vector Machines : on va utiliser  linearSVR \n"
   ]
  },
  {
   "cell_type": "code",
   "execution_count": 84,
   "id": "9e0d9720",
   "metadata": {},
   "outputs": [],
   "source": [
    "svr_linear_parameters={\n",
    "    'C':np.logspace(-4,0,5),\n",
    "    'epsilon' : [0, 0.01, 0.1, 0.5, 1, 2],\n",
    "    'loss': [\"epsilon_insensitive\",\"squared_epsilon_insensitive\"]\n",
    "}"
   ]
  },
  {
   "cell_type": "code",
   "execution_count": 85,
   "id": "463a31aa",
   "metadata": {},
   "outputs": [
    {
     "name": "stdout",
     "output_type": "stream",
     "text": [
      "Durée d'exécution de gridCV: 4.707526206970215s\n"
     ]
    }
   ],
   "source": [
    "svr_linear_grid=gridCV(LinearSVR(),svr_linear_parameters,X_train,y_train,5)"
   ]
  },
  {
   "cell_type": "code",
   "execution_count": 86,
   "id": "5b30dad7",
   "metadata": {},
   "outputs": [
    {
     "name": "stdout",
     "output_type": "stream",
     "text": [
      "score train : -0.3895 score_test : -0.3676 \n"
     ]
    }
   ],
   "source": [
    "score(svr_linear_grid)"
   ]
  },
  {
   "cell_type": "code",
   "execution_count": 87,
   "id": "913951ea",
   "metadata": {},
   "outputs": [
    {
     "name": "stdout",
     "output_type": "stream",
     "text": [
      "Durée d'exécution de regression: 0.4109225273132324s\n"
     ]
    },
    {
     "data": {
      "text/html": [
       "<div>\n",
       "<style scoped>\n",
       "    .dataframe tbody tr th:only-of-type {\n",
       "        vertical-align: middle;\n",
       "    }\n",
       "\n",
       "    .dataframe tbody tr th {\n",
       "        vertical-align: top;\n",
       "    }\n",
       "\n",
       "    .dataframe thead th {\n",
       "        text-align: right;\n",
       "    }\n",
       "</style>\n",
       "<table border=\"1\" class=\"dataframe\">\n",
       "  <thead>\n",
       "    <tr style=\"text-align: right;\">\n",
       "      <th></th>\n",
       "      <th>modèle</th>\n",
       "      <th>Fit time</th>\n",
       "      <th>Durée</th>\n",
       "      <th>Train R2</th>\n",
       "      <th>Test R2</th>\n",
       "      <th>Train RMSE</th>\n",
       "      <th>Test RMSE</th>\n",
       "      <th>Train MAE</th>\n",
       "      <th>Test MAE</th>\n",
       "    </tr>\n",
       "  </thead>\n",
       "  <tbody>\n",
       "    <tr>\n",
       "      <th>0</th>\n",
       "      <td>LinearSVR</td>\n",
       "      <td>0.031123</td>\n",
       "      <td>0.006509</td>\n",
       "      <td>0.500348</td>\n",
       "      <td>0.169671</td>\n",
       "      <td>0.394098</td>\n",
       "      <td>0.427113</td>\n",
       "      <td>0.297304</td>\n",
       "      <td>0.32255</td>\n",
       "    </tr>\n",
       "  </tbody>\n",
       "</table>\n",
       "</div>"
      ],
      "text/plain": [
       "     modèle   Fit time     Durée  Train R2   Test R2  Train RMSE  Test RMSE  \\\n",
       "0  LinearSVR  0.031123  0.006509  0.500348  0.169671    0.394098   0.427113   \n",
       "\n",
       "   Train MAE  Test MAE  \n",
       "0   0.297304   0.32255  "
      ]
     },
     "execution_count": 87,
     "metadata": {},
     "output_type": "execute_result"
    }
   ],
   "source": [
    "lsvr=LinearSVR()\n",
    "lsvr.fit(X_train,y_train)\n",
    "regression(lsvr,'LinearSVR',X_train,y_train)"
   ]
  },
  {
   "cell_type": "code",
   "execution_count": 88,
   "id": "0f81a1e5",
   "metadata": {},
   "outputs": [
    {
     "name": "stdout",
     "output_type": "stream",
     "text": [
      "Durée d'exécution de resultats_grid: 0.015889644622802734s\n"
     ]
    }
   ],
   "source": [
    "optimi_svr_linear=resultats_grid(svr_linear_grid,'LinearSVR',X_train,y_train)\n",
    "optimisation=pd.concat([optimisation,optimi_svr_linear],ignore_index=True)"
   ]
  },
  {
   "cell_type": "code",
   "execution_count": 89,
   "id": "16ebde69",
   "metadata": {},
   "outputs": [
    {
     "data": {
      "text/html": [
       "<style  type=\"text/css\" >\n",
       "</style><table id=\"T_35a1c_\" ><thead>    <tr>        <th class=\"col_heading level0 col0\" >modèle</th>        <th class=\"col_heading level0 col1\" >Fit time</th>        <th class=\"col_heading level0 col2\" >Score time</th>        <th class=\"col_heading level0 col3\" >Mean train score RMSE</th>        <th class=\"col_heading level0 col4\" >Mean test score RMSE</th>        <th class=\"col_heading level0 col5\" >Best estimator</th>        <th class=\"col_heading level0 col6\" >RMSE best estimator</th>    </tr></thead><tbody>\n",
       "                <tr>\n",
       "                                <td id=\"T_35a1c_row0_col0\" class=\"data row0 col0\" >Linear regression</td>\n",
       "                        <td id=\"T_35a1c_row0_col1\" class=\"data row0 col1\" >0.004736</td>\n",
       "                        <td id=\"T_35a1c_row0_col2\" class=\"data row0 col2\" >0.002367</td>\n",
       "                        <td id=\"T_35a1c_row0_col3\" class=\"data row0 col3\" >1.170324</td>\n",
       "                        <td id=\"T_35a1c_row0_col4\" class=\"data row0 col4\" >1.202575</td>\n",
       "                        <td id=\"T_35a1c_row0_col5\" class=\"data row0 col5\" >{'fit_intercept': True}</td>\n",
       "                        <td id=\"T_35a1c_row0_col6\" class=\"data row0 col6\" >0.389351</td>\n",
       "            </tr>\n",
       "            <tr>\n",
       "                                <td id=\"T_35a1c_row1_col0\" class=\"data row1 col0\" >ElasticNet</td>\n",
       "                        <td id=\"T_35a1c_row1_col1\" class=\"data row1 col1\" >0.004920</td>\n",
       "                        <td id=\"T_35a1c_row1_col2\" class=\"data row1 col2\" >0.001980</td>\n",
       "                        <td id=\"T_35a1c_row1_col3\" class=\"data row1 col3\" >0.547042</td>\n",
       "                        <td id=\"T_35a1c_row1_col4\" class=\"data row1 col4\" >0.547401</td>\n",
       "                        <td id=\"T_35a1c_row1_col5\" class=\"data row1 col5\" >{'alpha': 0.001, 'l1_ratio': 0.9}</td>\n",
       "                        <td id=\"T_35a1c_row1_col6\" class=\"data row1 col6\" >0.389624</td>\n",
       "            </tr>\n",
       "            <tr>\n",
       "                                <td id=\"T_35a1c_row2_col0\" class=\"data row2 col0\" >RandomForest</td>\n",
       "                        <td id=\"T_35a1c_row2_col1\" class=\"data row2 col1\" >5.757202</td>\n",
       "                        <td id=\"T_35a1c_row2_col2\" class=\"data row2 col2\" >0.192828</td>\n",
       "                        <td id=\"T_35a1c_row2_col3\" class=\"data row2 col3\" >0.197999</td>\n",
       "                        <td id=\"T_35a1c_row2_col4\" class=\"data row2 col4\" >0.321768</td>\n",
       "                        <td id=\"T_35a1c_row2_col5\" class=\"data row2 col5\" >{'bootstrap': True, 'max_depth': 50, 'max_features': 'sqrt', 'min_samples_leaf': 1, 'min_samples_split': 1, 'n_estimators': 1800}</td>\n",
       "                        <td id=\"T_35a1c_row2_col6\" class=\"data row2 col6\" >0.115707</td>\n",
       "            </tr>\n",
       "            <tr>\n",
       "                                <td id=\"T_35a1c_row3_col0\" class=\"data row3 col0\" >BaggingRegressor</td>\n",
       "                        <td id=\"T_35a1c_row3_col1\" class=\"data row3 col1\" >0.506557</td>\n",
       "                        <td id=\"T_35a1c_row3_col2\" class=\"data row3 col2\" >0.010730</td>\n",
       "                        <td id=\"T_35a1c_row3_col3\" class=\"data row3 col3\" >0.131273</td>\n",
       "                        <td id=\"T_35a1c_row3_col4\" class=\"data row3 col4\" >0.341911</td>\n",
       "                        <td id=\"T_35a1c_row3_col5\" class=\"data row3 col5\" >{'bootstrap': False, 'bootstrap_features': True, 'max_features': 1.0, 'max_samples': 0.5, 'n_estimators': 100}</td>\n",
       "                        <td id=\"T_35a1c_row3_col6\" class=\"data row3 col6\" >0.163183</td>\n",
       "            </tr>\n",
       "            <tr>\n",
       "                                <td id=\"T_35a1c_row4_col0\" class=\"data row4 col0\" >LinearSVR</td>\n",
       "                        <td id=\"T_35a1c_row4_col1\" class=\"data row4 col1\" >0.010221</td>\n",
       "                        <td id=\"T_35a1c_row4_col2\" class=\"data row4 col2\" >0.002118</td>\n",
       "                        <td id=\"T_35a1c_row4_col3\" class=\"data row4 col3\" >2.197674</td>\n",
       "                        <td id=\"T_35a1c_row4_col4\" class=\"data row4 col4\" >2.207417</td>\n",
       "                        <td id=\"T_35a1c_row4_col5\" class=\"data row4 col5\" >{'C': 1.0, 'epsilon': 0.01, 'loss': 'squared_epsilon_insensitive'}</td>\n",
       "                        <td id=\"T_35a1c_row4_col6\" class=\"data row4 col6\" >0.389472</td>\n",
       "            </tr>\n",
       "    </tbody></table>"
      ],
      "text/plain": [
       "<pandas.io.formats.style.Styler at 0x1f4e007b460>"
      ]
     },
     "execution_count": 89,
     "metadata": {},
     "output_type": "execute_result"
    }
   ],
   "source": [
    "optimisation.style.hide_index()"
   ]
  },
  {
   "cell_type": "code",
   "execution_count": 90,
   "id": "d2d0cd84",
   "metadata": {},
   "outputs": [
    {
     "data": {
      "image/png": "[encoded data removed]",
      "text/plain": [
       "<Figure size 720x720 with 1 Axes>"
      ]
     },
     "metadata": {
      "needs_background": "light"
     },
     "output_type": "display_data"
    }
   ],
   "source": [
    "y_pred=svr_linear_grid.predict(X_test)\n",
    "plt.figure(figsize=(10,10))\n",
    "plt.scatter(y_test, y_pred, c='crimson')\n",
    "plt.yscale('log')\n",
    "plt.xscale('log')\n",
    "\n",
    "p1 = max(max(y_pred), max(y_test))\n",
    "p2 = min(min(y_pred), min(y_test))\n",
    "plt.plot([p1, p2], [p1, p2], 'b-')\n",
    "plt.xlabel('y Values', fontsize=15)\n",
    "plt.ylabel('Predictions', fontsize=15)\n",
    "plt.axis('equal')\n",
    "plt.show()"
   ]
  },
  {
   "cell_type": "markdown",
   "id": "8cc9225c",
   "metadata": {},
   "source": [
    "### 3.6 SVR à noyau"
   ]
  },
  {
   "cell_type": "code",
   "execution_count": 91,
   "id": "69046326",
   "metadata": {},
   "outputs": [],
   "source": [
    "svr_kernel_parameters={\n",
    "    'C':np.logspace(-2, 3, 6),\n",
    "    'gamma':np.logspace(-2, 1, 4),\n",
    "    'kernel':['rbf','linear'],   #,'poly','sigmoid'\n",
    "    \n",
    "}"
   ]
  },
  {
   "cell_type": "code",
   "execution_count": 92,
   "id": "e5c5f3b4",
   "metadata": {},
   "outputs": [
    {
     "name": "stdout",
     "output_type": "stream",
     "text": [
      "Durée d'exécution de gridCV: 49324.211119413376s\n"
     ]
    }
   ],
   "source": [
    "svr_kernel_grid=gridCV(SVR(),svr_kernel_parameters,X_train,y_train,5)"
   ]
  },
  {
   "cell_type": "code",
   "execution_count": 93,
   "id": "e842896e",
   "metadata": {},
   "outputs": [
    {
     "name": "stdout",
     "output_type": "stream",
     "text": [
      "Durée d'exécution de resultats_grid: 0.2663142681121826s\n"
     ]
    }
   ],
   "source": [
    "optimi_svr_kernel=resultats_grid(svr_kernel_grid,'KernelSVR',X_train,y_train)\n",
    "optimisation=pd.concat([optimisation,optimi_svr_kernel],ignore_index=True)"
   ]
  },
  {
   "cell_type": "code",
   "execution_count": 94,
   "id": "38c0f3c6",
   "metadata": {},
   "outputs": [
    {
     "data": {
      "text/html": [
       "<style  type=\"text/css\" >\n",
       "</style><table id=\"T_76b4b_\" ><thead>    <tr>        <th class=\"col_heading level0 col0\" >modèle</th>        <th class=\"col_heading level0 col1\" >Fit time</th>        <th class=\"col_heading level0 col2\" >Score time</th>        <th class=\"col_heading level0 col3\" >Mean train score RMSE</th>        <th class=\"col_heading level0 col4\" >Mean test score RMSE</th>        <th class=\"col_heading level0 col5\" >Best estimator</th>        <th class=\"col_heading level0 col6\" >RMSE best estimator</th>    </tr></thead><tbody>\n",
       "                <tr>\n",
       "                                <td id=\"T_76b4b_row0_col0\" class=\"data row0 col0\" >Linear regression</td>\n",
       "                        <td id=\"T_76b4b_row0_col1\" class=\"data row0 col1\" >0.004736</td>\n",
       "                        <td id=\"T_76b4b_row0_col2\" class=\"data row0 col2\" >0.002367</td>\n",
       "                        <td id=\"T_76b4b_row0_col3\" class=\"data row0 col3\" >1.170324</td>\n",
       "                        <td id=\"T_76b4b_row0_col4\" class=\"data row0 col4\" >1.202575</td>\n",
       "                        <td id=\"T_76b4b_row0_col5\" class=\"data row0 col5\" >{'fit_intercept': True}</td>\n",
       "                        <td id=\"T_76b4b_row0_col6\" class=\"data row0 col6\" >0.389351</td>\n",
       "            </tr>\n",
       "            <tr>\n",
       "                                <td id=\"T_76b4b_row1_col0\" class=\"data row1 col0\" >ElasticNet</td>\n",
       "                        <td id=\"T_76b4b_row1_col1\" class=\"data row1 col1\" >0.004920</td>\n",
       "                        <td id=\"T_76b4b_row1_col2\" class=\"data row1 col2\" >0.001980</td>\n",
       "                        <td id=\"T_76b4b_row1_col3\" class=\"data row1 col3\" >0.547042</td>\n",
       "                        <td id=\"T_76b4b_row1_col4\" class=\"data row1 col4\" >0.547401</td>\n",
       "                        <td id=\"T_76b4b_row1_col5\" class=\"data row1 col5\" >{'alpha': 0.001, 'l1_ratio': 0.9}</td>\n",
       "                        <td id=\"T_76b4b_row1_col6\" class=\"data row1 col6\" >0.389624</td>\n",
       "            </tr>\n",
       "            <tr>\n",
       "                                <td id=\"T_76b4b_row2_col0\" class=\"data row2 col0\" >RandomForest</td>\n",
       "                        <td id=\"T_76b4b_row2_col1\" class=\"data row2 col1\" >5.757202</td>\n",
       "                        <td id=\"T_76b4b_row2_col2\" class=\"data row2 col2\" >0.192828</td>\n",
       "                        <td id=\"T_76b4b_row2_col3\" class=\"data row2 col3\" >0.197999</td>\n",
       "                        <td id=\"T_76b4b_row2_col4\" class=\"data row2 col4\" >0.321768</td>\n",
       "                        <td id=\"T_76b4b_row2_col5\" class=\"data row2 col5\" >{'bootstrap': True, 'max_depth': 50, 'max_features': 'sqrt', 'min_samples_leaf': 1, 'min_samples_split': 1, 'n_estimators': 1800}</td>\n",
       "                        <td id=\"T_76b4b_row2_col6\" class=\"data row2 col6\" >0.115707</td>\n",
       "            </tr>\n",
       "            <tr>\n",
       "                                <td id=\"T_76b4b_row3_col0\" class=\"data row3 col0\" >BaggingRegressor</td>\n",
       "                        <td id=\"T_76b4b_row3_col1\" class=\"data row3 col1\" >0.506557</td>\n",
       "                        <td id=\"T_76b4b_row3_col2\" class=\"data row3 col2\" >0.010730</td>\n",
       "                        <td id=\"T_76b4b_row3_col3\" class=\"data row3 col3\" >0.131273</td>\n",
       "                        <td id=\"T_76b4b_row3_col4\" class=\"data row3 col4\" >0.341911</td>\n",
       "                        <td id=\"T_76b4b_row3_col5\" class=\"data row3 col5\" >{'bootstrap': False, 'bootstrap_features': True, 'max_features': 1.0, 'max_samples': 0.5, 'n_estimators': 100}</td>\n",
       "                        <td id=\"T_76b4b_row3_col6\" class=\"data row3 col6\" >0.163183</td>\n",
       "            </tr>\n",
       "            <tr>\n",
       "                                <td id=\"T_76b4b_row4_col0\" class=\"data row4 col0\" >LinearSVR</td>\n",
       "                        <td id=\"T_76b4b_row4_col1\" class=\"data row4 col1\" >0.010221</td>\n",
       "                        <td id=\"T_76b4b_row4_col2\" class=\"data row4 col2\" >0.002118</td>\n",
       "                        <td id=\"T_76b4b_row4_col3\" class=\"data row4 col3\" >2.197674</td>\n",
       "                        <td id=\"T_76b4b_row4_col4\" class=\"data row4 col4\" >2.207417</td>\n",
       "                        <td id=\"T_76b4b_row4_col5\" class=\"data row4 col5\" >{'C': 1.0, 'epsilon': 0.01, 'loss': 'squared_epsilon_insensitive'}</td>\n",
       "                        <td id=\"T_76b4b_row4_col6\" class=\"data row4 col6\" >0.389472</td>\n",
       "            </tr>\n",
       "            <tr>\n",
       "                                <td id=\"T_76b4b_row5_col0\" class=\"data row5 col0\" >KernelSVR</td>\n",
       "                        <td id=\"T_76b4b_row5_col1\" class=\"data row5 col1\" >205.425786</td>\n",
       "                        <td id=\"T_76b4b_row5_col2\" class=\"data row5 col2\" >0.020729</td>\n",
       "                        <td id=\"T_76b4b_row5_col3\" class=\"data row5 col3\" >0.330759</td>\n",
       "                        <td id=\"T_76b4b_row5_col4\" class=\"data row5 col4\" >0.442608</td>\n",
       "                        <td id=\"T_76b4b_row5_col5\" class=\"data row5 col5\" >{'C': 10.0, 'gamma': 0.01, 'kernel': 'rbf'}</td>\n",
       "                        <td id=\"T_76b4b_row5_col6\" class=\"data row5 col6\" >0.307872</td>\n",
       "            </tr>\n",
       "    </tbody></table>"
      ],
      "text/plain": [
       "<pandas.io.formats.style.Styler at 0x1f4e3a15dc0>"
      ]
     },
     "execution_count": 94,
     "metadata": {},
     "output_type": "execute_result"
    }
   ],
   "source": [
    "optimisation.style.hide_index()"
   ]
  },
  {
   "cell_type": "code",
   "execution_count": 95,
   "id": "809858fa",
   "metadata": {},
   "outputs": [
    {
     "data": {
      "image/png": "[encoded data removed]",
      "text/plain": [
       "<Figure size 720x720 with 1 Axes>"
      ]
     },
     "metadata": {
      "needs_background": "light"
     },
     "output_type": "display_data"
    }
   ],
   "source": [
    "y_pred=svr_kernel_grid.predict(X_test)\n",
    "plt.figure(figsize=(10,10))\n",
    "plt.scatter(y_test, y_pred, c='crimson')\n",
    "plt.yscale('log')\n",
    "plt.xscale('log')\n",
    "\n",
    "p1 = max(max(y_pred), max(y_test))\n",
    "p2 = min(min(y_pred), min(y_test))\n",
    "plt.plot([p1, p2], [p1, p2], 'b-')\n",
    "plt.xlabel('y Values', fontsize=15)\n",
    "plt.ylabel('Predictions', fontsize=15)\n",
    "plt.axis('equal')\n",
    "plt.show()"
   ]
  },
  {
   "cell_type": "markdown",
   "id": "2ff1b38f",
   "metadata": {},
   "source": [
    "### 3.7 Gradient Boosting"
   ]
  },
  {
   "cell_type": "code",
   "execution_count": 96,
   "id": "ca949658",
   "metadata": {},
   "outputs": [],
   "source": [
    "Grad_Boosting_parameters = {\n",
    "    'loss': ['ls', 'lad','huber','quantile'],\n",
    "    'learning_rate': [0.05,0.1, 0.2,0.3],\n",
    "    'max_depth': [2,3,4,5]\n",
    "} "
   ]
  },
  {
   "cell_type": "code",
   "execution_count": 97,
   "id": "acd5f6f4",
   "metadata": {},
   "outputs": [
    {
     "name": "stdout",
     "output_type": "stream",
     "text": [
      "Durée d'exécution de gridCV: 147.50433111190796s\n"
     ]
    }
   ],
   "source": [
    "gb_grid = gridCV(GradientBoostingRegressor(), Grad_Boosting_parameters,X_train, y_train,5)"
   ]
  },
  {
   "cell_type": "code",
   "execution_count": 98,
   "id": "5e67dda9",
   "metadata": {},
   "outputs": [
    {
     "name": "stdout",
     "output_type": "stream",
     "text": [
      "Durée d'exécution de resultats_grid: 0.014621973037719727s\n"
     ]
    }
   ],
   "source": [
    "optimi_gb=resultats_grid(gb_grid,'GradientBoostingRegressor',X_train,y_train)\n",
    "optimisation=pd.concat([optimisation,optimi_gb],ignore_index=True)"
   ]
  },
  {
   "cell_type": "code",
   "execution_count": 99,
   "id": "8c15fcc6",
   "metadata": {},
   "outputs": [
    {
     "data": {
      "text/html": [
       "<style  type=\"text/css\" >\n",
       "</style><table id=\"T_bccec_\" ><thead>    <tr>        <th class=\"col_heading level0 col0\" >modèle</th>        <th class=\"col_heading level0 col1\" >Fit time</th>        <th class=\"col_heading level0 col2\" >Score time</th>        <th class=\"col_heading level0 col3\" >Mean train score RMSE</th>        <th class=\"col_heading level0 col4\" >Mean test score RMSE</th>        <th class=\"col_heading level0 col5\" >Best estimator</th>        <th class=\"col_heading level0 col6\" >RMSE best estimator</th>    </tr></thead><tbody>\n",
       "                <tr>\n",
       "                                <td id=\"T_bccec_row0_col0\" class=\"data row0 col0\" >Linear regression</td>\n",
       "                        <td id=\"T_bccec_row0_col1\" class=\"data row0 col1\" >0.004736</td>\n",
       "                        <td id=\"T_bccec_row0_col2\" class=\"data row0 col2\" >0.002367</td>\n",
       "                        <td id=\"T_bccec_row0_col3\" class=\"data row0 col3\" >1.170324</td>\n",
       "                        <td id=\"T_bccec_row0_col4\" class=\"data row0 col4\" >1.202575</td>\n",
       "                        <td id=\"T_bccec_row0_col5\" class=\"data row0 col5\" >{'fit_intercept': True}</td>\n",
       "                        <td id=\"T_bccec_row0_col6\" class=\"data row0 col6\" >0.389351</td>\n",
       "            </tr>\n",
       "            <tr>\n",
       "                                <td id=\"T_bccec_row1_col0\" class=\"data row1 col0\" >ElasticNet</td>\n",
       "                        <td id=\"T_bccec_row1_col1\" class=\"data row1 col1\" >0.004920</td>\n",
       "                        <td id=\"T_bccec_row1_col2\" class=\"data row1 col2\" >0.001980</td>\n",
       "                        <td id=\"T_bccec_row1_col3\" class=\"data row1 col3\" >0.547042</td>\n",
       "                        <td id=\"T_bccec_row1_col4\" class=\"data row1 col4\" >0.547401</td>\n",
       "                        <td id=\"T_bccec_row1_col5\" class=\"data row1 col5\" >{'alpha': 0.001, 'l1_ratio': 0.9}</td>\n",
       "                        <td id=\"T_bccec_row1_col6\" class=\"data row1 col6\" >0.389624</td>\n",
       "            </tr>\n",
       "            <tr>\n",
       "                                <td id=\"T_bccec_row2_col0\" class=\"data row2 col0\" >RandomForest</td>\n",
       "                        <td id=\"T_bccec_row2_col1\" class=\"data row2 col1\" >5.757202</td>\n",
       "                        <td id=\"T_bccec_row2_col2\" class=\"data row2 col2\" >0.192828</td>\n",
       "                        <td id=\"T_bccec_row2_col3\" class=\"data row2 col3\" >0.197999</td>\n",
       "                        <td id=\"T_bccec_row2_col4\" class=\"data row2 col4\" >0.321768</td>\n",
       "                        <td id=\"T_bccec_row2_col5\" class=\"data row2 col5\" >{'bootstrap': True, 'max_depth': 50, 'max_features': 'sqrt', 'min_samples_leaf': 1, 'min_samples_split': 1, 'n_estimators': 1800}</td>\n",
       "                        <td id=\"T_bccec_row2_col6\" class=\"data row2 col6\" >0.115707</td>\n",
       "            </tr>\n",
       "            <tr>\n",
       "                                <td id=\"T_bccec_row3_col0\" class=\"data row3 col0\" >BaggingRegressor</td>\n",
       "                        <td id=\"T_bccec_row3_col1\" class=\"data row3 col1\" >0.506557</td>\n",
       "                        <td id=\"T_bccec_row3_col2\" class=\"data row3 col2\" >0.010730</td>\n",
       "                        <td id=\"T_bccec_row3_col3\" class=\"data row3 col3\" >0.131273</td>\n",
       "                        <td id=\"T_bccec_row3_col4\" class=\"data row3 col4\" >0.341911</td>\n",
       "                        <td id=\"T_bccec_row3_col5\" class=\"data row3 col5\" >{'bootstrap': False, 'bootstrap_features': True, 'max_features': 1.0, 'max_samples': 0.5, 'n_estimators': 100}</td>\n",
       "                        <td id=\"T_bccec_row3_col6\" class=\"data row3 col6\" >0.163183</td>\n",
       "            </tr>\n",
       "            <tr>\n",
       "                                <td id=\"T_bccec_row4_col0\" class=\"data row4 col0\" >LinearSVR</td>\n",
       "                        <td id=\"T_bccec_row4_col1\" class=\"data row4 col1\" >0.010221</td>\n",
       "                        <td id=\"T_bccec_row4_col2\" class=\"data row4 col2\" >0.002118</td>\n",
       "                        <td id=\"T_bccec_row4_col3\" class=\"data row4 col3\" >2.197674</td>\n",
       "                        <td id=\"T_bccec_row4_col4\" class=\"data row4 col4\" >2.207417</td>\n",
       "                        <td id=\"T_bccec_row4_col5\" class=\"data row4 col5\" >{'C': 1.0, 'epsilon': 0.01, 'loss': 'squared_epsilon_insensitive'}</td>\n",
       "                        <td id=\"T_bccec_row4_col6\" class=\"data row4 col6\" >0.389472</td>\n",
       "            </tr>\n",
       "            <tr>\n",
       "                                <td id=\"T_bccec_row5_col0\" class=\"data row5 col0\" >KernelSVR</td>\n",
       "                        <td id=\"T_bccec_row5_col1\" class=\"data row5 col1\" >205.425786</td>\n",
       "                        <td id=\"T_bccec_row5_col2\" class=\"data row5 col2\" >0.020729</td>\n",
       "                        <td id=\"T_bccec_row5_col3\" class=\"data row5 col3\" >0.330759</td>\n",
       "                        <td id=\"T_bccec_row5_col4\" class=\"data row5 col4\" >0.442608</td>\n",
       "                        <td id=\"T_bccec_row5_col5\" class=\"data row5 col5\" >{'C': 10.0, 'gamma': 0.01, 'kernel': 'rbf'}</td>\n",
       "                        <td id=\"T_bccec_row5_col6\" class=\"data row5 col6\" >0.307872</td>\n",
       "            </tr>\n",
       "            <tr>\n",
       "                                <td id=\"T_bccec_row6_col0\" class=\"data row6 col0\" >GradientBoostingRegressor</td>\n",
       "                        <td id=\"T_bccec_row6_col1\" class=\"data row6 col1\" >0.452391</td>\n",
       "                        <td id=\"T_bccec_row6_col2\" class=\"data row6 col2\" >0.001839</td>\n",
       "                        <td id=\"T_bccec_row6_col3\" class=\"data row6 col3\" >0.359265</td>\n",
       "                        <td id=\"T_bccec_row6_col4\" class=\"data row6 col4\" >0.426602</td>\n",
       "                        <td id=\"T_bccec_row6_col5\" class=\"data row6 col5\" >{'learning_rate': 0.1, 'loss': 'huber', 'max_depth': 3}</td>\n",
       "                        <td id=\"T_bccec_row6_col6\" class=\"data row6 col6\" >0.257549</td>\n",
       "            </tr>\n",
       "    </tbody></table>"
      ],
      "text/plain": [
       "<pandas.io.formats.style.Styler at 0x1f4ffe3aac0>"
      ]
     },
     "execution_count": 99,
     "metadata": {},
     "output_type": "execute_result"
    }
   ],
   "source": [
    "optimisation.style.hide_index()"
   ]
  },
  {
   "cell_type": "code",
   "execution_count": 100,
   "id": "c076c99a",
   "metadata": {},
   "outputs": [
    {
     "data": {
      "image/png": "[encoded data removed]",
      "text/plain": [
       "<Figure size 720x720 with 1 Axes>"
      ]
     },
     "metadata": {
      "needs_background": "light"
     },
     "output_type": "display_data"
    }
   ],
   "source": [
    "y_pred=gb_grid.predict(X_test)\n",
    "plt.figure(figsize=(10,10))\n",
    "plt.scatter(y_test, y_pred, c='crimson')\n",
    "plt.yscale('log')\n",
    "plt.xscale('log')\n",
    "\n",
    "p1 = max(max(y_pred), max(y_test))\n",
    "p2 = min(min(y_pred), min(y_test))\n",
    "plt.plot([p1, p2], [p1, p2], 'b-')\n",
    "plt.xlabel('y Values', fontsize=15)\n",
    "plt.ylabel('Predictions', fontsize=15)\n",
    "plt.axis('equal')\n",
    "plt.show()"
   ]
  },
  {
   "cell_type": "markdown",
   "id": "af0bd008",
   "metadata": {},
   "source": [
    "### 3.8 KNN"
   ]
  },
  {
   "cell_type": "code",
   "execution_count": 101,
   "id": "83fd00e0",
   "metadata": {},
   "outputs": [],
   "source": [
    "knn_parameters = {\n",
    "    'n_neighbors': np.arange(2,20,1)   \n",
    "} "
   ]
  },
  {
   "cell_type": "code",
   "execution_count": 102,
   "id": "0037b3c3",
   "metadata": {},
   "outputs": [
    {
     "name": "stdout",
     "output_type": "stream",
     "text": [
      "Durée d'exécution de gridCV: 5.5684356689453125s\n"
     ]
    }
   ],
   "source": [
    "knn_grid = gridCV(KNeighborsRegressor(),knn_parameters,X_train, y_train,5)"
   ]
  },
  {
   "cell_type": "code",
   "execution_count": 103,
   "id": "cbf8a749",
   "metadata": {},
   "outputs": [
    {
     "name": "stdout",
     "output_type": "stream",
     "text": [
      "Durée d'exécution de resultats_grid: 0.04434943199157715s\n"
     ]
    },
    {
     "data": {
      "text/html": [
       "<style  type=\"text/css\" >\n",
       "</style><table id=\"T_e1c5a_\" ><thead>    <tr>        <th class=\"col_heading level0 col0\" >modèle</th>        <th class=\"col_heading level0 col1\" >Fit time</th>        <th class=\"col_heading level0 col2\" >Score time</th>        <th class=\"col_heading level0 col3\" >Mean train score RMSE</th>        <th class=\"col_heading level0 col4\" >Mean test score RMSE</th>        <th class=\"col_heading level0 col5\" >Best estimator</th>        <th class=\"col_heading level0 col6\" >RMSE best estimator</th>    </tr></thead><tbody>\n",
       "                <tr>\n",
       "                                <td id=\"T_e1c5a_row0_col0\" class=\"data row0 col0\" >Linear regression</td>\n",
       "                        <td id=\"T_e1c5a_row0_col1\" class=\"data row0 col1\" >0.004736</td>\n",
       "                        <td id=\"T_e1c5a_row0_col2\" class=\"data row0 col2\" >0.002367</td>\n",
       "                        <td id=\"T_e1c5a_row0_col3\" class=\"data row0 col3\" >1.170324</td>\n",
       "                        <td id=\"T_e1c5a_row0_col4\" class=\"data row0 col4\" >1.202575</td>\n",
       "                        <td id=\"T_e1c5a_row0_col5\" class=\"data row0 col5\" >{'fit_intercept': True}</td>\n",
       "                        <td id=\"T_e1c5a_row0_col6\" class=\"data row0 col6\" >0.389351</td>\n",
       "            </tr>\n",
       "            <tr>\n",
       "                                <td id=\"T_e1c5a_row1_col0\" class=\"data row1 col0\" >ElasticNet</td>\n",
       "                        <td id=\"T_e1c5a_row1_col1\" class=\"data row1 col1\" >0.004920</td>\n",
       "                        <td id=\"T_e1c5a_row1_col2\" class=\"data row1 col2\" >0.001980</td>\n",
       "                        <td id=\"T_e1c5a_row1_col3\" class=\"data row1 col3\" >0.547042</td>\n",
       "                        <td id=\"T_e1c5a_row1_col4\" class=\"data row1 col4\" >0.547401</td>\n",
       "                        <td id=\"T_e1c5a_row1_col5\" class=\"data row1 col5\" >{'alpha': 0.001, 'l1_ratio': 0.9}</td>\n",
       "                        <td id=\"T_e1c5a_row1_col6\" class=\"data row1 col6\" >0.389624</td>\n",
       "            </tr>\n",
       "            <tr>\n",
       "                                <td id=\"T_e1c5a_row2_col0\" class=\"data row2 col0\" >RandomForest</td>\n",
       "                        <td id=\"T_e1c5a_row2_col1\" class=\"data row2 col1\" >5.757202</td>\n",
       "                        <td id=\"T_e1c5a_row2_col2\" class=\"data row2 col2\" >0.192828</td>\n",
       "                        <td id=\"T_e1c5a_row2_col3\" class=\"data row2 col3\" >0.197999</td>\n",
       "                        <td id=\"T_e1c5a_row2_col4\" class=\"data row2 col4\" >0.321768</td>\n",
       "                        <td id=\"T_e1c5a_row2_col5\" class=\"data row2 col5\" >{'bootstrap': True, 'max_depth': 50, 'max_features': 'sqrt', 'min_samples_leaf': 1, 'min_samples_split': 1, 'n_estimators': 1800}</td>\n",
       "                        <td id=\"T_e1c5a_row2_col6\" class=\"data row2 col6\" >0.115707</td>\n",
       "            </tr>\n",
       "            <tr>\n",
       "                                <td id=\"T_e1c5a_row3_col0\" class=\"data row3 col0\" >BaggingRegressor</td>\n",
       "                        <td id=\"T_e1c5a_row3_col1\" class=\"data row3 col1\" >0.506557</td>\n",
       "                        <td id=\"T_e1c5a_row3_col2\" class=\"data row3 col2\" >0.010730</td>\n",
       "                        <td id=\"T_e1c5a_row3_col3\" class=\"data row3 col3\" >0.131273</td>\n",
       "                        <td id=\"T_e1c5a_row3_col4\" class=\"data row3 col4\" >0.341911</td>\n",
       "                        <td id=\"T_e1c5a_row3_col5\" class=\"data row3 col5\" >{'bootstrap': False, 'bootstrap_features': True, 'max_features': 1.0, 'max_samples': 0.5, 'n_estimators': 100}</td>\n",
       "                        <td id=\"T_e1c5a_row3_col6\" class=\"data row3 col6\" >0.163183</td>\n",
       "            </tr>\n",
       "            <tr>\n",
       "                                <td id=\"T_e1c5a_row4_col0\" class=\"data row4 col0\" >LinearSVR</td>\n",
       "                        <td id=\"T_e1c5a_row4_col1\" class=\"data row4 col1\" >0.010221</td>\n",
       "                        <td id=\"T_e1c5a_row4_col2\" class=\"data row4 col2\" >0.002118</td>\n",
       "                        <td id=\"T_e1c5a_row4_col3\" class=\"data row4 col3\" >2.197674</td>\n",
       "                        <td id=\"T_e1c5a_row4_col4\" class=\"data row4 col4\" >2.207417</td>\n",
       "                        <td id=\"T_e1c5a_row4_col5\" class=\"data row4 col5\" >{'C': 1.0, 'epsilon': 0.01, 'loss': 'squared_epsilon_insensitive'}</td>\n",
       "                        <td id=\"T_e1c5a_row4_col6\" class=\"data row4 col6\" >0.389472</td>\n",
       "            </tr>\n",
       "            <tr>\n",
       "                                <td id=\"T_e1c5a_row5_col0\" class=\"data row5 col0\" >KernelSVR</td>\n",
       "                        <td id=\"T_e1c5a_row5_col1\" class=\"data row5 col1\" >205.425786</td>\n",
       "                        <td id=\"T_e1c5a_row5_col2\" class=\"data row5 col2\" >0.020729</td>\n",
       "                        <td id=\"T_e1c5a_row5_col3\" class=\"data row5 col3\" >0.330759</td>\n",
       "                        <td id=\"T_e1c5a_row5_col4\" class=\"data row5 col4\" >0.442608</td>\n",
       "                        <td id=\"T_e1c5a_row5_col5\" class=\"data row5 col5\" >{'C': 10.0, 'gamma': 0.01, 'kernel': 'rbf'}</td>\n",
       "                        <td id=\"T_e1c5a_row5_col6\" class=\"data row5 col6\" >0.307872</td>\n",
       "            </tr>\n",
       "            <tr>\n",
       "                                <td id=\"T_e1c5a_row6_col0\" class=\"data row6 col0\" >GradientBoostingRegressor</td>\n",
       "                        <td id=\"T_e1c5a_row6_col1\" class=\"data row6 col1\" >0.452391</td>\n",
       "                        <td id=\"T_e1c5a_row6_col2\" class=\"data row6 col2\" >0.001839</td>\n",
       "                        <td id=\"T_e1c5a_row6_col3\" class=\"data row6 col3\" >0.359265</td>\n",
       "                        <td id=\"T_e1c5a_row6_col4\" class=\"data row6 col4\" >0.426602</td>\n",
       "                        <td id=\"T_e1c5a_row6_col5\" class=\"data row6 col5\" >{'learning_rate': 0.1, 'loss': 'huber', 'max_depth': 3}</td>\n",
       "                        <td id=\"T_e1c5a_row6_col6\" class=\"data row6 col6\" >0.257549</td>\n",
       "            </tr>\n",
       "            <tr>\n",
       "                                <td id=\"T_e1c5a_row7_col0\" class=\"data row7 col0\" >KNeighborsRegressor</td>\n",
       "                        <td id=\"T_e1c5a_row7_col1\" class=\"data row7 col1\" >0.003298</td>\n",
       "                        <td id=\"T_e1c5a_row7_col2\" class=\"data row7 col2\" >0.026985</td>\n",
       "                        <td id=\"T_e1c5a_row7_col3\" class=\"data row7 col3\" >0.357072</td>\n",
       "                        <td id=\"T_e1c5a_row7_col4\" class=\"data row7 col4\" >0.415118</td>\n",
       "                        <td id=\"T_e1c5a_row7_col5\" class=\"data row7 col5\" >{'n_neighbors': 9}</td>\n",
       "                        <td id=\"T_e1c5a_row7_col6\" class=\"data row7 col6\" >0.359129</td>\n",
       "            </tr>\n",
       "    </tbody></table>"
      ],
      "text/plain": [
       "<pandas.io.formats.style.Styler at 0x1f4ffe4de80>"
      ]
     },
     "execution_count": 103,
     "metadata": {},
     "output_type": "execute_result"
    }
   ],
   "source": [
    "optimi_knn=resultats_grid(knn_grid,'KNeighborsRegressor',X_train,y_train)\n",
    "optimisation=pd.concat([optimisation,optimi_knn],ignore_index=True)\n",
    "optimisation.style.hide_index()"
   ]
  },
  {
   "cell_type": "code",
   "execution_count": 104,
   "id": "0ed2105f",
   "metadata": {},
   "outputs": [],
   "source": [
    "#instanciation et définition du k\n",
    "K = [] \n",
    "training = [] \n",
    "test = [] \n",
    "scores = {} \n",
    "  \n",
    "for k in range(2, 20): \n",
    "    knn = KNeighborsRegressor(n_neighbors = k) \n",
    "    knn.fit(X_train,y_train)\n",
    "    training_score = knn.score(X_train,y_train) \n",
    "    test_score = knn.score(X_test, y_test) \n",
    "    K.append(k) \n",
    "  \n",
    "    training.append(training_score) \n",
    "    test.append(test_score) \n",
    "    scores[k] = [training_score, test_score] \n",
    "    "
   ]
  },
  {
   "cell_type": "code",
   "execution_count": 105,
   "id": "32e3cd9b",
   "metadata": {},
   "outputs": [
    {
     "name": "stdout",
     "output_type": "stream",
     "text": [
      "2 : [0.801680014824671, 0.3662396077749561]\n",
      "3 : [0.7273776678214469, 0.3974207029693616]\n",
      "4 : [0.6789593531614958, 0.4446198356456289]\n",
      "5 : [0.6438245277401141, 0.47720181328629774]\n",
      "6 : [0.6271743091977448, 0.48833236083803044]\n",
      "7 : [0.6175874450613774, 0.48222504361325136]\n",
      "8 : [0.6042676843137076, 0.47369590734875877]\n",
      "9 : [0.5935994626554825, 0.4755818063284415]\n",
      "10 : [0.5826824769500439, 0.4741248121823638]\n",
      "11 : [0.5771678348112607, 0.4638222665582422]\n",
      "12 : [0.5702236962699349, 0.47109841981719025]\n",
      "13 : [0.564626004634213, 0.47831221546166314]\n",
      "14 : [0.5559068510913444, 0.4761678291171867]\n",
      "15 : [0.5474620750487216, 0.47900688013808934]\n",
      "16 : [0.5447113288680496, 0.47734248066040685]\n",
      "17 : [0.5414051382507442, 0.4796475860446511]\n",
      "18 : [0.539694509816558, 0.4774515647858497]\n",
      "19 : [0.5340731282831142, 0.476990052438203]\n"
     ]
    }
   ],
   "source": [
    "for keys, values in scores.items(): \n",
    "    print(keys, ':', values)"
   ]
  },
  {
   "cell_type": "code",
   "execution_count": 106,
   "id": "96bf12de",
   "metadata": {},
   "outputs": [
    {
     "data": {
      "image/png": "[encoded data removed]",
      "text/plain": [
       "<Figure size 432x288 with 1 Axes>"
      ]
     },
     "metadata": {
      "needs_background": "light"
     },
     "output_type": "display_data"
    }
   ],
   "source": [
    "#for keys, values in scores.items():\n",
    "    #print(keys, ':', values)\n",
    "plt.scatter(K, training, color ='k',label=\"training set\") \n",
    "plt.scatter(K, test, color ='g',label='test set')\n",
    "plt.xlabel('values of k')\n",
    "plt.ylabel('score')\n",
    "plt.legend()\n",
    "plt.show() "
   ]
  },
  {
   "cell_type": "code",
   "execution_count": 107,
   "id": "85e1516d",
   "metadata": {},
   "outputs": [
    {
     "data": {
      "image/png": "[encoded data removed]",
      "text/plain": [
       "<Figure size 720x720 with 1 Axes>"
      ]
     },
     "metadata": {
      "needs_background": "light"
     },
     "output_type": "display_data"
    }
   ],
   "source": [
    "y_pred=knn_grid.predict(X_test)\n",
    "plt.figure(figsize=(10,10))\n",
    "plt.scatter(y_test, y_pred, c='crimson')\n",
    "plt.yscale('log')\n",
    "plt.xscale('log')\n",
    "\n",
    "p1 = max(max(y_pred), max(y_test))\n",
    "p2 = min(min(y_pred), min(y_test))\n",
    "plt.plot([p1, p2], [p1, p2], 'b-')\n",
    "plt.xlabel('y Values', fontsize=15)\n",
    "plt.ylabel('Predictions', fontsize=15)\n",
    "plt.axis('equal')\n",
    "plt.show()"
   ]
  },
  {
   "cell_type": "code",
   "execution_count": 140,
   "id": "05e6e492",
   "metadata": {},
   "outputs": [],
   "source": [
    "@timeit\n",
    "def affiche_modelisations(data, name):\n",
    "    x = np.arange(len(data.index))\n",
    "    width = 0.35\n",
    "\n",
    "    fig, ax = plt.subplots(2,1,figsize=(20,12), sharey=False, sharex=False)\n",
    "\n",
    "    scores1 = ax[0].bar(x - width/2, data['Mean train score RMSE'], width, label='Train')\n",
    "    scores2 = ax[0].bar(x + width/2, data['Mean test score RMSE'], width, label='Test')\n",
    "    ax[0].set_ylabel('Root Mean Squared Error')\n",
    "    ax[0].set_title('Comparaison des scores sur le train et le test set par modèle')\n",
    "    ax[0].set_xticks(x)\n",
    "    ax[0].set_xticklabels(data['modèle'])\n",
    "    ax[0].legend()\n",
    "    ax[0].bar_label(scores1, padding=3)\n",
    "    ax[0].bar_label(scores2, padding=3)\n",
    "\n",
    "    times1 = ax[1].bar(x - width/2, data['Fit time'], width, label='fit time')\n",
    "    times2 = ax[1].bar(x + width/2, data['Score time'], width, label='score time')\n",
    "    ax[1].set_ylabel('temps(s)')\n",
    "    ax[1].set_title(\"Comparaison des temps d'entrainement et de prédiction\")\n",
    "    ax[1].set_xticks(x)\n",
    "    ax[1].set_xticklabels(data['modèle'])\n",
    "    ax[1].legend()\n",
    "    ax[1].bar_label(times1, padding=3, fmt='%.3f')\n",
    "    ax[1].bar_label(times2, padding=3, fmt='%.3f')\n",
    "\n",
    "    plt.suptitle(f\"Modélisations pour la cible {name} \", fontsize=22)\n",
    "    fig.tight_layout()\n",
    "\n",
    "    plt.show()"
   ]
  },
  {
   "cell_type": "markdown",
   "id": "7d7ff53c",
   "metadata": {},
   "source": [
    "#  4. Comparaison des modèles"
   ]
  },
  {
   "cell_type": "markdown",
   "id": "07dafb30",
   "metadata": {},
   "source": [
    "### 4.1 Graphiques comparatifs des RMSE et des temps d'exécution."
   ]
  },
  {
   "cell_type": "code",
   "execution_count": 109,
   "id": "a50006d0",
   "metadata": {},
   "outputs": [
    {
     "data": {
      "image/png": "[encoded data removed]",
      "text/plain": [
       "<Figure size 1440x864 with 2 Axes>"
      ]
     },
     "metadata": {
      "needs_background": "light"
     },
     "output_type": "display_data"
    },
    {
     "name": "stdout",
     "output_type": "stream",
     "text": [
      "Durée d'exécution de affiche_modelisations: 1.0407757759094238s\n"
     ]
    }
   ],
   "source": [
    "affiche_modelisations(optimisation, \"consommation d'énergie\")"
   ]
  },
  {
   "cell_type": "code",
   "execution_count": 110,
   "id": "60197f2b",
   "metadata": {},
   "outputs": [
    {
     "name": "stdout",
     "output_type": "stream",
     "text": [
      "RandomForestRegressor(max_depth=50, max_features='sqrt', min_samples_split=1,\n",
      "                      n_estimators=1800)\n",
      "-0.31655780286198876\n"
     ]
    }
   ],
   "source": [
    "rf_conso_best = rf_grid.best_estimator_\n",
    "print(rf_conso_best)\n",
    "print(rf_grid.best_score_)"
   ]
  },
  {
   "cell_type": "markdown",
   "id": "023a569a",
   "metadata": {},
   "source": [
    "### 4.2 Importance des variables"
   ]
  },
  {
   "cell_type": "code",
   "execution_count": 111,
   "id": "7540b070",
   "metadata": {},
   "outputs": [],
   "source": [
    "# Affichage des features importance\n",
    "def affic_features_importance_model(model,  X_test, name):\n",
    "    \n",
    "    feat_imp = model.feature_importances_\n",
    "    df_featimp = pd.DataFrame(feat_imp, columns = {\"Feature Importance\"})\n",
    "    df_featimp[\"Feature Name\"] = X_test.columns\n",
    "    df_featimp = df_featimp.sort_values(by=\"Feature Importance\", ascending=True)\n",
    "    display(df_featimp)\n",
    "    \n",
    "    # Affichage Features importance\n",
    "    plt.figure(figsize=(10,7))\n",
    "    plt.barh(df_featimp[\"Feature Name\"], df_featimp[\"Feature Importance\"])\n",
    "    plt.xlabel(\"Feature Importance\")\n",
    "    plt.title(f\"Feature importance pour le modele {name} \")\n",
    "    plt.show()\n",
    "\n",
    "    return None"
   ]
  },
  {
   "cell_type": "code",
   "execution_count": 112,
   "id": "c48e2cb9",
   "metadata": {},
   "outputs": [
    {
     "data": {
      "text/html": [
       "<div>\n",
       "<style scoped>\n",
       "    .dataframe tbody tr th:only-of-type {\n",
       "        vertical-align: middle;\n",
       "    }\n",
       "\n",
       "    .dataframe tbody tr th {\n",
       "        vertical-align: top;\n",
       "    }\n",
       "\n",
       "    .dataframe thead th {\n",
       "        text-align: right;\n",
       "    }\n",
       "</style>\n",
       "<table border=\"1\" class=\"dataframe\">\n",
       "  <thead>\n",
       "    <tr style=\"text-align: right;\">\n",
       "      <th></th>\n",
       "      <th>Feature Importance</th>\n",
       "      <th>Feature Name</th>\n",
       "    </tr>\n",
       "  </thead>\n",
       "  <tbody>\n",
       "    <tr>\n",
       "      <th>17</th>\n",
       "      <td>0.003410</td>\n",
       "      <td>Neighborhood_LAKE UNION</td>\n",
       "    </tr>\n",
       "    <tr>\n",
       "      <th>18</th>\n",
       "      <td>0.004158</td>\n",
       "      <td>Neighborhood_MAGNOLIA / QUEEN ANNE</td>\n",
       "    </tr>\n",
       "    <tr>\n",
       "      <th>22</th>\n",
       "      <td>0.004267</td>\n",
       "      <td>SecondLargestPropertyUseType_Office</td>\n",
       "    </tr>\n",
       "    <tr>\n",
       "      <th>24</th>\n",
       "      <td>0.004417</td>\n",
       "      <td>ThirdLargestPropertyUseType_0</td>\n",
       "    </tr>\n",
       "    <tr>\n",
       "      <th>20</th>\n",
       "      <td>0.006278</td>\n",
       "      <td>LargestPropertyUseType_Office</td>\n",
       "    </tr>\n",
       "    <tr>\n",
       "      <th>15</th>\n",
       "      <td>0.006502</td>\n",
       "      <td>Neighborhood_DOWNTOWN</td>\n",
       "    </tr>\n",
       "    <tr>\n",
       "      <th>16</th>\n",
       "      <td>0.007713</td>\n",
       "      <td>Neighborhood_GREATER DUWAMISH</td>\n",
       "    </tr>\n",
       "    <tr>\n",
       "      <th>21</th>\n",
       "      <td>0.008315</td>\n",
       "      <td>SecondLargestPropertyUseType_0</td>\n",
       "    </tr>\n",
       "    <tr>\n",
       "      <th>13</th>\n",
       "      <td>0.008339</td>\n",
       "      <td>PrimaryPropertyType_Small- and Mid-Sized Office</td>\n",
       "    </tr>\n",
       "    <tr>\n",
       "      <th>12</th>\n",
       "      <td>0.009426</td>\n",
       "      <td>PrimaryPropertyType_Other</td>\n",
       "    </tr>\n",
       "    <tr>\n",
       "      <th>8</th>\n",
       "      <td>0.010645</td>\n",
       "      <td>SteamUse_ratio</td>\n",
       "    </tr>\n",
       "    <tr>\n",
       "      <th>23</th>\n",
       "      <td>0.014749</td>\n",
       "      <td>SecondLargestPropertyUseType_Parking</td>\n",
       "    </tr>\n",
       "    <tr>\n",
       "      <th>14</th>\n",
       "      <td>0.017470</td>\n",
       "      <td>PrimaryPropertyType_Warehouse</td>\n",
       "    </tr>\n",
       "    <tr>\n",
       "      <th>19</th>\n",
       "      <td>0.017614</td>\n",
       "      <td>LargestPropertyUseType_Non-Refrigerated Warehouse</td>\n",
       "    </tr>\n",
       "    <tr>\n",
       "      <th>6</th>\n",
       "      <td>0.021845</td>\n",
       "      <td>ratio_parking</td>\n",
       "    </tr>\n",
       "    <tr>\n",
       "      <th>5</th>\n",
       "      <td>0.027643</td>\n",
       "      <td>ThirdLargestPropertyUseTypeGFA</td>\n",
       "    </tr>\n",
       "    <tr>\n",
       "      <th>11</th>\n",
       "      <td>0.027700</td>\n",
       "      <td>PrimaryPropertyType_Large Office</td>\n",
       "    </tr>\n",
       "    <tr>\n",
       "      <th>1</th>\n",
       "      <td>0.045335</td>\n",
       "      <td>Longitude</td>\n",
       "    </tr>\n",
       "    <tr>\n",
       "      <th>10</th>\n",
       "      <td>0.047194</td>\n",
       "      <td>NaturalGas_ratio</td>\n",
       "    </tr>\n",
       "    <tr>\n",
       "      <th>0</th>\n",
       "      <td>0.048135</td>\n",
       "      <td>Latitude</td>\n",
       "    </tr>\n",
       "    <tr>\n",
       "      <th>7</th>\n",
       "      <td>0.059232</td>\n",
       "      <td>Building_age</td>\n",
       "    </tr>\n",
       "    <tr>\n",
       "      <th>9</th>\n",
       "      <td>0.074552</td>\n",
       "      <td>Electricity_ratio</td>\n",
       "    </tr>\n",
       "    <tr>\n",
       "      <th>2</th>\n",
       "      <td>0.104808</td>\n",
       "      <td>NumberofFloors</td>\n",
       "    </tr>\n",
       "    <tr>\n",
       "      <th>4</th>\n",
       "      <td>0.109986</td>\n",
       "      <td>SecondLargestPropertyUseTypeGFA</td>\n",
       "    </tr>\n",
       "    <tr>\n",
       "      <th>3</th>\n",
       "      <td>0.310267</td>\n",
       "      <td>LargestPropertyUseTypeGFA</td>\n",
       "    </tr>\n",
       "  </tbody>\n",
       "</table>\n",
       "</div>"
      ],
      "text/plain": [
       "    Feature Importance                                       Feature Name\n",
       "17            0.003410                            Neighborhood_LAKE UNION\n",
       "18            0.004158                 Neighborhood_MAGNOLIA / QUEEN ANNE\n",
       "22            0.004267                SecondLargestPropertyUseType_Office\n",
       "24            0.004417                      ThirdLargestPropertyUseType_0\n",
       "20            0.006278                      LargestPropertyUseType_Office\n",
       "15            0.006502                              Neighborhood_DOWNTOWN\n",
       "16            0.007713                      Neighborhood_GREATER DUWAMISH\n",
       "21            0.008315                     SecondLargestPropertyUseType_0\n",
       "13            0.008339    PrimaryPropertyType_Small- and Mid-Sized Office\n",
       "12            0.009426                          PrimaryPropertyType_Other\n",
       "8             0.010645                                     SteamUse_ratio\n",
       "23            0.014749               SecondLargestPropertyUseType_Parking\n",
       "14            0.017470                      PrimaryPropertyType_Warehouse\n",
       "19            0.017614  LargestPropertyUseType_Non-Refrigerated Warehouse\n",
       "6             0.021845                                      ratio_parking\n",
       "5             0.027643                     ThirdLargestPropertyUseTypeGFA\n",
       "11            0.027700                   PrimaryPropertyType_Large Office\n",
       "1             0.045335                                          Longitude\n",
       "10            0.047194                                   NaturalGas_ratio\n",
       "0             0.048135                                           Latitude\n",
       "7             0.059232                                       Building_age\n",
       "9             0.074552                                  Electricity_ratio\n",
       "2             0.104808                                     NumberofFloors\n",
       "4             0.109986                    SecondLargestPropertyUseTypeGFA\n",
       "3             0.310267                          LargestPropertyUseTypeGFA"
      ]
     },
     "metadata": {},
     "output_type": "display_data"
    },
    {
     "data": {
      "image/png": "[encoded data removed]",
      "text/plain": [
       "<Figure size 720x504 with 1 Axes>"
      ]
     },
     "metadata": {
      "needs_background": "light"
     },
     "output_type": "display_data"
    }
   ],
   "source": [
    "affic_features_importance_model(rf_conso_best, X_test,\" RF sur la consommation énergétique des bâtiments non résdidentiels \")"
   ]
  },
  {
   "cell_type": "markdown",
   "id": "c789f59a",
   "metadata": {},
   "source": [
    "# 5. Modèle retenu"
   ]
  },
  {
   "cell_type": "markdown",
   "id": "5fc6af8b",
   "metadata": {},
   "source": [
    "> Le modèle retenu est une RandomForest avec les paramètres repris ci-dessous. "
   ]
  },
  {
   "cell_type": "code",
   "execution_count": 146,
   "id": "c04b96a1",
   "metadata": {},
   "outputs": [
    {
     "data": {
      "text/plain": [
       "{'bootstrap': True,\n",
       " 'max_depth': 50,\n",
       " 'max_features': 'sqrt',\n",
       " 'min_samples_leaf': 1,\n",
       " 'min_samples_split': 1,\n",
       " 'n_estimators': 1800}"
      ]
     },
     "execution_count": 146,
     "metadata": {},
     "output_type": "execute_result"
    }
   ],
   "source": [
    "rf_grid.best_params_"
   ]
  },
  {
   "cell_type": "code",
   "execution_count": null,
   "id": "ab1cf4f2",
   "metadata": {},
   "outputs": [],
   "source": []
  },
  {
   "cell_type": "code",
   "execution_count": null,
   "id": "fa807689",
   "metadata": {},
   "outputs": [],
   "source": [
    " "
   ]
  }
 ],
 "metadata": {
  "kernelspec": {
   "display_name": "Python 3 (ipykernel)",
   "language": "python",
   "name": "python3"
  },
  "language_info": {
   "codemirror_mode": {
    "name": "ipython",
    "version": 3
   },
   "file_extension": ".py",
   "mimetype": "text/x-python",
   "name": "python",
   "nbconvert_exporter": "python",
   "pygments_lexer": "ipython3",
   "version": "3.11.4"
  },
  "toc": {
   "base_numbering": 1,
   "nav_menu": {},
   "number_sections": false,
   "sideBar": false,
   "skip_h1_title": false,
   "title_cell": "Modélisation pour la consommation d'énergie des bâtiments non résidentiels de Seattle",
   "title_sidebar": "Contents",
   "toc_cell": true,
   "toc_position": {
    "height": "437.672px",
    "left": "24px",
    "top": "111.125px",
    "width": "310.781px"
   },
   "toc_section_display": true,
   "toc_window_display": true
  }
 },
 "nbformat": 4,
 "nbformat_minor": 5
}
